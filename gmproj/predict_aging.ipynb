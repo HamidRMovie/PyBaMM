{
 "cells": [
  {
   "cell_type": "markdown",
   "metadata": {},
   "source": [
    "# Add expansion output to low-rate aging simulation"
   ]
  },
  {
   "cell_type": "code",
   "execution_count": 1,
   "metadata": {},
   "outputs": [],
   "source": [
    "import pybamm\n",
    "import matplotlib.pyplot as plt\n",
    "import numpy as np\n",
    "import pandas as pd\n",
    "import math\n",
    "import dfols\n",
    "import signal\n",
    "from scipy.integrate import solve_ivp\n",
    "from scipy.fft import fft, fftfreq, fftshift\n",
    "from scipy.signal import savgol_filter\n",
    "from scipy.signal import find_peaks\n",
    "from scipy import interpolate\n",
    "from stopit import threading_timeoutable as timeoutable\n",
    "\n",
    "plt.rcParams['figure.dpi'] = 150\n",
    "plt.rcParams['savefig.dpi'] = 300\n",
    "plt.style.use('seaborn-white')\n",
    "\n",
    "eSOH_DIR = \"./data/esoh/\"\n",
    "oCV_DIR = \"./data/ocv/\"\n",
    "fig_DIR = \"./figures/\"\n",
    "res_DIR = \"./data/results/\"\n",
    "# %matplotlib widget"
   ]
  },
  {
   "cell_type": "code",
   "execution_count": 2,
   "metadata": {},
   "outputs": [],
   "source": [
    "def nmc_volume_change_mohtat(sto):\n",
    "    t_change = -1.10/100*(1-sto)\n",
    "    return t_change\n",
    "\n",
    "def graphite_volume_change_mohtat(sto):\n",
    "    stoichpoints = np.array([0,0.12,0.18,0.24,0.50,1])\n",
    "    thicknesspoints = np.array([0,2.406/100,3.3568/100,4.3668/100,5.583/100,13.0635/100])\n",
    "    x = [sto]\n",
    "    t_change = pybamm.Interpolant(stoichpoints, thicknesspoints, x, name=None, interpolator='linear', extrapolate=True, entries_string=None)\n",
    "    return t_change\n",
    "\n",
    "def get_parameter_values():\n",
    "    parameter_values = pybamm.ParameterValues(chemistry=pybamm.parameter_sets.Mohtat2020)\n",
    "    parameter_values.update(\n",
    "        {\n",
    "            # mechanical properties\n",
    "            \"Positive electrode Poisson's ratio\": 0.3,\n",
    "            \"Positive electrode Young's modulus [Pa]\": 375e9,\n",
    "            \"Positive electrode reference concentration for free of deformation [mol.m-3]\": 0,\n",
    "            \"Positive electrode partial molar volume [m3.mol-1]\": -7.28e-7,\n",
    "            \"Positive electrode volume change\": nmc_volume_change_mohtat,\n",
    "            # Loss of active materials (LAM) model\n",
    "            \"Positive electrode LAM constant exponential term\": 2,\n",
    "            \"Positive electrode critical stress [Pa]\": 375e6,\n",
    "            # mechanical properties\n",
    "            \"Negative electrode Poisson's ratio\": 0.2,\n",
    "            \"Negative electrode Young's modulus [Pa]\": 15e9,\n",
    "            \"Negative electrode reference concentration for free of deformation [mol.m-3]\": 0,\n",
    "            \"Negative electrode partial molar volume [m3.mol-1]\": 3.1e-6,\n",
    "            \"Negative electrode volume change\": graphite_volume_change_mohtat,\n",
    "            # Loss of active materials (LAM) model\n",
    "            \"Negative electrode LAM constant exponential term\": 2,\n",
    "            \"Negative electrode critical stress [Pa]\": 60e6,\n",
    "            # Other\n",
    "            \"Cell thermal expansion coefficient [m.K-1]\": 1.48E-6,\n",
    "            \"Lower voltage cut-off [V]\": 3.0\n",
    "        },\n",
    "        check_already_exists=False,\n",
    "    )\n",
    "    return parameter_values\n",
    "parameter_values = get_parameter_values()"
   ]
  },
  {
   "cell_type": "code",
   "execution_count": 3,
   "metadata": {},
   "outputs": [
    {
     "name": "stdout",
     "output_type": "stream",
     "text": [
      "Cell cooling surface area [m2]\t0.41\n",
      "Initial plated lithium concentration [mol.m-3]\t0.0\n",
      "Inner SEI lithium interstitial diffusivity [m2.s-1]\t1e-20\n",
      "Lithium interstitial reference concentration [mol.m-3]\t15.0\n",
      "Lithium metal partial molar volume [m3.mol-1]\t1.3e-05\n",
      "Typical lithium ion diffusivity [m2.s-1]\t5.34e-10\n",
      "Typical plated lithium concentration [mol.m-3]\t1000.0\n"
     ]
    }
   ],
   "source": [
    "parameter_values.search(\"Li\")"
   ]
  },
  {
   "cell_type": "code",
   "execution_count": 4,
   "metadata": {},
   "outputs": [],
   "source": [
    "def split_long_string(title, max_words=None):\n",
    "    \"\"\"Get title in a nice format\"\"\"\n",
    "    max_words = max_words or pybamm.settings.max_words_in_line\n",
    "    words = title.split()\n",
    "    # Don't split if fits on one line, don't split just for units\n",
    "    if len(words) <= max_words or words[max_words].startswith(\"[\"):\n",
    "        return title\n",
    "    else:\n",
    "        first_line = (\" \").join(words[:max_words])\n",
    "        second_line = (\" \").join(words[max_words:])\n",
    "        return first_line + \"\\n\" + second_line"
   ]
  },
  {
   "cell_type": "code",
   "execution_count": 5,
   "metadata": {},
   "outputs": [],
   "source": [
    "def cycle_adaptive_simulation(model, parameter_values, experiment,SOC_0=1, save_at_cycles=None):\n",
    "    experiment_one_cycle = pybamm.Experiment(\n",
    "        experiment.operating_conditions_cycles[:1],\n",
    "        termination=experiment.termination_string,\n",
    "        cccv_handling=experiment.cccv_handling,\n",
    "    )\n",
    "    Vmin = 3.0\n",
    "    Vmax = 4.2\n",
    "    esoh_model = pybamm.lithium_ion.ElectrodeSOH()\n",
    "    esoh_sim = pybamm.Simulation(esoh_model, parameter_values=parameter_values)\n",
    "    param = model.param\n",
    "    Cn = parameter_values.evaluate(param.C_n_init)\n",
    "    Cp = parameter_values.evaluate(param.C_p_init)\n",
    "    eps_n = parameter_values[\"Negative electrode active material volume fraction\"]\n",
    "    eps_p = parameter_values[\"Positive electrode active material volume fraction\"]\n",
    "    C_over_eps_n = Cn / eps_n\n",
    "    C_over_eps_p = Cp / eps_p\n",
    "    c_n_max = parameter_values.evaluate(param.c_n_max)\n",
    "    c_p_max = parameter_values.evaluate(param.c_p_max)\n",
    "    n_Li_init = parameter_values.evaluate(param.n_Li_particles_init)\n",
    "    \n",
    "    esoh_sol = esoh_sim.solve(\n",
    "        [0],\n",
    "        inputs={\"V_min\": Vmin, \"V_max\": Vmax, \"C_n\": Cn, \"C_p\": Cp, \"n_Li\": n_Li_init},\n",
    "        solver=pybamm.AlgebraicSolver(),\n",
    "    )\n",
    "\n",
    "    parameter_values.update(\n",
    "        {\n",
    "            \"Initial concentration in negative electrode [mol.m-3]\": esoh_sol[\n",
    "                \"x_100\"\n",
    "            ].data[0]\n",
    "            * c_n_max,\n",
    "            \"Initial concentration in positive electrode [mol.m-3]\": esoh_sol[\n",
    "                \"y_100\"\n",
    "            ].data[0]\n",
    "            * c_p_max,\n",
    "            \n",
    "        }\n",
    "    )\n",
    "\n",
    "    sim_ode = pybamm.Simulation(\n",
    "        model, experiment=experiment_one_cycle, parameter_values=parameter_values,\n",
    "        solver=pybamm.CasadiSolver(\"safe\")\n",
    "    )\n",
    "    sol0 = sim_ode.solve(initial_soc=SOC_0)\n",
    "    model = sim_ode.solution.all_models[0]\n",
    "    cap0 = sol0.summary_variables[\"Capacity [A.h]\"]\n",
    "\n",
    "    def sol_to_y(sol, loc=\"end\"):\n",
    "        if loc == \"start\":\n",
    "            pos = 0\n",
    "        elif loc == \"end\":\n",
    "            pos = -1\n",
    "        model = sol.all_models[0]\n",
    "        n_Li = sol[\"Total lithium in particles [mol]\"].data[pos].flatten()\n",
    "        Cn = sol[\"Negative electrode capacity [A.h]\"].data[pos].flatten()\n",
    "        Cp = sol[\"Positive electrode capacity [A.h]\"].data[pos].flatten()\n",
    "        # y = np.concatenate([n_Li, Cn, Cp])\n",
    "        y = n_Li\n",
    "        for var in model.initial_conditions:\n",
    "            if var.name not in [\n",
    "                \"X-averaged negative particle concentration\",\n",
    "                \"X-averaged positive particle concentration\",\n",
    "                \"Discharge capacity [A.h]\",\n",
    "            ]:\n",
    "                value = sol[var.name].data\n",
    "                if value.ndim == 1:\n",
    "                    value = value[pos]\n",
    "                elif value.ndim == 2:\n",
    "                    value = value[:, pos]\n",
    "                elif value.ndim == 3:\n",
    "                    value = value[:, :, pos]\n",
    "                y = np.concatenate([y, value.flatten()])\n",
    "        return y\n",
    "\n",
    "    def y_to_sol(y, esoh_sim, model):\n",
    "        n_Li = y[0]\n",
    "        Cn = C_over_eps_n * y[1]\n",
    "        Cp = C_over_eps_p * y[2]\n",
    "\n",
    "        esoh_sol = esoh_sim.solve(\n",
    "            [0],\n",
    "            inputs={\"V_min\": Vmin, \"V_max\": Vmax, \"C_n\": Cn, \"C_p\": Cp, \"n_Li\": n_Li},\n",
    "        )\n",
    "        esoh_sim.built_model.set_initial_conditions_from(esoh_sol)\n",
    "        ics = {}\n",
    "        x_100 = esoh_sol[\"x_100\"].data[0]\n",
    "        y_100 = esoh_sol[\"y_100\"].data[0]\n",
    "        x_0 = esoh_sol[\"x_0\"].data[0]\n",
    "        y_0 = esoh_sol[\"y_0\"].data[0]\n",
    "        start = 1\n",
    "        for var in model.initial_conditions:\n",
    "            if var.name == \"X-averaged negative particle concentration\":\n",
    "                ics[var.name] = ((x_100-x_0)*SOC_0+x_0) * np.ones((model.variables[var.name].size, 2))\n",
    "            elif var.name == \"X-averaged positive particle concentration\":\n",
    "                ics[var.name] = y_100 * np.ones((model.variables[var.name].size, 2))\n",
    "            elif var.name == \"Discharge capacity [A.h]\":\n",
    "                ics[var.name] = np.zeros(1)\n",
    "            else:\n",
    "                end = start + model.variables[var.name].size\n",
    "                ics[var.name] = y[start:end, np.newaxis]\n",
    "                start = end\n",
    "        model.set_initial_conditions_from(ics)\n",
    "        return pybamm.Solution(\n",
    "            [np.array([0])],\n",
    "            model.concatenated_initial_conditions.evaluate()[:, np.newaxis],\n",
    "            model,\n",
    "            {},\n",
    "        )\n",
    "\n",
    "    def dydt(t, y):\n",
    "        if y[0] < 0 or y[1] < 0 or y[2] < 0:\n",
    "            return 0 * y\n",
    "\n",
    "        # print(t)\n",
    "        # Set up based on current value of y\n",
    "        y_to_sol(\n",
    "            y,\n",
    "            esoh_sim,\n",
    "            sim_ode.op_conds_to_built_models[\n",
    "                experiment_one_cycle.operating_conditions[0][\"electric\"]\n",
    "            ],\n",
    "        )\n",
    "\n",
    "        # Simulate one cycle\n",
    "        sol = sim_ode.solve()\n",
    "\n",
    "        dy = sol_to_y(sol) - y\n",
    "\n",
    "        return dy\n",
    "\n",
    "    if experiment.termination == {}:\n",
    "        event = None\n",
    "    else:\n",
    "\n",
    "        def capacity_cutoff(t, y):\n",
    "            sol = y_to_sol(y, esoh_sim, model)\n",
    "            cap = pybamm.make_cycle_solution([sol], esoh_sim, True)[1][\"Capacity [A.h]\"]\n",
    "            return cap / cap0 - experiment_one_cycle.termination[\"capacity\"][0] / 100\n",
    "\n",
    "        capacity_cutoff.terminal = True\n",
    "\n",
    "    num_cycles = len(experiment.operating_conditions_cycles)\n",
    "    if save_at_cycles is None:\n",
    "        t_eval = np.arange(1, num_cycles + 1)\n",
    "    elif save_at_cycles == -1:\n",
    "        t_eval = None\n",
    "    else:\n",
    "        t_eval = np.arange(1, num_cycles + 1, save_at_cycles)\n",
    "    y0 = sol_to_y(sol0, loc=\"start\")\n",
    "    timer = pybamm.Timer()\n",
    "    sol = solve_ivp(\n",
    "        dydt,\n",
    "        [1, num_cycles],\n",
    "        y0,\n",
    "        t_eval=t_eval,\n",
    "        events=capacity_cutoff,\n",
    "        first_step=10,\n",
    "        method=\"RK23\",\n",
    "        atol=1e-2,\n",
    "        rtol=1e-2,\n",
    "    )\n",
    "    time = timer.time()\n",
    "\n",
    "    all_sumvars = []\n",
    "    for idx in range(sol.y.shape[1]):\n",
    "        fullsol = y_to_sol(sol.y[:, idx], esoh_sim, model)\n",
    "        sumvars = pybamm.make_cycle_solution([fullsol], esoh_sim, True)[1]\n",
    "        all_sumvars.append(sumvars)\n",
    "\n",
    "    all_sumvars_dict = {\n",
    "        key: np.array([sumvars[key] for sumvars in all_sumvars])\n",
    "        for key in all_sumvars[0].keys()\n",
    "    }\n",
    "    all_sumvars_dict[\"Cycle number\"] = sol.t\n",
    "    \n",
    "    all_sumvars_dict[\"cycles evaluated\"] = sol.nfev\n",
    "    all_sumvars_dict[\"solution time\"] = time\n",
    "    \n",
    "    return all_sumvars_dict"
   ]
  },
  {
   "cell_type": "code",
   "execution_count": 6,
   "metadata": {},
   "outputs": [],
   "source": [
    "def plot(all_sumvars_dict,esoh_data):\n",
    "    esoh_vars = [\"x_0\", \"y_0\", \"x_100\", \"y_100\", \"C_n\", \"C_p\"]\n",
    "    # esoh_vars = [\"Capacity [A.h]\", \"Loss of lithium inventory [%]\",\n",
    "    #              \"Loss of active material in negative electrode [%]\",\n",
    "    #              \"Loss of active material in positive electrode [%]\"]\n",
    "    fig, axes = plt.subplots(3,2,figsize=(7,7))\n",
    "    for k, name in enumerate(esoh_vars):\n",
    "        ax = axes.flat[k]\n",
    "        ax.plot(all_sumvars_dict[\"Cycle number\"],all_sumvars_dict[name],\"ro\")\n",
    "        ax.plot(esoh_data[\"N\"],esoh_data[name],\"kx\")\n",
    "#         ax.scatter(all_sumvars_dict[\"Cycle number\"],all_sumvars_dict[name],color=\"r\")\n",
    "    #     ax.plot(long_sol.summary_variables[name],\"b-\")\n",
    "        ax.set_title(split_long_string(name))\n",
    "        if k>3:\n",
    "            ax.set_xlabel(\"Cycle number\")\n",
    "    # fig.subplots_adjust(bottom=0.4)\n",
    "    fig.legend([\"Acc Sim\"] + [\"Reported\"], \n",
    "           loc=\"lower center\", ncol=1, fontsize=11)\n",
    "    fig.tight_layout()\n",
    "    return fig\n",
    "\n",
    "def plot1(all_sumvars_dict,esoh_data):\n",
    "    esoh_vars = [\"Capacity [A.h]\",\"n_Li\"]\n",
    "    esoh_data[\"Capacity [A.h]\"]=esoh_data[\"Cap\"]\n",
    "    param = pybamm.LithiumIonParameters()\n",
    "    esoh_data[\"n_Li\"]= 3600/param.F.value*(esoh_data[\"y_100\"]*esoh_data[\"C_p\"]+esoh_data[\"x_100\"]*esoh_data[\"C_n\"])\n",
    "    fig, axes = plt.subplots(2,1,figsize=(7,7))\n",
    "    for k, name in enumerate(esoh_vars):\n",
    "        ax = axes.flat[k]\n",
    "        ax.plot(all_sumvars_dict[\"Cycle number\"],all_sumvars_dict[name],\"ro\")\n",
    "        ax.plot(esoh_data[\"N\"],esoh_data[name],\"kx\")\n",
    "        ax.set_title(split_long_string(name))\n",
    "        ax.set_xlabel(\"Cycle number\")\n",
    "    fig.legend([\"Acc Sim\"] + [\"Reported\"], \n",
    "           loc=\"upper right\", ncol=1, fontsize=11)\n",
    "    fig.tight_layout()\n",
    "    return fig\n",
    "def plotc(all_sumvars_dict,esoh_data):\n",
    "    esoh_vars = [\"x_100\", \"y_0\", \"C_n\", \"C_p\", \"Capacity [A.h]\", \"Loss of lithium inventory [%]\"]\n",
    "    esoh_data[\"Capacity [A.h]\"]=esoh_data[\"Cap\"]\n",
    "    param = pybamm.LithiumIonParameters()\n",
    "    esoh_data[\"n_Li\"]= 3600/param.F.value*(esoh_data[\"y_100\"]*esoh_data[\"C_p\"]+esoh_data[\"x_100\"]*esoh_data[\"C_n\"])\n",
    "    esoh_data[\"Loss of lithium inventory [%]\"]=(1-esoh_data[\"n_Li\"]/esoh_data[\"n_Li\"][0])*100\n",
    "    fig, axes = plt.subplots(3,2,figsize=(7,7))\n",
    "    for k, name in enumerate(esoh_vars):\n",
    "        ax = axes.flat[k]\n",
    "        ax.plot(all_sumvars_dict[\"Cycle number\"],all_sumvars_dict[name],\"ro\")\n",
    "        ax.plot(esoh_data[\"N\"],esoh_data[name],\"kx\")\n",
    "        ax.set_title(split_long_string(name))\n",
    "        if k>3:\n",
    "            ax.set_xlabel(\"Cycle number\")\n",
    "    fig.legend([\"Acc Sim\"] + [\"Reported\"], \n",
    "           loc=\"lower center\",bbox_to_anchor=[0.5,-0.02], ncol=1, fontsize=11)\n",
    "    fig.tight_layout()\n",
    "    return fig"
   ]
  },
  {
   "cell_type": "code",
   "execution_count": 7,
   "metadata": {},
   "outputs": [],
   "source": [
    "cell = 1"
   ]
  },
  {
   "cell_type": "markdown",
   "metadata": {},
   "source": [
    "## Load eSOH Data and OCV Data"
   ]
  },
  {
   "cell_type": "code",
   "execution_count": 8,
   "metadata": {},
   "outputs": [
    {
     "name": "stdout",
     "output_type": "stream",
     "text": [
      "Cycle Numbers:\n",
      "0, 18, 57, 93, 134, 175, 216, 257, 298, 339\n"
     ]
    }
   ],
   "source": [
    "cell_no = f'{cell:02d}'\n",
    "dfe=pd.read_csv(eSOH_DIR+\"aging_param_cell_\"+cell_no+\".csv\")\n",
    "# Remove first RPT\n",
    "dfe = dfe.drop(dfe.index[0])\n",
    "dfe = dfe.reset_index(drop=True)\n",
    "dfe['N']=dfe['N']-dfe['N'][0]\n",
    "N =dfe.N.unique()\n",
    "dfo_0=pd.read_csv(oCV_DIR+\"ocv_data_cell_\"+cell_no+\".csv\")\n",
    "print(\"Cycle Numbers:\")\n",
    "print(*N, sep = \", \") "
   ]
  },
  {
   "cell_type": "code",
   "execution_count": 9,
   "metadata": {},
   "outputs": [],
   "source": [
    "dfo = dfo_0[dfo_0['N']==N[0]]\n",
    "# dfe_0 = dfe[dfe['N']==N[0]]\n",
    "C_n_init = dfe['C_n'][0]\n",
    "C_p_init = dfe['C_p'][0]\n",
    "y_0_init = dfe['y_0'][0] \n",
    "if cell_no=='01':\n",
    "    c_rate_c = 'C/5'\n",
    "    c_rate_d = 'C/5'\n",
    "    dis_set = \" until 3V\"\n",
    "    # eps_n_data = 0.6234\n",
    "    # eps_p_data = 0.4542\n",
    "elif cell_no=='13':\n",
    "    c_rate_c = 'C/5'\n",
    "    c_rate_d = 'C/5'\n",
    "    dis_set = \" for 150 min\""
   ]
  },
  {
   "cell_type": "code",
   "execution_count": 10,
   "metadata": {},
   "outputs": [
    {
     "data": {
      "text/plain": [
       "339"
      ]
     },
     "execution_count": 10,
     "metadata": {},
     "output_type": "execute_result"
    }
   ],
   "source": [
    "dfe.N.iloc[-1]"
   ]
  },
  {
   "cell_type": "code",
   "execution_count": 11,
   "metadata": {},
   "outputs": [],
   "source": [
    "pybamm.set_logging_level(\"WARNING\")\n",
    "# pybamm.set_logging_level(\"NOTICE\")\n",
    "experiment = pybamm.Experiment(\n",
    "    [\n",
    "        (\"Discharge at \"+c_rate_d+dis_set,\n",
    "         \"Rest for 5 min\",\n",
    "         \"Charge at \"+c_rate_c+\" until 4.2V\", \n",
    "         \"Hold at 4.2V until C/50\")\n",
    "    ] *dfe.N.iloc[-1],\n",
    "    termination=\"50% capacity\",\n",
    "#     cccv_handling=\"ode\",\n",
    ")\n",
    "spm = pybamm.lithium_ion.SPM(\n",
    "    {\n",
    "        \"SEI\": \"ec reaction limited\",\n",
    "        # \"loss of active material\": (\"stress-driven\",\"none\"),\n",
    "        \"loss of active material\": \"stress-driven\",\n",
    "        \"stress-induced diffusion\": \"true\",\n",
    "        # \"lithium plating\": \"reversible\",\n",
    "    }\n",
    ")\n",
    "# spm.print_parameter_info()"
   ]
  },
  {
   "cell_type": "code",
   "execution_count": 12,
   "metadata": {},
   "outputs": [],
   "source": [
    "param = spm.param\n",
    "eps_n_data = parameter_values.evaluate(C_n_init*3600/(param.L_n * param.c_n_max * param.F* param.A_cc))\n",
    "eps_p_data = parameter_values.evaluate(C_p_init*3600/(param.L_p * param.c_p_max * param.F* param.A_cc))\n",
    "cs_p_init = parameter_values.evaluate(y_0_init* param.c_p_max)"
   ]
  },
  {
   "cell_type": "code",
   "execution_count": 13,
   "metadata": {},
   "outputs": [],
   "source": [
    "parameter_values = get_parameter_values()\n",
    "sim_des = '_lowc'\n",
    "parameter_values.update(\n",
    "    {\n",
    "        \"SEI kinetic rate constant [m.s-1]\": 1.6827e-16,\n",
    "        \"Positive electrode LAM constant proportional term [s-1]\": 8.3569e-6,\n",
    "        \"Negative electrode LAM constant proportional term [s-1]\": 5.8032e-5,\n",
    "        \"EC diffusivity [m2.s-1]\": 2e-18,\n",
    "        \"Positive electrode LAM constant exponential term\": 2,\n",
    "        \"Negative electrode LAM constant exponential term\": 2,\n",
    "        \"Negative electrode active material volume fraction\": eps_n_data,\n",
    "        \"Positive electrode active material volume fraction\": eps_p_data,\n",
    "    },\n",
    "    check_already_exists=False,\n",
    ")\n",
    "all_sumvars_dict = cycle_adaptive_simulation(spm, parameter_values, experiment, save_at_cycles=2)"
   ]
  },
  {
   "cell_type": "code",
   "execution_count": 14,
   "metadata": {},
   "outputs": [
    {
     "name": "stdout",
     "output_type": "stream",
     "text": [
      "10\n",
      "7.492 s\n"
     ]
    }
   ],
   "source": [
    "print(all_sumvars_dict[\"cycles evaluated\"])\n",
    "print(all_sumvars_dict[\"solution time\"])"
   ]
  },
  {
   "cell_type": "code",
   "execution_count": 15,
   "metadata": {},
   "outputs": [],
   "source": [
    "# fig = plot(all_sumvars_dict,dfe);\n",
    "# fig.savefig(fig_DIR +'fast_sim_'+cell_no+'_new.png')"
   ]
  },
  {
   "cell_type": "code",
   "execution_count": 16,
   "metadata": {},
   "outputs": [],
   "source": [
    "# fig = plot1(all_sumvars_dict,dfe);\n",
    "# fig.savefig(fig_DIR +'fast_sim_'+cell_no+'_cap_new.png')"
   ]
  },
  {
   "cell_type": "code",
   "execution_count": 17,
   "metadata": {},
   "outputs": [
    {
     "data": {
      "image/png": "[encoded data removed]",
      "text/plain": [
       "<Figure size 1050x1050 with 6 Axes>"
      ]
     },
     "metadata": {},
     "output_type": "display_data"
    }
   ],
   "source": [
    "fig = plotc(all_sumvars_dict,dfe);"
   ]
  },
  {
   "cell_type": "markdown",
   "metadata": {},
   "source": [
    "# Parameter Fitting"
   ]
  },
  {
   "cell_type": "code",
   "execution_count": 18,
   "metadata": {},
   "outputs": [],
   "source": [
    "cycles = np.array(dfe['N'].astype('int'))\n",
    "cycles=cycles-1\n",
    "cycles[0]=cycles[0]+1\n",
    "cycles\n",
    "dfe['N_mod'] = cycles"
   ]
  },
  {
   "cell_type": "code",
   "execution_count": 19,
   "metadata": {},
   "outputs": [],
   "source": [
    "def plot_comp(all_sumvars_dict_0,all_sumvars_dict_1,esoh_data):\n",
    "    esoh_vars = [\"x_100\", \"y_0\", \"C_n\", \"C_p\", \"Capacity [A.h]\", \"Loss of lithium inventory [%]\"]\n",
    "    esoh_data[\"Capacity [A.h]\"]=esoh_data[\"Cap\"]\n",
    "    param = pybamm.LithiumIonParameters()\n",
    "    esoh_data[\"n_Li\"]= 3600/param.F.value*(esoh_data[\"y_100\"]*esoh_data[\"C_p\"]+esoh_data[\"x_100\"]*esoh_data[\"C_n\"])\n",
    "    esoh_data[\"Loss of lithium inventory [%]\"]=(1-esoh_data[\"n_Li\"]/esoh_data[\"n_Li\"][0])*100\n",
    "    fig, axes = plt.subplots(3,2,figsize=(7,7))\n",
    "    for k, name in enumerate(esoh_vars):\n",
    "        ax = axes.flat[k]\n",
    "        ax.plot(all_sumvars_dict_1[\"Cycle number\"],all_sumvars_dict_1[name],\"bo\")\n",
    "        ax.plot(all_sumvars_dict_0[\"Cycle number\"],all_sumvars_dict_0[name],\"ro\")\n",
    "        # ax.plot(all_sumvars_dict_1[\"Cycle number\"],all_sumvars_dict_1[name],\"bo\")\n",
    "        ax.plot(esoh_data[\"N\"],esoh_data[name],\"kx\")\n",
    "        ax.axvline(x = all_sumvars_dict_0[\"Cycle number\"][-1], color = 'm', label = 'axvline - full height')\n",
    "        ax.set_title(split_long_string(name))\n",
    "        if k>3:\n",
    "            ax.set_xlabel(\"Cycle number\")\n",
    "    fig.legend([\"Pred\"]+[\"Train\"] + [\"Data\"], \n",
    "           loc=\"lower center\",bbox_to_anchor=[0.5, -0.05], ncol=1, fontsize=11)\n",
    "    fig.tight_layout()\n",
    "    return fig"
   ]
  },
  {
   "cell_type": "markdown",
   "metadata": {},
   "source": [
    "## List of Initial Conditions"
   ]
  },
  {
   "cell_type": "code",
   "execution_count": 20,
   "metadata": {},
   "outputs": [],
   "source": [
    "ic = 3\n",
    "k_sei= [1.6e-16,1.5e-16,1.7e-16,1.8e-16]\n",
    "blam_p = [2e-2/3600, 4e-6, 1e-5,9e-6]\n",
    "blam_n = [2e-1/3600, 3e-5, 2e-5,1e-4]"
   ]
  },
  {
   "cell_type": "code",
   "execution_count": 21,
   "metadata": {},
   "outputs": [],
   "source": [
    "def objective(model, data):\n",
    "    return np.array(model.loc[data['N_mod']][\"Capacity [A.h]\"]) - np.array(data[\"Cap\"])\n",
    "\n",
    "def multi_objective(model, data):\n",
    "    variables = [\"C_n\",\"C_p\",\"x_100\",\"y_0\"]\n",
    "    # variables = [\"Capacity [A.h]\", \"C_n\"]\n",
    "    weights = [1,1,5,5]\n",
    "    return np.concatenate([\n",
    "        (np.array(model.loc[data['N_mod']][var]) - np.array(data[var])) * w\n",
    "        for w,var in zip(weights,variables)\n",
    "    ]\n",
    "    )\n",
    "@timeoutable()\n",
    "def simulate(x,expt):\n",
    "    parameter_values = get_parameter_values()\n",
    "    parameter_values.update(\n",
    "        {\n",
    "            \"SEI kinetic rate constant [m.s-1]\":  x[2]*k_sei[ic],\n",
    "            \"Positive electrode LAM constant proportional term [s-1]\": x[0]* blam_p[ic],\n",
    "            \"Negative electrode LAM constant proportional term [s-1]\": x[1]*blam_n[ic],\n",
    "            \"EC diffusivity [m2.s-1]\": 2e-18,\n",
    "            \"Positive electrode LAM constant exponential term\": 2,\n",
    "            \"Negative electrode LAM constant exponential term\": 2,\n",
    "            \"Negative electrode active material volume fraction\": eps_n_data,\n",
    "            \"Positive electrode active material volume fraction\": eps_p_data,\n",
    "        },\n",
    "        check_already_exists=False,\n",
    "    )\n",
    "    Cn = parameter_values.evaluate(param.C_n_init)\n",
    "    Cp = parameter_values.evaluate(param.C_p_init)\n",
    "    eps_n = parameter_values[\"Negative electrode active material volume fraction\"]\n",
    "    eps_p = parameter_values[\"Positive electrode active material volume fraction\"]\n",
    "    C_over_eps_n = Cn / eps_n\n",
    "    C_over_eps_p = Cp / eps_p\n",
    "    return cycle_adaptive_simulation(spm, parameter_values, expt,save_at_cycles=1)\n",
    "def prediction_error(x,data,expt):\n",
    "    try:\n",
    "        model = simulate(x,expt,timeout=60)\n",
    "        out = multi_objective(pd.DataFrame(model), data)\n",
    "        print(f\"x={x}, norm={np.linalg.norm(out)}\")\n",
    "    # except pybamm.SolverError:\n",
    "    except:\n",
    "        out = 10*np.ones_like(np.concatenate([np.array(data['Cap'])]*4))\n",
    "        print(f\"x={x}, norm={np.linalg.norm(out)}\")\n",
    "        return out\n",
    "    return out\n",
    "def train_model(data,expt):\n",
    "    timer = pybamm.Timer()\n",
    "    x0 = np.array([1.0,1.0,1.0])\n",
    "    # print(prediction_error(x0))\n",
    "    soln_dfols = dfols.solve(prediction_error, x0,args=(data,expt), rhoend=1e-3)\n",
    "    print(timer.time())\n",
    "    return soln_dfols\n",
    "def sim_train(dfe,experiment,df,train_len):\n",
    "    data_train = dfe.iloc[:train_len]\n",
    "    experiment_train = pybamm.Experiment(\n",
    "        [\n",
    "            (\"Discharge at \"+c_rate_d+dis_set,\n",
    "            \"Rest for 5 min\",\n",
    "            \"Charge at \"+c_rate_c+\" until 4.2V\", \n",
    "            \"Hold at 4.2V until C/50\")\n",
    "        ] *data_train.N.iloc[-1],\n",
    "        termination=\"50% capacity\",\n",
    "    #     cccv_handling=\"ode\",\n",
    "    )\n",
    "    soln_dfols = train_model(data_train,experiment_train)\n",
    "    xsol = soln_dfols.x\n",
    "    # print(xsol[0]*2e-2/3600)\n",
    "    # print(xsol[1]*2e-1/3600)\n",
    "    # print(xsol[2]*1.6e-16)\n",
    "    df['train_len'][train_len-3]=train_len\n",
    "    df['x_0'][train_len-3]=round(xsol[0],4)\n",
    "    df['x_1'][train_len-3]=round(xsol[1],4)\n",
    "    df['x_2'][train_len-3]=round(xsol[2],4)\n",
    "    # df['obj'][train_len-3]=soln_dfols.f\n",
    "    try:\n",
    "        sol_out = simulate(soln_dfols.x,experiment_train,timeout = 60)\n",
    "        sol_full = simulate(soln_dfols.x,experiment,timeout = 60)\n",
    "        df['obj'][train_len-3]= np.linalg.norm(prediction_error(soln_dfols.x,data_train,experiment_train))\n",
    "        df['obj_full'][train_len-3] = np.linalg.norm(prediction_error(soln_dfols.x,dfe,experiment))\n",
    "        fig = plot_comp(sol_out,sol_full,dfe);\n",
    "        return df,fig\n",
    "    except:\n",
    "        print(\"Train Len = \"+str(train_len)+\" failed\")\n",
    "        fig, axes = plt.subplots(3,2,figsize=(7,7))\n",
    "        return df,fig"
   ]
  },
  {
   "cell_type": "code",
   "execution_count": 22,
   "metadata": {},
   "outputs": [],
   "source": [
    "df_x = pd.DataFrame(columns=['train_len','x_0','x_1','x_2','obj','obj_full'], index=range(len(N)+1-3))"
   ]
  },
  {
   "cell_type": "code",
   "execution_count": 23,
   "metadata": {},
   "outputs": [
    {
     "name": "stdout",
     "output_type": "stream",
     "text": [
      "Train Length = 3\n",
      "x=[1. 1. 1.], norm=0.21159105578047147\n",
      "x=[1.1 1.  1. ], norm=0.21195186086443718\n",
      "x=[1.  1.1 1. ], norm=0.24796421007202613\n",
      "x=[1.  1.  1.1], norm=0.2044844495511241\n",
      "x=[0.99713599 0.90454374 1.12966311], norm=0.17509802955725598\n",
      "x=[0.90210086 0.75134331 1.48673167], norm=0.13332134789064162\n",
      "x=[0.83723438 0.75614894 1.86344965], norm=0.1237826234534343\n",
      "x=[0.84766464 0.76235558 1.87652877], norm=0.12374237568295052\n",
      "x=[0.8412386  0.77584895 1.87525015], norm=0.1239123757818007\n",
      "x=[0.83652465 0.76260981 1.873668  ], norm=0.1237330657726535\n",
      "x=[0.83504779 0.76253678 1.87494006], norm=0.12373286672056029\n",
      "x=[0.83494163 0.76124819 1.87563622], norm=0.12373474497622425\n",
      "x=[0.83518488 0.76189795 1.87377849], norm=0.12373335559130627\n",
      "x=[0.83378611 0.7625549  1.87478119], norm=0.12373296526522326\n",
      "x=[0.83510545 0.76255758 1.87473097], norm=0.1237328637914278\n",
      "2 minutes, 49 seconds\n",
      "x=[0.83510545 0.76255758 1.87473097], norm=0.1237328637914278\n",
      "x=[0.83510545 0.76255758 1.87473097], norm=1.576270189058509\n",
      "Total Time\n",
      "3 minutes, 47 seconds\n",
      "Train Length = 4\n",
      "x=[1. 1. 1.], norm=0.4093200248261692\n",
      "x=[1.1 1.  1. ], norm=0.4099734906266786\n",
      "x=[1.  1.1 1. ], norm=0.5043923911145964\n",
      "x=[1.  1.  1.1], norm=0.4002595309949493\n",
      "x=[1.00005663 0.90041029 1.10904913], norm=0.31270783049881445\n",
      "x=[0.79738501 0.65996621 1.35625524], norm=0.156242057034247\n",
      "x=[0.66298272 0.64110259 1.50560152], norm=0.14957700888450903\n",
      "x=[0.65755952 0.64627407 1.49912524], norm=0.14944436969389285\n",
      "x=[0.65297586 0.64652498 1.49598963], norm=0.14946677752339751\n",
      "x=[0.65262103 0.65056583 1.50668779], norm=0.14940360650104975\n",
      "x=[0.65594824 0.6485151  1.51589236], norm=0.14935028953212245\n",
      "x=[0.6596003  0.64897403 1.52177588], norm=0.14934275376645936\n",
      "x=[0.65844921 0.64803671 1.52199132], norm=0.1493453973021288\n",
      "x=[0.66052126 0.64799664 1.52244413], norm=0.14934628319253315\n",
      "x=[0.65932311 0.64961912 1.52310141], norm=0.1493443412217355\n",
      "x=[0.65960071 0.6489655  1.52183368], norm=0.14934275262950336\n",
      "3 minutes, 5 seconds\n",
      "x=[0.65960071 0.6489655  1.52183368], norm=0.14934275262950336\n",
      "x=[0.65960071 0.6489655  1.52183368], norm=0.7984281524917795\n",
      "Total Time\n",
      "7 minutes, 53 seconds\n",
      "Train Length = 5\n",
      "x=[1. 1. 1.], norm=0.8091959373959352\n",
      "x=[1.1 1.  1. ], norm=0.8089647825850481\n",
      "x=[1.  1.1 1. ], norm=0.9846883470471884\n",
      "x=[1.  1.  1.1], norm=0.7988981188355502\n",
      "x=[1.00063534 0.90015254 1.10548461], norm=0.6343058870043945\n",
      "x=[0.78170547 0.57856553 1.19849812], norm=0.23310657896033427\n",
      "x=[0.57492062 0.54374262 1.35727771], norm=0.207776892304904\n",
      "x=[0.58118875 0.53774379 1.34796258], norm=0.20755149224207833\n",
      "x=[0.58948463 0.54098767 1.35899028], norm=0.20807494754938582\n",
      "x=[0.57902714 0.52893763 1.3521791 ], norm=0.2082619518005517\n",
      "x=[0.57463225 0.53882679 1.34049   ], norm=0.2072024822615922\n",
      "x=[0.54816664 0.53707813 1.31054816], norm=0.20640296740359546\n",
      "x=[0.53534894 0.53610865 1.29848668], norm=0.20631909422408393\n",
      "x=[0.53424165 0.53551846 1.29930862], norm=44.721359549995796\n"
     ]
    }
   ],
   "source": [
    "sim_des = \"ic_\"+str(ic)\n",
    "timer1 = pybamm.Timer()\n",
    "for train_len in range(3,len(N)):\n",
    "    print(\"Train Length = {0}\".format(train_len))\n",
    "    df_x,fig = sim_train(dfe,experiment,df_x,train_len)\n",
    "    df_x.to_csv(res_DIR + \"fit_train_pred_\"+sim_des+\".csv\")\n",
    "    fig.suptitle('Train Length = '+str(train_len),fontsize=16,y=1.02)\n",
    "    fig.savefig(fig_DIR + \"fit_train_pred_\"+ sim_des+\"_\"+str(train_len) +\"_eSOHC.png\",bbox_inches='tight')\n",
    "    print('Total Time')\n",
    "    print(timer1.time())"
   ]
  },
  {
   "cell_type": "markdown",
   "metadata": {},
   "source": [
    "## Generate figures from solutions"
   ]
  },
  {
   "cell_type": "code",
   "execution_count": null,
   "metadata": {},
   "outputs": [],
   "source": [
    "sim_des = \"ic_0\"\n",
    "df_x = pd.read_csv(res_DIR + \"fit_train_pred_\"+sim_des+\".csv\").drop(['Unnamed: 0'],axis=1)"
   ]
  },
  {
   "cell_type": "code",
   "execution_count": null,
   "metadata": {},
   "outputs": [],
   "source": [
    "df_x =df_x.round(4)"
   ]
  },
  {
   "cell_type": "code",
   "execution_count": null,
   "metadata": {},
   "outputs": [],
   "source": [
    "df_x"
   ]
  },
  {
   "cell_type": "code",
   "execution_count": null,
   "metadata": {},
   "outputs": [],
   "source": [
    "obj =[]\n",
    "obj_full = []\n",
    "# for train_len in [8]:\n",
    "for train_len in range(3,len(N)+1):\n",
    "    data_train = dfe.iloc[:train_len]\n",
    "    print(train_len)\n",
    "    x = [df_x['x_0'][train_len-3],df_x['x_1'][train_len-3],df_x['x_2'][train_len-3]]\n",
    "    experiment_train = pybamm.Experiment(\n",
    "            [\n",
    "                (\"Discharge at \"+c_rate_d+dis_set,\n",
    "                \"Rest for 5 min\",\n",
    "                \"Charge at \"+c_rate_c+\" until 4.2V\", \n",
    "                \"Hold at 4.2V until C/50\")\n",
    "            ] *data_train.N.iloc[-1],\n",
    "            termination=\"50% capacity\",\n",
    "        #     cccv_handling=\"ode\",\n",
    "        )\n",
    "    # sol_out = simulate(x,experiment_train,timeout = 30)\n",
    "    # sol_full = simulate(x,experiment,timeout = 30)\n",
    "    # fig = plot_comp(sol_out,sol_full,dfe);\n",
    "    # fig.suptitle('Train Length = '+str(train_len),fontsize=16,y=1.02)\n",
    "    # fig.savefig(fig_DIR + \"fit_train_pred_\"+ sim_des+\"_\"+str(train_len) +\"_eSOHC.png\",bbox_inches='tight')\n",
    "    # plt.close(fig)\n",
    "    df_x['obj'][train_len-3]= np.linalg.norm(prediction_error(x,data_train,experiment_train))\n",
    "    df_x['obj_full'][train_len-3] = np.linalg.norm(prediction_error(x,dfe,experiment))"
   ]
  },
  {
   "cell_type": "code",
   "execution_count": null,
   "metadata": {},
   "outputs": [],
   "source": [
    "df_x['obj'] = df_x['obj'].astype(float)\n",
    "df_x['obj_full'] = df_x['obj_full'].astype(float)\n",
    "df_x =df_x.round(4)\n",
    "df_x"
   ]
  },
  {
   "cell_type": "code",
   "execution_count": null,
   "metadata": {},
   "outputs": [],
   "source": [
    "df_x.to_csv(res_DIR + \"fit_train_pred_\"+sim_des+\".csv\")"
   ]
  },
  {
   "cell_type": "markdown",
   "metadata": {},
   "source": [
    "## Plot Tuned Parameters"
   ]
  },
  {
   "cell_type": "code",
   "execution_count": null,
   "metadata": {},
   "outputs": [],
   "source": [
    "for ic in range(0,2):\n",
    "    print(ic)"
   ]
  },
  {
   "cell_type": "code",
   "execution_count": null,
   "metadata": {},
   "outputs": [],
   "source": [
    "for ic in range(0,3):\n",
    "    sim_des = \"ic_\"+str(ic)\n",
    "    df_x = pd.read_csv(res_DIR + \"fit_train_pred_\"+sim_des+\".csv\").drop(['Unnamed: 0'],axis=1)\n",
    "    fig, axes = plt.subplots(3,1,figsize=(7,7))\n",
    "    ax1 = axes.flat[0]\n",
    "    ax1.plot(df_x['train_len'],df_x['x_0']*k_sei[ic],'x-')\n",
    "    ax1.set_title(r'$\\beta_{LAM}^+$')\n",
    "    ax2 = axes.flat[1]\n",
    "    ax2.plot(df_x['train_len'],df_x['x_1']*blam_p[ic],'x-')\n",
    "    ax2.set_title(r'$\\beta_{LAM}^-$')\n",
    "    ax3 = axes.flat[2]\n",
    "    ax3.plot(df_x['train_len'],df_x['x_2']*blam_n[ic],'x-')\n",
    "    ax3.set_title(r'$\\kappa_{SEI}$')\n",
    "    ax3.set_xlabel('Training Length')\n",
    "fig.legend([\"ic = 0\",\"ic = 1\",\"ic = 2\"])\n",
    "fig.tight_layout()    \n",
    "fig.savefig(fig_DIR +'trained_parameters_'+sim_des+'.png')"
   ]
  },
  {
   "cell_type": "code",
   "execution_count": null,
   "metadata": {},
   "outputs": [],
   "source": [
    "fig, axes = plt.subplots(3,1,figsize=(7,7))\n",
    "ax1 = axes.flat[0]\n",
    "ax1.plot(df_x['train_len'],df_x['x_0']*k_sei[ic],'x-')\n",
    "ax1.set_title(r'$\\beta_{LAM}^+$')\n",
    "ax2 = axes.flat[1]\n",
    "ax2.plot(df_x['train_len'],df_x['x_1']*blam_p[ic],'x-')\n",
    "ax2.set_title(r'$\\beta_{LAM}^-$')\n",
    "ax3 = axes.flat[2]\n",
    "ax3.plot(df_x['train_len'],df_x['x_2']*blam_n[ic],'x-')\n",
    "ax3.set_title(r'$\\kappa_{SEI}$')\n",
    "ax3.set_xlabel('Training Length')\n",
    "fig.tight_layout()\n",
    "fig.savefig(fig_DIR +'trained_parameters_'+sim_des+'.png')"
   ]
  }
 ],
 "metadata": {
  "interpreter": {
   "hash": "b975e0ed4783683f120ebb0bb390d9884d219a0e2c01818bb8b5297383a08d8e"
  },
  "kernelspec": {
   "display_name": "Python 3.9.7 64-bit ('fast-deg-LmM8mv08-py3.9': poetry)",
   "name": "python3"
  },
  "language_info": {
   "codemirror_mode": {
    "name": "ipython",
    "version": 3
   },
   "file_extension": ".py",
   "mimetype": "text/x-python",
   "name": "python",
   "nbconvert_exporter": "python",
   "pygments_lexer": "ipython3",
   "version": "3.9.7"
  },
  "orig_nbformat": 4
 },
 "nbformat": 4,
 "nbformat_minor": 2
}
