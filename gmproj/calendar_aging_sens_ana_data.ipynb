{
 "cells": [
  {
   "cell_type": "markdown",
   "metadata": {},
   "source": [
    "# Analyse SEI Parameter Sensitivity Errors wrt Data"
   ]
  },
  {
   "cell_type": "code",
   "execution_count": null,
   "metadata": {},
   "outputs": [],
   "source": [
    "import pybamm\n",
    "import matplotlib.pyplot as plt\n",
    "import numpy as np\n",
    "import pandas as pd\n",
    "import math\n",
    "import dfols\n",
    "import signal\n",
    "from scipy.integrate import solve_ivp\n",
    "from scipy.fft import fft, fftfreq, fftshift\n",
    "from scipy.signal import savgol_filter\n",
    "from scipy.signal import find_peaks\n",
    "from scipy import interpolate\n",
    "from stopit import threading_timeoutable as timeoutable\n",
    "import os\n",
    "from mpl_toolkits import mplot3d\n",
    "\n",
    "eSOH_DIR = \"./data/esoh_V/\"\n",
    "oCV_DIR = \"./data/ocv/\"\n",
    "fig_DIR = \"./figures/figures_sens/\"\n",
    "res_DIR = \"./data/results_sens/\"\n",
    "\n",
    "%matplotlib widget"
   ]
  },
  {
   "cell_type": "code",
   "execution_count": null,
   "metadata": {},
   "outputs": [],
   "source": [
    "plt.rcParams[\"lines.markersize\"] = 5\n",
    "plt.rcParams[\"lines.linewidth\"] = 2\n",
    "plt.rcParams[\"xtick.minor.visible\"] = True\n",
    "plt.rcParams[\"ytick.minor.visible\"] = True\n",
    "plt.rcParams[\"font.size\"] = 12\n",
    "plt.rcParams[\"legend.fontsize\"] = 10\n",
    "plt.rcParams[\"legend.frameon\"] = False\n",
    "plt.rcParams[\"font.family\"] = 'serif'\n",
    "plt.rcParams['font.serif'] = 'Times New Roman'\n",
    "plt.rcParams['mathtext.rm'] = 'serif'\n",
    "plt.rcParams['mathtext.it'] = 'serif:italic'\n",
    "plt.rcParams['mathtext.bf'] = 'serif:bold'\n",
    "plt.rcParams['mathtext.fontset'] = 'custom'\n",
    "plt.rcParams[\"savefig.bbox\"] = \"tight\"\n",
    "plt.rcParams[\"axes.grid\"] = True\n",
    "plt.rcParams[\"axes.axisbelow\"] = True\n",
    "plt.rcParams[\"grid.linestyle\"] = \"--\"\n",
    "plt.rcParams[\"grid.color\"] = (0.8, 0.8, 0.8)\n",
    "plt.rcParams[\"grid.alpha\"] = 0.5\n",
    "plt.rcParams[\"grid.linewidth\"] = 0.5\n",
    "plt.rcParams['figure.dpi'] = 150\n",
    "plt.rcParams['savefig.dpi'] = 600\n",
    "plt.rcParams['figure.max_open_warning']=False"
   ]
  },
  {
   "cell_type": "code",
   "execution_count": null,
   "metadata": {},
   "outputs": [],
   "source": [
    "def split_long_string(title, max_words=None):\n",
    "    \"\"\"Get title in a nice format\"\"\"\n",
    "    max_words = max_words or pybamm.settings.max_words_in_line\n",
    "    words = title.split()\n",
    "    # Don't split if fits on one line, don't split just for units\n",
    "    if len(words) <= max_words or words[max_words].startswith(\"[\"):\n",
    "        return title\n",
    "    else:\n",
    "        first_line = (\" \").join(words[:max_words])\n",
    "        second_line = (\" \").join(words[max_words:])\n",
    "        return first_line + \"\\n\" + second_line"
   ]
  },
  {
   "cell_type": "code",
   "execution_count": null,
   "metadata": {},
   "outputs": [],
   "source": [
    "def load_data(cell): \n",
    "    cell_no = f'{cell:02d}'\n",
    "    dfe=pd.read_csv(eSOH_DIR+\"aging_param_cell_\"+cell_no+\".csv\")\n",
    "    dfe_0=pd.read_csv(eSOH_DIR+\"aging_param_cell_\"+cell_no+\".csv\")\n",
    "    dfe['N']=dfe['Time'].astype(int)\n",
    "    N =dfe.N.unique()\n",
    "    print(\"Cycle Numbers:\")\n",
    "    print(*N, sep = \", \") \n",
    "    return cell_no,dfe,N"
   ]
  },
  {
   "cell_type": "code",
   "execution_count": null,
   "metadata": {},
   "outputs": [],
   "source": [
    "cell = 22\n",
    "cell_no,dfe,N = load_data(cell)"
   ]
  },
  {
   "cell_type": "code",
   "execution_count": null,
   "metadata": {},
   "outputs": [],
   "source": [
    "Temp = [25,45,-5]\n",
    "k_sei = [1,1/1.5,1.5,1/2,2,1/3,3,1/10,10]\n",
    "# d_sei = [1,1/1.5,1.5,1/2,2,1/3,3,1/10,100]\n",
    "d_sei = [1,1e-1,1e1,1e-2,1e2,1e-3,1e3,1e-4,1e4]"
   ]
  },
  {
   "cell_type": "code",
   "execution_count": null,
   "metadata": {},
   "outputs": [],
   "source": [
    "Temp_idx='0'\n",
    "ksei_idx='0'\n",
    "dsei_idx=''\n",
    "sim_des = 'sens_accl'\n",
    "T_name = 'T_{0}'.format(Temp_idx)\n",
    "k_name = 'k_{0}'.format(ksei_idx)\n",
    "D_name = 'D_{0}'.format(dsei_idx)\n",
    "dfl = {}\n",
    "i=0\n",
    "for file in os.listdir(res_DIR):\n",
    "    if sim_des in file and \".csv\" in file and T_name in file and k_name in file and D_name in file:\n",
    "        print(file)\n",
    "        # ldc_files.append(file)\n",
    "        dft = pd.read_csv(res_DIR+file,on_bad_lines='skip',low_memory=False)\n",
    "        dft=dft.reset_index()\n",
    "        dfl[i]=dft\n",
    "        i+=1"
   ]
  },
  {
   "cell_type": "code",
   "execution_count": null,
   "metadata": {},
   "outputs": [],
   "source": [
    "dfl_m = {}\n",
    "i=0\n",
    "for file in os.listdir(res_DIR):\n",
    "    if sim_des in file and \".csv\" in file and T_name in file and k_name in file and D_name in file:\n",
    "        # print(file)\n",
    "        # ldc_files.append(file)\n",
    "        dft = pd.read_csv(res_DIR+file,on_bad_lines='skip',low_memory=False)\n",
    "        # dft=dft.iloc[::20]\n",
    "        dft=dft.reset_index()\n",
    "        # if i>0:\n",
    "        len_diff = dfe['N'].iloc[-1]-len(dft)+1\n",
    "        print(len_diff)\n",
    "        if len_diff>0:\n",
    "            df_r1 = pd.concat([dft.iloc[[-1]]]*(len_diff), ignore_index=True)\n",
    "            dft = pd.concat([dft,df_r1], ignore_index=True)\n",
    "            dft['Cycle number']=np.arange(1,dfe['N'].iloc[-1]+2)\n",
    "        dfl_m[i]=dft\n",
    "        i+=1"
   ]
  },
  {
   "cell_type": "code",
   "execution_count": null,
   "metadata": {},
   "outputs": [],
   "source": [
    "def plotcomp(all_sumvars_dict0,all_sumvars_dict1):\n",
    "    esoh_vars = [\"x_100\", \"y_0\", \"C_n\", \"C_p\", \"Capacity [A.h]\", \"Loss of lithium inventory [%]\"]\n",
    "    fig, axes = plt.subplots(3,2,figsize=(7,7))\n",
    "    for k, name in enumerate(esoh_vars):\n",
    "        ax = axes.flat[k]\n",
    "        ax.plot(all_sumvars_dict0[\"Cycle number\"],all_sumvars_dict0[name],\"kx\")\n",
    "        ax.plot(all_sumvars_dict1[\"Cycle number\"],all_sumvars_dict1[name],\"b\")\n",
    "        ax.set_title(split_long_string(name))\n",
    "        if k ==2 or k==3:\n",
    "            ax.set_ylim([3,6.2])\n",
    "        if k>3:\n",
    "            ax.set_xlabel(\"Cycle number\")\n",
    "    fig.legend([\"Baseline\"] + [\"Sim\"], \n",
    "           loc=\"lower center\",bbox_to_anchor=[0.5,-0.02], ncol=1, fontsize=11)\n",
    "    fig.tight_layout()\n",
    "    return fig"
   ]
  },
  {
   "cell_type": "code",
   "execution_count": null,
   "metadata": {},
   "outputs": [],
   "source": [
    "k_sei_s = [f'{x:0.2f}' for x in k_sei]\n",
    "d_sei_s = [str(x) for x in d_sei]\n",
    "Temp_s = [str(x) for x in Temp]"
   ]
  },
  {
   "cell_type": "markdown",
   "metadata": {},
   "source": [
    "# Plot eSOH vars"
   ]
  },
  {
   "cell_type": "code",
   "execution_count": null,
   "metadata": {},
   "outputs": [],
   "source": [
    "# esoh_vars = [\"x_100\", \"y_0\", \"C_n\", \"C_p\", \"Capacity [A.h]\", \"Loss of lithium inventory [%]\",\"Local ECM resistance [Ohm]\",\"X-averaged SEI thickness [m]\"]\n",
    "# esoh_vars_str = [\"x_100\", \"y_0\", \"C_n\", \"C_p\", \"cap\", \"LLI\",\"res\",\"sei\"]\n",
    "# for ev_num in range(len(esoh_vars)):\n",
    "#     fig, ax = plt.subplots(1,1,figsize=(3,3))\n",
    "#     col = ['k','g','b','r','c']\n",
    "#     col_idx = [x // 2 +1 for x in range(-1,8)]\n",
    "#     mar_idx = [x % 2 for x in range(-1,8)]\n",
    "#     mar_idx[0]=2\n",
    "#     mar = [u'v',u'P',u'x']\n",
    "#     for k in range(len(dfl)):\n",
    "#         ax.plot(dfl[k]['Cycle number'],dfl[k][esoh_vars[ev_num]],color=col[col_idx[k]],marker=mar[mar_idx[k]])\n",
    "#         ax.set_title(split_long_string(esoh_vars[ev_num]))\n",
    "#     # fig.legend(Temp_s, \n",
    "#     #            loc=\"lower center\",bbox_to_anchor=[0.5,-0.3], ncol=3, fontsize=11)\n",
    "#     plt.savefig(fig_DIR+'sens_T_{0}_k_{1}_D_{2}'.format(Temp_idx,ksei_idx,dsei_idx)+'_comp_'+esoh_vars_str[ev_num]+'.png')"
   ]
  },
  {
   "cell_type": "code",
   "execution_count": null,
   "metadata": {},
   "outputs": [],
   "source": [
    "sadsada"
   ]
  },
  {
   "cell_type": "markdown",
   "metadata": {},
   "source": [
    "# Calculate RMSE"
   ]
  },
  {
   "cell_type": "code",
   "execution_count": null,
   "metadata": {},
   "outputs": [],
   "source": [
    "dfe[\"Capacity [A.h]\"]=dfe[\"Cap\"]\n",
    "param = pybamm.LithiumIonParameters()\n",
    "dfe[\"n_Li\"]= 3600/param.F.value*(dfe[\"y_100\"]*dfe[\"C_p\"]+dfe[\"x_100\"]*dfe[\"C_n\"])\n",
    "dfe[\"Loss of lithium inventory [%]\"]=(1-dfe[\"n_Li\"]/dfe[\"n_Li\"][0])*100"
   ]
  },
  {
   "cell_type": "code",
   "execution_count": null,
   "metadata": {},
   "outputs": [],
   "source": [
    "esoh_vars = [\"x_100\", \"y_0\", \"C_n\", \"C_p\", \"Capacity [A.h]\", \"Loss of lithium inventory [%]\"]#,\"Local ECM resistance [Ohm]\",\"X-averaged SEI thickness [m]\"]\n",
    "esoh_vars_str = [\"x_100\", \"y_0\", \"C_n\", \"C_p\", \"cap\", \"LLI\"]#,\"res\",\"sei\"]\n",
    "rmse_final = []\n",
    "rmse_final.append(esoh_vars_str)\n",
    "for k in range(len(dfl)):\n",
    "# for ev_num in range(len(esoh_vars)):\n",
    "    # print([esoh_vars[ev_num]])\n",
    "    dfl_t = dfl_m[k].iloc[N].reset_index()\n",
    "    rmse_stats = []\n",
    "    for ev_num in range(len(esoh_vars)):\n",
    "    # for k in range(len(dfl)):\n",
    "        # dfl_t = dfl_m[k].iloc[N].reset_index()\n",
    "        rmse_t=((dfl_t[esoh_vars[ev_num]] - dfe[esoh_vars[ev_num]]) ** 2).mean() ** .5\n",
    "        rmse_stats.append(rmse_t)\n",
    "    print(rmse_stats)\n",
    "    rmse_final.append(rmse_stats)"
   ]
  },
  {
   "cell_type": "code",
   "execution_count": null,
   "metadata": {},
   "outputs": [],
   "source": [
    "x =  rmse_final\n",
    "wanted = {a[0]: list(a[1:]) for a in zip(*x)}"
   ]
  },
  {
   "cell_type": "code",
   "execution_count": null,
   "metadata": {},
   "outputs": [],
   "source": [
    "# wanted"
   ]
  },
  {
   "cell_type": "code",
   "execution_count": null,
   "metadata": {},
   "outputs": [],
   "source": [
    "df_1 = pd.DataFrame.from_dict(wanted)\n",
    "df_1.to_csv(res_DIR+'sens_rmse_T_{0}_k_{1}_D_{2}'.format(Temp_idx,ksei_idx,dsei_idx)+'.csv')"
   ]
  },
  {
   "cell_type": "code",
   "execution_count": null,
   "metadata": {},
   "outputs": [],
   "source": [
    "ssdsd"
   ]
  },
  {
   "cell_type": "markdown",
   "metadata": {},
   "source": [
    "# Plot RMSE "
   ]
  },
  {
   "cell_type": "code",
   "execution_count": null,
   "metadata": {},
   "outputs": [],
   "source": [
    "Temp_idx='0'\n",
    "ksei_idx='_'\n",
    "dsei_idx=''\n",
    "sim_des = 'sens_rmse'\n",
    "T_name = 'T_{0}'.format(Temp_idx)\n",
    "k_name = 'k_{0}'.format(ksei_idx)\n",
    "D_name = 'D_{0}'.format(dsei_idx)\n",
    "dfl = {}\n",
    "i=0\n",
    "for file in os.listdir(res_DIR):\n",
    "    if sim_des in file and \".csv\" in file and T_name in file and k_name in file and D_name in file:\n",
    "        print(file)\n",
    "        # ldc_files.append(file)\n",
    "        dft = pd.read_csv(res_DIR+file,on_bad_lines='skip',low_memory=False)\n",
    "        dft=dft.reset_index()\n",
    "        dft=dft.drop(columns=['index','Unnamed: 0'])\n",
    "        dft['k_sei']=k_sei\n",
    "        dft['d_sei']=d_sei[i]*np.ones(9)\n",
    "        dfl[i]=dft\n",
    "        i+=1"
   ]
  },
  {
   "cell_type": "code",
   "execution_count": null,
   "metadata": {},
   "outputs": [],
   "source": [
    "dfc = pd.concat([dfl[0],dfl[1]])\n",
    "for i in range(2,9):\n",
    "    dfc=pd.concat([dfc,dfl[i]])\n",
    "dfc=dfc.reset_index()"
   ]
  },
  {
   "cell_type": "code",
   "execution_count": null,
   "metadata": {},
   "outputs": [],
   "source": [
    "# dfc.to_csv(res_DIR+'sens_rmse_all'+'.csv')"
   ]
  },
  {
   "cell_type": "markdown",
   "metadata": {},
   "source": [
    "## Plot eSOH 2D"
   ]
  },
  {
   "cell_type": "code",
   "execution_count": null,
   "metadata": {},
   "outputs": [],
   "source": [
    "kk=0\n",
    "# dfl[kk]"
   ]
  },
  {
   "cell_type": "code",
   "execution_count": null,
   "metadata": {},
   "outputs": [],
   "source": [
    "esoh_vars_str = [\"x_100\", \"y_0\", \"C_n\", \"C_p\", \"cap\", \"LLI\"]#,\"res\",\"sei\"]\n",
    "for ev_num in range(len(esoh_vars_str)):\n",
    "    fig, ax = plt.subplots(1,1,figsize=(3,3))\n",
    "    ax.scatter(d_sei,dfl[kk][esoh_vars_str[ev_num]])\n",
    "    ax.set_title(split_long_string(esoh_vars[ev_num])+' RMSE')\n",
    "    ax.set_xlabel('D_sei scaling [log]')\n",
    "    ax.set_xscale('log')\n",
    "    ax.set_xscale('log')\n",
    "    # fig.legend(Temp_s, \n",
    "    #            loc=\"lower center\",bbox_to_anchor=[0.5,-0.3], ncol=3, fontsize=11)\n",
    "    plt.savefig(fig_DIR+'sens_T_{0}_k_{1}_D_{2}'.format(Temp_idx,ksei_idx,dsei_idx)+'_comp_'+esoh_vars_str[ev_num]+'_rmse.png')"
   ]
  },
  {
   "cell_type": "markdown",
   "metadata": {},
   "source": [
    "## Plot eSOH error 3D"
   ]
  },
  {
   "cell_type": "code",
   "execution_count": null,
   "metadata": {},
   "outputs": [],
   "source": [
    "asdas"
   ]
  },
  {
   "cell_type": "code",
   "execution_count": null,
   "metadata": {},
   "outputs": [],
   "source": [
    "dfc= pd.read_csv(res_DIR+'sens_rmse_all'+'.csv')"
   ]
  },
  {
   "cell_type": "code",
   "execution_count": null,
   "metadata": {},
   "outputs": [],
   "source": [
    "fig = plt.figure()\n",
    "ax = plt.axes(projection='3d')\n",
    "\n",
    "X,Y = np.meshgrid(dfc['k_sei'],dfc['d_sei'])\n",
    "\n",
    "ax.scatter3D(np.log(dfc['k_sei']),np.log(dfc['d_sei']),dfc['x_100'])\n",
    "ax.set_xlabel('k_sei multiplier [log]')\n",
    "ax.set_ylabel('d_sei multiplier [log]')\n",
    "ax.set_zlabel('RMSE')\n",
    "ax.view_init(0,-90)"
   ]
  },
  {
   "cell_type": "code",
   "execution_count": null,
   "metadata": {},
   "outputs": [],
   "source": [
    "esoh_vars_str = [\"x_100\", \"y_0\", \"cap\", \"LLI\"]\n",
    "ii = 0\n",
    "for ii in range(len(esoh_vars_str)):\n",
    "    ii\n",
    "    fig = plt.figure()\n",
    "    ax = plt.axes(projection='3d')\n",
    "    # ax.contour3D(X, Y, Z, 50, cmap='binary')\n",
    "    ax.tricontourf(np.log(dfc['k_sei']),np.log(dfc['d_sei']),dfc[esoh_vars_str[ii]])\n",
    "    ax.set_xlabel('k_sei multiplier [log]')\n",
    "    ax.set_ylabel('d_sei multiplier [log]')\n",
    "    ax.set_zlabel('RMSE')\n",
    "    ax.set_title(esoh_vars_str[ii])\n",
    "    ax.view_init(45,-45)\n",
    "    # ax.view_init(0,-90)\n",
    "    plt.savefig(fig_DIR+'sens_rmse_cont_{0}'.format(esoh_vars_str[ii])+'.png')\n"
   ]
  },
  {
   "cell_type": "code",
   "execution_count": 72,
   "metadata": {},
   "outputs": [
    {
     "data": {
      "text/html": [
       "<div>\n",
       "<style scoped>\n",
       "    .dataframe tbody tr th:only-of-type {\n",
       "        vertical-align: middle;\n",
       "    }\n",
       "\n",
       "    .dataframe tbody tr th {\n",
       "        vertical-align: top;\n",
       "    }\n",
       "\n",
       "    .dataframe thead th {\n",
       "        text-align: right;\n",
       "    }\n",
       "</style>\n",
       "<table border=\"1\" class=\"dataframe\">\n",
       "  <thead>\n",
       "    <tr style=\"text-align: right;\">\n",
       "      <th></th>\n",
       "      <th>index</th>\n",
       "      <th>x_100</th>\n",
       "      <th>y_0</th>\n",
       "      <th>C_n</th>\n",
       "      <th>C_p</th>\n",
       "      <th>cap</th>\n",
       "      <th>LLI</th>\n",
       "      <th>k_sei</th>\n",
       "      <th>d_sei</th>\n",
       "    </tr>\n",
       "  </thead>\n",
       "  <tbody>\n",
       "    <tr>\n",
       "      <th>0</th>\n",
       "      <td>0</td>\n",
       "      <td>0.016862</td>\n",
       "      <td>0.022615</td>\n",
       "      <td>0.103475</td>\n",
       "      <td>0.109709</td>\n",
       "      <td>0.079132</td>\n",
       "      <td>1.66615</td>\n",
       "      <td>1.0</td>\n",
       "      <td>1.0</td>\n",
       "    </tr>\n",
       "  </tbody>\n",
       "</table>\n",
       "</div>"
      ],
      "text/plain": [
       "   index     x_100       y_0       C_n       C_p       cap      LLI  k_sei  \\\n",
       "0      0  0.016862  0.022615  0.103475  0.109709  0.079132  1.66615    1.0   \n",
       "\n",
       "   d_sei  \n",
       "0    1.0  "
      ]
     },
     "execution_count": 72,
     "metadata": {},
     "output_type": "execute_result"
    }
   ],
   "source": [
    "dfc[dfc.x_100 == dfc.x_100.min()]"
   ]
  },
  {
   "cell_type": "code",
   "execution_count": 73,
   "metadata": {},
   "outputs": [
    {
     "data": {
      "text/html": [
       "<div>\n",
       "<style scoped>\n",
       "    .dataframe tbody tr th:only-of-type {\n",
       "        vertical-align: middle;\n",
       "    }\n",
       "\n",
       "    .dataframe tbody tr th {\n",
       "        vertical-align: top;\n",
       "    }\n",
       "\n",
       "    .dataframe thead th {\n",
       "        text-align: right;\n",
       "    }\n",
       "</style>\n",
       "<table border=\"1\" class=\"dataframe\">\n",
       "  <thead>\n",
       "    <tr style=\"text-align: right;\">\n",
       "      <th></th>\n",
       "      <th>index</th>\n",
       "      <th>x_100</th>\n",
       "      <th>y_0</th>\n",
       "      <th>C_n</th>\n",
       "      <th>C_p</th>\n",
       "      <th>cap</th>\n",
       "      <th>LLI</th>\n",
       "      <th>k_sei</th>\n",
       "      <th>d_sei</th>\n",
       "    </tr>\n",
       "  </thead>\n",
       "  <tbody>\n",
       "    <tr>\n",
       "      <th>29</th>\n",
       "      <td>2</td>\n",
       "      <td>0.020361</td>\n",
       "      <td>0.018538</td>\n",
       "      <td>0.103475</td>\n",
       "      <td>0.109709</td>\n",
       "      <td>0.076344</td>\n",
       "      <td>1.5295</td>\n",
       "      <td>1.5</td>\n",
       "      <td>0.01</td>\n",
       "    </tr>\n",
       "  </tbody>\n",
       "</table>\n",
       "</div>"
      ],
      "text/plain": [
       "    index     x_100       y_0       C_n       C_p       cap     LLI  k_sei  \\\n",
       "29      2  0.020361  0.018538  0.103475  0.109709  0.076344  1.5295    1.5   \n",
       "\n",
       "    d_sei  \n",
       "29   0.01  "
      ]
     },
     "execution_count": 73,
     "metadata": {},
     "output_type": "execute_result"
    }
   ],
   "source": [
    "dfc[dfc.y_0 == dfc.y_0.min()]"
   ]
  },
  {
   "cell_type": "code",
   "execution_count": 74,
   "metadata": {},
   "outputs": [
    {
     "data": {
      "text/html": [
       "<div>\n",
       "<style scoped>\n",
       "    .dataframe tbody tr th:only-of-type {\n",
       "        vertical-align: middle;\n",
       "    }\n",
       "\n",
       "    .dataframe tbody tr th {\n",
       "        vertical-align: top;\n",
       "    }\n",
       "\n",
       "    .dataframe thead th {\n",
       "        text-align: right;\n",
       "    }\n",
       "</style>\n",
       "<table border=\"1\" class=\"dataframe\">\n",
       "  <thead>\n",
       "    <tr style=\"text-align: right;\">\n",
       "      <th></th>\n",
       "      <th>index</th>\n",
       "      <th>x_100</th>\n",
       "      <th>y_0</th>\n",
       "      <th>C_n</th>\n",
       "      <th>C_p</th>\n",
       "      <th>cap</th>\n",
       "      <th>LLI</th>\n",
       "      <th>k_sei</th>\n",
       "      <th>d_sei</th>\n",
       "    </tr>\n",
       "  </thead>\n",
       "  <tbody>\n",
       "    <tr>\n",
       "      <th>9</th>\n",
       "      <td>0</td>\n",
       "      <td>0.017943</td>\n",
       "      <td>0.021713</td>\n",
       "      <td>0.103475</td>\n",
       "      <td>0.109709</td>\n",
       "      <td>0.069266</td>\n",
       "      <td>1.023124</td>\n",
       "      <td>1.0</td>\n",
       "      <td>0.1</td>\n",
       "    </tr>\n",
       "  </tbody>\n",
       "</table>\n",
       "</div>"
      ],
      "text/plain": [
       "   index     x_100       y_0       C_n       C_p       cap       LLI  k_sei  \\\n",
       "9      0  0.017943  0.021713  0.103475  0.109709  0.069266  1.023124    1.0   \n",
       "\n",
       "   d_sei  \n",
       "9    0.1  "
      ]
     },
     "execution_count": 74,
     "metadata": {},
     "output_type": "execute_result"
    }
   ],
   "source": [
    "dfc[dfc.cap == dfc.cap.min()]"
   ]
  },
  {
   "cell_type": "code",
   "execution_count": 76,
   "metadata": {},
   "outputs": [
    {
     "data": {
      "text/html": [
       "<div>\n",
       "<style scoped>\n",
       "    .dataframe tbody tr th:only-of-type {\n",
       "        vertical-align: middle;\n",
       "    }\n",
       "\n",
       "    .dataframe tbody tr th {\n",
       "        vertical-align: top;\n",
       "    }\n",
       "\n",
       "    .dataframe thead th {\n",
       "        text-align: right;\n",
       "    }\n",
       "</style>\n",
       "<table border=\"1\" class=\"dataframe\">\n",
       "  <thead>\n",
       "    <tr style=\"text-align: right;\">\n",
       "      <th></th>\n",
       "      <th>index</th>\n",
       "      <th>x_100</th>\n",
       "      <th>y_0</th>\n",
       "      <th>C_n</th>\n",
       "      <th>C_p</th>\n",
       "      <th>cap</th>\n",
       "      <th>LLI</th>\n",
       "      <th>k_sei</th>\n",
       "      <th>d_sei</th>\n",
       "    </tr>\n",
       "  </thead>\n",
       "  <tbody>\n",
       "    <tr>\n",
       "      <th>9</th>\n",
       "      <td>0</td>\n",
       "      <td>0.017943</td>\n",
       "      <td>0.021713</td>\n",
       "      <td>0.103475</td>\n",
       "      <td>0.109709</td>\n",
       "      <td>0.069266</td>\n",
       "      <td>1.023124</td>\n",
       "      <td>1.0</td>\n",
       "      <td>0.1</td>\n",
       "    </tr>\n",
       "  </tbody>\n",
       "</table>\n",
       "</div>"
      ],
      "text/plain": [
       "   index     x_100       y_0       C_n       C_p       cap       LLI  k_sei  \\\n",
       "9      0  0.017943  0.021713  0.103475  0.109709  0.069266  1.023124    1.0   \n",
       "\n",
       "   d_sei  \n",
       "9    0.1  "
      ]
     },
     "execution_count": 76,
     "metadata": {},
     "output_type": "execute_result"
    }
   ],
   "source": [
    "dfc[dfc.LLI == dfc.LLI.min()]"
   ]
  }
 ],
 "metadata": {
  "kernelspec": {
   "display_name": "Python 3.9.7 64-bit ('windows-dev': venv)",
   "language": "python",
   "name": "python3"
  },
  "language_info": {
   "codemirror_mode": {
    "name": "ipython",
    "version": 3
   },
   "file_extension": ".py",
   "mimetype": "text/x-python",
   "name": "python",
   "nbconvert_exporter": "python",
   "pygments_lexer": "ipython3",
   "version": "3.9.7"
  },
  "orig_nbformat": 4,
  "vscode": {
   "interpreter": {
    "hash": "f09d3dac03808011dce2708ac4743ff9bfbc3811517b446239dd0644e1df0f4f"
   }
  }
 },
 "nbformat": 4,
 "nbformat_minor": 2
}
