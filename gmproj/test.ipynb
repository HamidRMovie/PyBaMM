{
 "cells": [
  {
   "cell_type": "code",
   "execution_count": 1,
   "metadata": {},
   "outputs": [],
   "source": [
    "import pybamm\n",
    "import matplotlib.pyplot as plt\n",
    "import numpy as np\n",
    "import pandas as pd\n",
    "import math\n",
    "import dfols\n",
    "import signal\n",
    "from scipy.integrate import solve_ivp\n",
    "from scipy.fft import fft, fftfreq, fftshift\n",
    "from scipy.signal import savgol_filter\n",
    "from scipy.signal import find_peaks\n",
    "from scipy import interpolate\n",
    "from stopit import threading_timeoutable as timeoutable\n",
    "\n",
    "\n",
    "eSOH_DIR = \"./data/esoh_R/\"\n",
    "oCV_DIR = \"./data/ocv/\"\n",
    "fig_DIR = \"./figures_fit/\"\n",
    "res_DIR = \"./data/results_fit/\"\n",
    "# %matplotlib widget"
   ]
  },
  {
   "cell_type": "code",
   "execution_count": 2,
   "metadata": {},
   "outputs": [],
   "source": [
    "def nmc_volume_change_mohtat(sto,c_s_max):\n",
    "    t_change = -1.10/100*(1-sto)\n",
    "    return t_change\n",
    "\n",
    "def graphite_volume_change_mohtat(sto,c_s_max):\n",
    "    stoichpoints = np.array([0,0.12,0.18,0.24,0.50,1])\n",
    "    thicknesspoints = np.array([0,2.406/100,3.3568/100,4.3668/100,5.583/100,13.0635/100])\n",
    "    x = [sto]\n",
    "    t_change = pybamm.Interpolant(stoichpoints, thicknesspoints, x, name=None, interpolator='linear', extrapolate=True, entries_string=None)\n",
    "    return t_change\n",
    "\n",
    "def get_parameter_values():\n",
    "    parameter_values = pybamm.ParameterValues(chemistry=pybamm.parameter_sets.Mohtat2020)\n",
    "    parameter_values.update(\n",
    "        {\n",
    "            # mechanical properties\n",
    "            \"Positive electrode Poisson's ratio\": 0.3,\n",
    "            \"Positive electrode Young's modulus [Pa]\": 375e9,\n",
    "            \"Positive electrode reference concentration for free of deformation [mol.m-3]\": 0,\n",
    "            \"Positive electrode partial molar volume [m3.mol-1]\": -7.28e-7,\n",
    "            \"Positive electrode volume change\": nmc_volume_change_mohtat,\n",
    "            # Loss of active materials (LAM) model\n",
    "            \"Positive electrode LAM constant exponential term\": 2,\n",
    "            \"Positive electrode critical stress [Pa]\": 375e6,\n",
    "            # mechanical properties\n",
    "            \"Negative electrode Poisson's ratio\": 0.2,\n",
    "            \"Negative electrode Young's modulus [Pa]\": 15e9,\n",
    "            \"Negative electrode reference concentration for free of deformation [mol.m-3]\": 0,\n",
    "            \"Negative electrode partial molar volume [m3.mol-1]\": 3.1e-6,\n",
    "            \"Negative electrode volume change\": graphite_volume_change_mohtat,\n",
    "            # Loss of active materials (LAM) model\n",
    "            \"Negative electrode LAM constant exponential term\": 2,\n",
    "            \"Negative electrode critical stress [Pa]\": 60e6,\n",
    "            # Other\n",
    "            \"Cell thermal expansion coefficient [m.K-1]\": 1.48E-6,\n",
    "            \"Lower voltage cut-off [V]\": 3.0\n",
    "        },\n",
    "        check_already_exists=False,\n",
    "    )\n",
    "    return parameter_values\n",
    "parameter_values = get_parameter_values()"
   ]
  },
  {
   "cell_type": "code",
   "execution_count": 3,
   "metadata": {},
   "outputs": [],
   "source": [
    "def split_long_string(title, max_words=None):\n",
    "    \"\"\"Get title in a nice format\"\"\"\n",
    "    max_words = max_words or pybamm.settings.max_words_in_line\n",
    "    words = title.split()\n",
    "    # Don't split if fits on one line, don't split just for units\n",
    "    if len(words) <= max_words or words[max_words].startswith(\"[\"):\n",
    "        return title\n",
    "    else:\n",
    "        first_line = (\" \").join(words[:max_words])\n",
    "        second_line = (\" \").join(words[max_words:])\n",
    "        return first_line + \"\\n\" + second_line"
   ]
  },
  {
   "cell_type": "code",
   "execution_count": 4,
   "metadata": {},
   "outputs": [],
   "source": [
    "cell = 1\n"
   ]
  },
  {
   "cell_type": "code",
   "execution_count": 5,
   "metadata": {},
   "outputs": [],
   "source": [
    "def load_data(cell): \n",
    "    cell_no = f'{cell:02d}'\n",
    "    dfe=pd.read_csv(eSOH_DIR+\"aging_param_cell_\"+cell_no+\".csv\")\n",
    "    dfe_0=pd.read_csv(eSOH_DIR+\"aging_param_cell_\"+cell_no+\".csv\")\n",
    "    dfo_0=pd.read_csv(oCV_DIR+\"ocv_data_cell_\"+cell_no+\".csv\")\n",
    "    dfe = dfe.drop(dfe.index[0])\n",
    "    dfe = dfe.reset_index(drop=True)\n",
    "    if cell_no=='13':\n",
    "        dfe = dfe.drop(dfe.index[-1])\n",
    "        dfe = dfe.reset_index(drop=True)\n",
    "        dfe_0 = dfe_0.drop(dfe_0.index[-1])\n",
    "        dfe_0 = dfe_0.reset_index(drop=True)\n",
    "    dfe['N']=dfe['N']-dfe['N'][0]\n",
    "    N =dfe.N.unique()\n",
    "    N_0 = dfe_0.N.unique()\n",
    "    print(\"Cycle Numbers:\")\n",
    "    print(*N, sep = \", \") \n",
    "    print(len(N_0))\n",
    "    print(len(dfo_0))\n",
    "    rev_exp = []\n",
    "    irrev_exp = []\n",
    "\n",
    "    for i in range(len(N_0)-1):\n",
    "        # print(i)\n",
    "        dfo = dfo_0[dfo_0['N']==N_0[i+1]]\n",
    "        # print(max(dfo['E'])-min(dfo['E']))\n",
    "        rev_exp.append(max(dfo['E'])-min(dfo['E']))\n",
    "    dfe['rev_exp']=rev_exp\n",
    "    print('Reversible Expansion')\n",
    "\n",
    "    dfo_1 = dfo_0[dfo_0['N']==N_0[1]]\n",
    "    for i in range(len(N_0)-1):\n",
    "        # print(i)\n",
    "        dfo = dfo_0[dfo_0['N']==N_0[i+1]]\n",
    "        # print(max(dfo['E'])-min(dfo['E']))\n",
    "        irrev_exp.append(min(dfo['E'])-min(dfo_1['E']))\n",
    "    dfe['irrev_exp']=irrev_exp\n",
    "    print('Irreversible Expansion')\n",
    "    return cell_no,dfe,dfe_0,dfo_0,N,N_0"
   ]
  },
  {
   "cell_type": "code",
   "execution_count": 6,
   "metadata": {},
   "outputs": [
    {
     "name": "stdout",
     "output_type": "stream",
     "text": [
      "Cycle Numbers:\n",
      "0, 18, 57, 93, 134, 175, 216, 257, 298, 339\n",
      "11\n",
      "68752\n",
      "Reversible Expansion\n",
      "Irreversible Expansion\n"
     ]
    }
   ],
   "source": [
    "cell_no,dfe,dfe_0,dfo_0,N,N_0 = load_data(cell)"
   ]
  },
  {
   "cell_type": "code",
   "execution_count": 7,
   "metadata": {},
   "outputs": [],
   "source": [
    "def init_exp(cell_no,dfe):\n",
    "    # dfe_0 = dfe[dfe['N']==N[0]]\n",
    "    C_n_init = dfe['C_n'][0]\n",
    "    C_p_init = dfe['C_p'][0]\n",
    "    y_0_init = dfe['y_0'][0] \n",
    "    if cell_no=='01':\n",
    "        c_rate_c = 'C/5'\n",
    "        c_rate_d = 'C/5'\n",
    "        dis_set = \" until 3V\"\n",
    "    elif cell_no=='04':\n",
    "        c_rate_c = '1.5C'\n",
    "        c_rate_d = '1.5C'\n",
    "        dis_set = \" until 3V\"\n",
    "    elif cell_no=='07':\n",
    "        c_rate_c = '2C'\n",
    "        c_rate_d = '2C'\n",
    "        dis_set = \" until 3V\"\n",
    "    elif cell_no=='10':\n",
    "        c_rate_c = 'C/5'\n",
    "        c_rate_d = '1.5C'\n",
    "        dis_set = \" until 3V\"\n",
    "    elif cell_no=='13':\n",
    "        c_rate_c = 'C/5'\n",
    "        c_rate_d = 'C/5'\n",
    "        dis_set = \" for 150 min\"\n",
    "    elif cell_no=='16':\n",
    "        c_rate_c = 'C/5'\n",
    "        c_rate_d = '1.5C'\n",
    "        dis_set = \" for 20 min\"\n",
    "\n",
    "    return C_n_init,C_p_init,y_0_init,c_rate_c,c_rate_d,dis_set"
   ]
  },
  {
   "cell_type": "code",
   "execution_count": 8,
   "metadata": {},
   "outputs": [],
   "source": [
    "C_n_init,C_p_init,y_0_init,c_rate_c,c_rate_d,dis_set = init_exp(cell_no,dfe)"
   ]
  },
  {
   "cell_type": "code",
   "execution_count": 28,
   "metadata": {},
   "outputs": [],
   "source": [
    "pybamm.set_logging_level(\"WARNING\")\n",
    "# pybamm.set_logging_level(\"NOTICE\")\n",
    "experiment = pybamm.Experiment(\n",
    "    [\n",
    "        (\"Discharge at \"+c_rate_d+dis_set,\n",
    "         \"Rest for 5 min\",\n",
    "         \"Charge at \"+c_rate_c+\" until 4.2V\", \n",
    "         \"Hold at 4.2V until C/50\")\n",
    "    ] *dfe.N.iloc[-1],\n",
    "    termination=\"50% capacity\",\n",
    "#     cccv_handling=\"ode\",\n",
    ")\n",
    "spm = pybamm.lithium_ion.SPM(\n",
    "    {\n",
    "        \"SEI\": \"ec reaction limited\",\n",
    "        # \"loss of active material\": (\"stress-driven\",\"none\"),\n",
    "        \"loss of active material\": \"stress-driven\",\n",
    "        \"stress-induced diffusion\": \"true\",\n",
    "        # \"lithium plating\": \"reversible\",\n",
    "    }\n",
    ")\n",
    "# spm.print_parameter_info()"
   ]
  },
  {
   "cell_type": "code",
   "execution_count": 10,
   "metadata": {},
   "outputs": [],
   "source": [
    "param = spm.param\n",
    "eps_n_data = parameter_values.evaluate(C_n_init*3600/(param.n.L * param.n.c_max * param.F* param.A_cc))\n",
    "eps_p_data = parameter_values.evaluate(C_p_init*3600/(param.p.L * param.p.c_max * param.F* param.A_cc))\n",
    "cs_p_init = parameter_values.evaluate(y_0_init* param.p.c_max)"
   ]
  },
  {
   "cell_type": "code",
   "execution_count": 11,
   "metadata": {},
   "outputs": [],
   "source": [
    "tun_par_all=pd.read_csv(res_DIR+\"fit_train_summary\"+\".csv\")"
   ]
  },
  {
   "cell_type": "code",
   "execution_count": 12,
   "metadata": {},
   "outputs": [],
   "source": [
    "tun_par=tun_par_all[tun_par_all['cell_no']==cell]\n",
    "tun_par=tun_par.reset_index()"
   ]
  },
  {
   "cell_type": "code",
   "execution_count": 13,
   "metadata": {},
   "outputs": [],
   "source": [
    "parameter_values = get_parameter_values()\n",
    "\n",
    "parameter_values.update(\n",
    "    {\n",
    "        \"SEI kinetic rate constant [m.s-1]\": tun_par['k_sei'][0],\n",
    "        \"Positive electrode LAM constant proportional term [s-1]\": tun_par['blam_p'][0],\n",
    "        \"Negative electrode LAM constant proportional term [s-1]\": tun_par['blam_n'][0],\n",
    "        # \"SEI kinetic rate constant [m.s-1]\": 1.6827e-16, #1.6827e-16\n",
    "        # \"Positive electrode LAM constant proportional term [s-1]\": 4.20e-06, #4.03536e-06\n",
    "        # \"Negative electrode LAM constant proportional term [s-1]\": 5.38e-05, #5.24755e-05\n",
    "        \"EC diffusivity [m2.s-1]\": 2e-18,\n",
    "        \"Positive electrode LAM constant exponential term\": 2,\n",
    "        \"Negative electrode LAM constant exponential term\": 2,\n",
    "        \"Negative electrode active material volume fraction\": eps_n_data,\n",
    "        \"Positive electrode active material volume fraction\": eps_p_data,\n",
    "    },\n",
    "    check_already_exists=False,\n",
    ")"
   ]
  },
  {
   "cell_type": "code",
   "execution_count": 14,
   "metadata": {},
   "outputs": [],
   "source": [
    "model=spm\n",
    "SOC_0=1\n",
    "save_at_cycles=None"
   ]
  },
  {
   "cell_type": "code",
   "execution_count": 15,
   "metadata": {},
   "outputs": [
    {
     "name": "stderr",
     "output_type": "stream",
     "text": [
      "2022-08-22 13:31:24.871 - [NOTICE] callbacks.on_cycle_start(174): Cycle 1/1 (27.957 ms elapsed) --------------------\n",
      "2022-08-22 13:31:24.872 - [NOTICE] callbacks.on_step_start(182): Cycle 1/1, step 1/4: Discharge at C/5 until 3V\n",
      "2022-08-22 13:31:25.112 - [NOTICE] callbacks.on_step_start(182): Cycle 1/1, step 2/4: Rest for 5 min\n",
      "2022-08-22 13:31:25.163 - [NOTICE] callbacks.on_step_start(182): Cycle 1/1, step 3/4: Charge at C/5 until 4.2V\n",
      "2022-08-22 13:31:25.379 - [NOTICE] callbacks.on_step_start(182): Cycle 1/1, step 4/4: Hold at 4.2V until C/50\n",
      "2022-08-22 13:31:25.658 - [NOTICE] callbacks.on_cycle_end(196): Capacity is now 4.861 Ah (originally 4.861 Ah, will stop at 2.430 Ah)\n",
      "2022-08-22 13:31:25.659 - [NOTICE] callbacks.on_experiment_end(222): Finish experiment simulation, took 815.209 ms\n"
     ]
    }
   ],
   "source": [
    "experiment_one_cycle = pybamm.Experiment(\n",
    "    experiment.operating_conditions_cycles[:1],\n",
    "    termination=experiment.termination_string,\n",
    "    cccv_handling=experiment.cccv_handling,\n",
    ")\n",
    "Vmin = 3.0\n",
    "Vmax = 4.2\n",
    "esoh_model = pybamm.lithium_ion.ElectrodeSOH()\n",
    "esoh_sim = pybamm.Simulation(esoh_model, parameter_values=parameter_values)\n",
    "param = model.param\n",
    "Cn = parameter_values.evaluate(param.n.cap_init)\n",
    "Cp = parameter_values.evaluate(param.p.cap_init)\n",
    "eps_n = parameter_values[\"Negative electrode active material volume fraction\"]\n",
    "eps_p = parameter_values[\"Positive electrode active material volume fraction\"]\n",
    "C_over_eps_n = Cn / eps_n\n",
    "C_over_eps_p = Cp / eps_p\n",
    "c_n_max = parameter_values.evaluate(param.n.c_max)\n",
    "c_p_max = parameter_values.evaluate(param.p.c_max)\n",
    "n_Li_init = parameter_values.evaluate(param.n_Li_particles_init)\n",
    "\n",
    "esoh_sol = esoh_sim.solve(\n",
    "    [0],\n",
    "    inputs={\"V_min\": Vmin, \"V_max\": Vmax, \"C_n\": Cn, \"C_p\": Cp, \"n_Li\": n_Li_init},\n",
    "    solver=pybamm.AlgebraicSolver(),\n",
    ")\n",
    "\n",
    "parameter_values.update(\n",
    "    {\n",
    "        \"Initial concentration in negative electrode [mol.m-3]\": esoh_sol[\n",
    "            \"x_100\"\n",
    "        ].data[0]\n",
    "        * c_n_max,\n",
    "        \"Initial concentration in positive electrode [mol.m-3]\": esoh_sol[\n",
    "            \"y_100\"\n",
    "        ].data[0]\n",
    "        * c_p_max,\n",
    "        \n",
    "    }\n",
    ")\n",
    "\n",
    "sim_ode = pybamm.Simulation(\n",
    "    model, experiment=experiment_one_cycle, parameter_values=parameter_values,\n",
    "    solver=pybamm.CasadiSolver(\"safe\")\n",
    ")\n",
    "sol0 = sim_ode.solve(initial_soc=SOC_0)\n",
    "model = sim_ode.solution.all_models[0]\n",
    "cap0 = sol0.summary_variables[\"Capacity [A.h]\"]"
   ]
  },
  {
   "cell_type": "code",
   "execution_count": 16,
   "metadata": {},
   "outputs": [
    {
     "data": {
      "text/plain": [
       "array([4.86098326])"
      ]
     },
     "execution_count": 16,
     "metadata": {},
     "output_type": "execute_result"
    }
   ],
   "source": [
    "cap0"
   ]
  },
  {
   "cell_type": "code",
   "execution_count": 72,
   "metadata": {},
   "outputs": [],
   "source": [
    "def sol_to_y(sol, loc=\"end\"):\n",
    "    if loc == \"start\":\n",
    "        pos = 0\n",
    "    elif loc == \"end\":\n",
    "        pos = -1\n",
    "    model = sol.all_models[0]\n",
    "    n_Li = sol[\"Total lithium in particles [mol]\"].data[pos].flatten()\n",
    "    Cn = sol[\"Negative electrode capacity [A.h]\"].data[pos].flatten()\n",
    "    Cp = sol[\"Positive electrode capacity [A.h]\"].data[pos].flatten()\n",
    "    # y = np.concatenate([n_Li, Cn, Cp])\n",
    "    y = n_Li\n",
    "    for var in model.initial_conditions:\n",
    "        if var.name not in [\n",
    "            \"X-averaged negative particle concentration\",\n",
    "            \"X-averaged positive particle concentration\",\n",
    "            \"Discharge capacity [A.h]\",\n",
    "        ]:\n",
    "            value = sol[var.name].data\n",
    "            if value.ndim == 1:\n",
    "                value = value[pos]\n",
    "            elif value.ndim == 2:\n",
    "                value = value[:, pos]\n",
    "            elif value.ndim == 3:\n",
    "                value = value[:, :, pos]\n",
    "            y = np.concatenate([y, value.flatten()])\n",
    "    return y\n",
    "\n",
    "def y_to_sol(y, esoh_sim, model):\n",
    "    print('Start y_to_sol')\n",
    "    print(y[3])\n",
    "    n_Li = y[0]\n",
    "    Cn = C_over_eps_n * y[1]\n",
    "    Cp = C_over_eps_p * y[2]\n",
    "\n",
    "    esoh_sol = esoh_sim.solve(\n",
    "        [0],\n",
    "        inputs={\"V_min\": Vmin, \"V_max\": Vmax, \"C_n\": Cn, \"C_p\": Cp, \"n_Li\": n_Li},\n",
    "    )\n",
    "    esoh_sim.built_model.set_initial_conditions_from(esoh_sol)\n",
    "    ics = {}\n",
    "    x_100 = esoh_sol[\"x_100\"].data[0]\n",
    "    y_100 = esoh_sol[\"y_100\"].data[0]\n",
    "    x_0 = esoh_sol[\"x_0\"].data[0]\n",
    "    y_0 = esoh_sol[\"y_0\"].data[0]\n",
    "    start = 1\n",
    "    for var in model.initial_conditions:\n",
    "        if var.name == \"X-averaged negative particle concentration\":\n",
    "            ics[var.name] = ((x_100-x_0)*SOC_0+x_0) * np.ones((model.variables[var.name].size, 2))\n",
    "        elif var.name == \"X-averaged positive particle concentration\":\n",
    "            ics[var.name] = ((y_100-y_0)*SOC_0+y_0) * np.ones((model.variables[var.name].size, 2))\n",
    "        elif var.name == \"Discharge capacity [A.h]\":\n",
    "            ics[var.name] = np.zeros(1)\n",
    "        else:\n",
    "            end = start + model.variables[var.name].size\n",
    "            ics[var.name] = y[start:end, np.newaxis]\n",
    "            start = end\n",
    "    model.set_initial_conditions_from(ics)\n",
    "    print('End y_to_sol')\n",
    "    print(pybamm.Solution(\n",
    "\n",
    "        [np.array([0])],\n",
    "        model.concatenated_initial_conditions.evaluate()[:, np.newaxis],\n",
    "        model,\n",
    "        {},\n",
    "    ))\n",
    "    return pybamm.Solution(\n",
    "        [np.array([0])],\n",
    "        model.concatenated_initial_conditions.evaluate()[:, np.newaxis],\n",
    "        model,\n",
    "        {},\n",
    "    )\n",
    "\n",
    "def dydt(t, y):\n",
    "    print('Start dydt')\n",
    "    if y[0] < 0 or y[1] < 0 or y[2] < 0:\n",
    "        return 0 * y\n",
    "\n",
    "    print(t)\n",
    "    # Set up based on current value of y\n",
    "    y_to_sol(\n",
    "        y,\n",
    "        esoh_sim,\n",
    "        sim_ode.op_conds_to_built_models[\n",
    "            experiment_one_cycle.operating_conditions[0][\"electric\"]\n",
    "        ],\n",
    "    )\n",
    "    # Simulate one cycle\n",
    "    print(\"before sol\")\n",
    "    sol = sim_ode.solve()\n",
    "    print(\"After sol\")\n",
    "    dy = sol_to_y(sol) - y\n",
    "    print('End dydt')\n",
    "    return dy\n"
   ]
  },
  {
   "cell_type": "code",
   "execution_count": 23,
   "metadata": {},
   "outputs": [
    {
     "name": "stdout",
     "output_type": "stream",
     "text": [
      "2\n"
     ]
    }
   ],
   "source": [
    "if experiment.termination == {}:\n",
    "    event = None\n",
    "    print('1')\n",
    "else:\n",
    "    print('2')\n",
    "    def capacity_cutoff(t, y):\n",
    "        sol = y_to_sol(y, esoh_sim, model)\n",
    "        cap = pybamm.make_cycle_solution([sol], esoh_sim, True)[1][\"Capacity [A.h]\"]\n",
    "        return cap / cap0 - experiment_one_cycle.termination[\"capacity\"][0] / 100\n",
    "\n",
    "    capacity_cutoff.terminal = True"
   ]
  },
  {
   "cell_type": "code",
   "execution_count": 30,
   "metadata": {},
   "outputs": [],
   "source": [
    "num_cycles = len(experiment.operating_conditions_cycles)\n",
    "if save_at_cycles is None:\n",
    "    t_eval = np.arange(1, num_cycles + 1)\n",
    "elif save_at_cycles == -1:\n",
    "    t_eval = None\n",
    "else:\n",
    "    t_eval = np.arange(1, num_cycles + 1, save_at_cycles)\n",
    "y0 = sol_to_y(sol0, loc=\"start\")\n",
    "timer = pybamm.Timer()"
   ]
  },
  {
   "cell_type": "code",
   "execution_count": 31,
   "metadata": {},
   "outputs": [
    {
     "data": {
      "text/plain": [
       "array([0.18896994, 0.59957373, 0.43573014, 1.        ])"
      ]
     },
     "execution_count": 31,
     "metadata": {},
     "output_type": "execute_result"
    }
   ],
   "source": [
    "y0 = sol_to_y(sol0, loc=\"start\")"
   ]
  },
  {
   "cell_type": "code",
   "execution_count": 73,
   "metadata": {},
   "outputs": [
    {
     "name": "stdout",
     "output_type": "stream",
     "text": [
      "Start dydt\n",
      "1.0\n",
      "Start y_to_sol\n",
      "1.0\n",
      "End y_to_sol\n",
      "<pybamm.solvers.solution.Solution object at 0x000002631E479460>\n",
      "before sol\n",
      "After sol\n",
      "End dydt\n",
      "Start y_to_sol\n",
      "1.0\n",
      "End y_to_sol\n",
      "<pybamm.solvers.solution.Solution object at 0x0000026320079520>\n"
     ]
    },
    {
     "ename": "ValueError",
     "evalue": "diff requires input that is at least one dimensional",
     "output_type": "error",
     "traceback": [
      "\u001b[1;31m---------------------------------------------------------------------------\u001b[0m",
      "\u001b[1;31mValueError\u001b[0m                                Traceback (most recent call last)",
      "\u001b[1;32mc:\\Users\\spannala\\PyBaMM\\gmproj\\test.ipynb Cell 21\u001b[0m in \u001b[0;36m<cell line: 1>\u001b[1;34m()\u001b[0m\n\u001b[1;32m----> <a href='vscode-notebook-cell:/c%3A/Users/spannala/PyBaMM/gmproj/test.ipynb#X44sZmlsZQ%3D%3D?line=0'>1</a>\u001b[0m sol \u001b[39m=\u001b[39m solve_ivp(\n\u001b[0;32m      <a href='vscode-notebook-cell:/c%3A/Users/spannala/PyBaMM/gmproj/test.ipynb#X44sZmlsZQ%3D%3D?line=1'>2</a>\u001b[0m     dydt,\n\u001b[0;32m      <a href='vscode-notebook-cell:/c%3A/Users/spannala/PyBaMM/gmproj/test.ipynb#X44sZmlsZQ%3D%3D?line=2'>3</a>\u001b[0m     [\u001b[39m1\u001b[39;49m, num_cycles],\n\u001b[0;32m      <a href='vscode-notebook-cell:/c%3A/Users/spannala/PyBaMM/gmproj/test.ipynb#X44sZmlsZQ%3D%3D?line=3'>4</a>\u001b[0m     y0,\n\u001b[0;32m      <a href='vscode-notebook-cell:/c%3A/Users/spannala/PyBaMM/gmproj/test.ipynb#X44sZmlsZQ%3D%3D?line=4'>5</a>\u001b[0m     t_eval\u001b[39m=\u001b[39;49mt_eval,\n\u001b[0;32m      <a href='vscode-notebook-cell:/c%3A/Users/spannala/PyBaMM/gmproj/test.ipynb#X44sZmlsZQ%3D%3D?line=5'>6</a>\u001b[0m     events\u001b[39m=\u001b[39;49mcapacity_cutoff,\n\u001b[0;32m      <a href='vscode-notebook-cell:/c%3A/Users/spannala/PyBaMM/gmproj/test.ipynb#X44sZmlsZQ%3D%3D?line=6'>7</a>\u001b[0m     first_step\u001b[39m=\u001b[39;49m\u001b[39m10\u001b[39;49m,\n\u001b[0;32m      <a href='vscode-notebook-cell:/c%3A/Users/spannala/PyBaMM/gmproj/test.ipynb#X44sZmlsZQ%3D%3D?line=7'>8</a>\u001b[0m     method\u001b[39m=\u001b[39;49m\u001b[39m\"\u001b[39;49m\u001b[39mRK23\u001b[39;49m\u001b[39m\"\u001b[39;49m,\n\u001b[0;32m      <a href='vscode-notebook-cell:/c%3A/Users/spannala/PyBaMM/gmproj/test.ipynb#X44sZmlsZQ%3D%3D?line=8'>9</a>\u001b[0m     atol\u001b[39m=\u001b[39;49m\u001b[39m1e-2\u001b[39;49m,\n\u001b[0;32m     <a href='vscode-notebook-cell:/c%3A/Users/spannala/PyBaMM/gmproj/test.ipynb#X44sZmlsZQ%3D%3D?line=9'>10</a>\u001b[0m     rtol\u001b[39m=\u001b[39;49m\u001b[39m1e-2\u001b[39;49m,\n\u001b[0;32m     <a href='vscode-notebook-cell:/c%3A/Users/spannala/PyBaMM/gmproj/test.ipynb#X44sZmlsZQ%3D%3D?line=10'>11</a>\u001b[0m )\n\u001b[0;32m     <a href='vscode-notebook-cell:/c%3A/Users/spannala/PyBaMM/gmproj/test.ipynb#X44sZmlsZQ%3D%3D?line=11'>12</a>\u001b[0m time \u001b[39m=\u001b[39m timer\u001b[39m.\u001b[39mtime()\n",
      "File \u001b[1;32mc:\\Users\\spannala\\PyBaMM\\.tox\\windows-dev\\lib\\site-packages\\scipy\\integrate\\_ivp\\ivp.py:571\u001b[0m, in \u001b[0;36msolve_ivp\u001b[1;34m(fun, t_span, y0, method, t_eval, dense_output, events, vectorized, args, **options)\u001b[0m\n\u001b[0;32m    564\u001b[0m \u001b[39mif\u001b[39;00m args \u001b[39mis\u001b[39;00m \u001b[39mnot\u001b[39;00m \u001b[39mNone\u001b[39;00m:\n\u001b[0;32m    565\u001b[0m     \u001b[39m# Wrap user functions in lambdas to hide the additional parameters.\u001b[39;00m\n\u001b[0;32m    566\u001b[0m     \u001b[39m# The original event function is passed as a keyword argument to the\u001b[39;00m\n\u001b[0;32m    567\u001b[0m     \u001b[39m# lambda to keep the original function in scope (i.e., avoid the\u001b[39;00m\n\u001b[0;32m    568\u001b[0m     \u001b[39m# late binding closure \"gotcha\").\u001b[39;00m\n\u001b[0;32m    569\u001b[0m     events \u001b[39m=\u001b[39m [\u001b[39mlambda\u001b[39;00m t, x, event\u001b[39m=\u001b[39mevent: event(t, x, \u001b[39m*\u001b[39margs)\n\u001b[0;32m    570\u001b[0m               \u001b[39mfor\u001b[39;00m event \u001b[39min\u001b[39;00m events]\n\u001b[1;32m--> 571\u001b[0m g \u001b[39m=\u001b[39m [event(t0, y0) \u001b[39mfor\u001b[39;00m event \u001b[39min\u001b[39;00m events]\n\u001b[0;32m    572\u001b[0m t_events \u001b[39m=\u001b[39m [[] \u001b[39mfor\u001b[39;00m _ \u001b[39min\u001b[39;00m \u001b[39mrange\u001b[39m(\u001b[39mlen\u001b[39m(events))]\n\u001b[0;32m    573\u001b[0m y_events \u001b[39m=\u001b[39m [[] \u001b[39mfor\u001b[39;00m _ \u001b[39min\u001b[39;00m \u001b[39mrange\u001b[39m(\u001b[39mlen\u001b[39m(events))]\n",
      "File \u001b[1;32mc:\\Users\\spannala\\PyBaMM\\.tox\\windows-dev\\lib\\site-packages\\scipy\\integrate\\_ivp\\ivp.py:571\u001b[0m, in \u001b[0;36m<listcomp>\u001b[1;34m(.0)\u001b[0m\n\u001b[0;32m    564\u001b[0m \u001b[39mif\u001b[39;00m args \u001b[39mis\u001b[39;00m \u001b[39mnot\u001b[39;00m \u001b[39mNone\u001b[39;00m:\n\u001b[0;32m    565\u001b[0m     \u001b[39m# Wrap user functions in lambdas to hide the additional parameters.\u001b[39;00m\n\u001b[0;32m    566\u001b[0m     \u001b[39m# The original event function is passed as a keyword argument to the\u001b[39;00m\n\u001b[0;32m    567\u001b[0m     \u001b[39m# lambda to keep the original function in scope (i.e., avoid the\u001b[39;00m\n\u001b[0;32m    568\u001b[0m     \u001b[39m# late binding closure \"gotcha\").\u001b[39;00m\n\u001b[0;32m    569\u001b[0m     events \u001b[39m=\u001b[39m [\u001b[39mlambda\u001b[39;00m t, x, event\u001b[39m=\u001b[39mevent: event(t, x, \u001b[39m*\u001b[39margs)\n\u001b[0;32m    570\u001b[0m               \u001b[39mfor\u001b[39;00m event \u001b[39min\u001b[39;00m events]\n\u001b[1;32m--> 571\u001b[0m g \u001b[39m=\u001b[39m [event(t0, y0) \u001b[39mfor\u001b[39;00m event \u001b[39min\u001b[39;00m events]\n\u001b[0;32m    572\u001b[0m t_events \u001b[39m=\u001b[39m [[] \u001b[39mfor\u001b[39;00m _ \u001b[39min\u001b[39;00m \u001b[39mrange\u001b[39m(\u001b[39mlen\u001b[39m(events))]\n\u001b[0;32m    573\u001b[0m y_events \u001b[39m=\u001b[39m [[] \u001b[39mfor\u001b[39;00m _ \u001b[39min\u001b[39;00m \u001b[39mrange\u001b[39m(\u001b[39mlen\u001b[39m(events))]\n",
      "\u001b[1;32mc:\\Users\\spannala\\PyBaMM\\gmproj\\test.ipynb Cell 21\u001b[0m in \u001b[0;36mcapacity_cutoff\u001b[1;34m(t, y)\u001b[0m\n\u001b[0;32m      <a href='vscode-notebook-cell:/c%3A/Users/spannala/PyBaMM/gmproj/test.ipynb#X44sZmlsZQ%3D%3D?line=5'>6</a>\u001b[0m \u001b[39mdef\u001b[39;00m \u001b[39mcapacity_cutoff\u001b[39m(t, y):\n\u001b[0;32m      <a href='vscode-notebook-cell:/c%3A/Users/spannala/PyBaMM/gmproj/test.ipynb#X44sZmlsZQ%3D%3D?line=6'>7</a>\u001b[0m     sol \u001b[39m=\u001b[39m y_to_sol(y, esoh_sim, model)\n\u001b[1;32m----> <a href='vscode-notebook-cell:/c%3A/Users/spannala/PyBaMM/gmproj/test.ipynb#X44sZmlsZQ%3D%3D?line=7'>8</a>\u001b[0m     cap \u001b[39m=\u001b[39m pybamm\u001b[39m.\u001b[39;49mmake_cycle_solution([sol], esoh_sim, \u001b[39mTrue\u001b[39;49;00m)[\u001b[39m1\u001b[39m][\u001b[39m\"\u001b[39m\u001b[39mCapacity [A.h]\u001b[39m\u001b[39m\"\u001b[39m]\n\u001b[0;32m      <a href='vscode-notebook-cell:/c%3A/Users/spannala/PyBaMM/gmproj/test.ipynb#X44sZmlsZQ%3D%3D?line=8'>9</a>\u001b[0m     \u001b[39mreturn\u001b[39;00m cap \u001b[39m/\u001b[39m cap0 \u001b[39m-\u001b[39m experiment_one_cycle\u001b[39m.\u001b[39mtermination[\u001b[39m\"\u001b[39m\u001b[39mcapacity\u001b[39m\u001b[39m\"\u001b[39m][\u001b[39m0\u001b[39m] \u001b[39m/\u001b[39m \u001b[39m100\u001b[39m\n",
      "File \u001b[1;32mc:\\users\\spannala\\pybamm\\pybamm\\solvers\\solution.py:836\u001b[0m, in \u001b[0;36mmake_cycle_solution\u001b[1;34m(step_solutions, esoh_solver, save_this_cycle)\u001b[0m\n\u001b[0;32m    832\u001b[0m cycle_solution\u001b[39m.\u001b[39mset_up_time \u001b[39m=\u001b[39m sum_sols\u001b[39m.\u001b[39mset_up_time\n\u001b[0;32m    834\u001b[0m cycle_solution\u001b[39m.\u001b[39msteps \u001b[39m=\u001b[39m step_solutions\n\u001b[1;32m--> 836\u001b[0m cycle_summary_variables \u001b[39m=\u001b[39m get_cycle_summary_variables(cycle_solution, esoh_solver)\n\u001b[0;32m    838\u001b[0m cycle_first_state \u001b[39m=\u001b[39m cycle_solution\u001b[39m.\u001b[39mfirst_state\n\u001b[0;32m    840\u001b[0m \u001b[39mif\u001b[39;00m save_this_cycle:\n",
      "File \u001b[1;32mc:\\users\\spannala\\pybamm\\pybamm\\solvers\\solution.py:908\u001b[0m, in \u001b[0;36mget_cycle_summary_variables\u001b[1;34m(cycle_solution, esoh_solver)\u001b[0m\n\u001b[0;32m    899\u001b[0m inputs \u001b[39m=\u001b[39m {\n\u001b[0;32m    900\u001b[0m     \u001b[39m\"\u001b[39m\u001b[39mV_min\u001b[39m\u001b[39m\"\u001b[39m: V_min,\n\u001b[0;32m    901\u001b[0m     \u001b[39m\"\u001b[39m\u001b[39mV_max\u001b[39m\u001b[39m\"\u001b[39m: V_max,\n\u001b[1;32m   (...)\u001b[0m\n\u001b[0;32m    904\u001b[0m     \u001b[39m\"\u001b[39m\u001b[39mn_Li\u001b[39m\u001b[39m\"\u001b[39m: n_Li,\n\u001b[0;32m    905\u001b[0m }\n\u001b[0;32m    907\u001b[0m \u001b[39mtry\u001b[39;00m:\n\u001b[1;32m--> 908\u001b[0m     esoh_sol \u001b[39m=\u001b[39m esoh_solver\u001b[39m.\u001b[39;49msolve(inputs)\n\u001b[0;32m    909\u001b[0m \u001b[39mexcept\u001b[39;00m pybamm\u001b[39m.\u001b[39mSolverError:  \u001b[39m# pragma: no cover\u001b[39;00m\n\u001b[0;32m    910\u001b[0m     \u001b[39mraise\u001b[39;00m pybamm\u001b[39m.\u001b[39mSolverError(\n\u001b[0;32m    911\u001b[0m         \u001b[39m\"\u001b[39m\u001b[39mCould not solve for summary variables, run \u001b[39m\u001b[39m\"\u001b[39m\n\u001b[0;32m    912\u001b[0m         \u001b[39m\"\u001b[39m\u001b[39m`sim.solve(calc_esoh=False)` to skip this step\u001b[39m\u001b[39m\"\u001b[39m\n\u001b[0;32m    913\u001b[0m     )\n",
      "File \u001b[1;32mc:\\users\\spannala\\pybamm\\pybamm\\simulation.py:719\u001b[0m, in \u001b[0;36mSimulation.solve\u001b[1;34m(self, t_eval, solver, check_model, save_at_cycles, calc_esoh, starting_solution, initial_soc, callbacks, **kwargs)\u001b[0m\n\u001b[0;32m    704\u001b[0m             \u001b[39mif\u001b[39;00m dt_eval_max \u001b[39m>\u001b[39m dt_data_min \u001b[39m+\u001b[39m sys\u001b[39m.\u001b[39mfloat_info\u001b[39m.\u001b[39mepsilon:\n\u001b[0;32m    705\u001b[0m                 warnings\u001b[39m.\u001b[39mwarn(\n\u001b[0;32m    706\u001b[0m                     \u001b[39m\"\"\"\u001b[39;00m\n\u001b[0;32m    707\u001b[0m \u001b[39m                    The largest timestep in t_eval ({}) is larger than\u001b[39;00m\n\u001b[1;32m   (...)\u001b[0m\n\u001b[0;32m    716\u001b[0m                     pybamm\u001b[39m.\u001b[39mSolverWarning,\n\u001b[0;32m    717\u001b[0m                 )\n\u001b[1;32m--> 719\u001b[0m     \u001b[39mself\u001b[39m\u001b[39m.\u001b[39m_solution \u001b[39m=\u001b[39m solver\u001b[39m.\u001b[39msolve(\u001b[39mself\u001b[39m\u001b[39m.\u001b[39mbuilt_model, t_eval, \u001b[39m*\u001b[39m\u001b[39m*\u001b[39mkwargs)\n\u001b[0;32m    721\u001b[0m \u001b[39melif\u001b[39;00m \u001b[39mself\u001b[39m\u001b[39m.\u001b[39moperating_mode \u001b[39m==\u001b[39m \u001b[39m\"\u001b[39m\u001b[39mwith experiment\u001b[39m\u001b[39m\"\u001b[39m:\n\u001b[0;32m    722\u001b[0m     callbacks\u001b[39m.\u001b[39mon_experiment_start(logs)\n",
      "File \u001b[1;32mc:\\users\\spannala\\pybamm\\pybamm\\solvers\\base_solver.py:921\u001b[0m, in \u001b[0;36mBaseSolver.solve\u001b[1;34m(self, model, t_eval, external_variables, inputs, initial_conditions, nproc, calculate_sensitivities)\u001b[0m\n\u001b[0;32m    918\u001b[0m         t_eval \u001b[39m=\u001b[39m np\u001b[39m.\u001b[39mlinspace(t_eval[\u001b[39m0\u001b[39m], t_eval[\u001b[39m-\u001b[39m\u001b[39m1\u001b[39m], \u001b[39m100\u001b[39m)\n\u001b[0;32m    920\u001b[0m \u001b[39m# Make sure t_eval is monotonic\u001b[39;00m\n\u001b[1;32m--> 921\u001b[0m \u001b[39mif\u001b[39;00m (np\u001b[39m.\u001b[39;49mdiff(t_eval) \u001b[39m<\u001b[39m \u001b[39m0\u001b[39m)\u001b[39m.\u001b[39many():\n\u001b[0;32m    922\u001b[0m     \u001b[39mraise\u001b[39;00m pybamm\u001b[39m.\u001b[39mSolverError(\u001b[39m\"\u001b[39m\u001b[39mt_eval must increase monotonically\u001b[39m\u001b[39m\"\u001b[39m)\n\u001b[0;32m    924\u001b[0m \u001b[39m# Set up external variables and inputs\u001b[39;00m\n\u001b[0;32m    925\u001b[0m \u001b[39m#\u001b[39;00m\n\u001b[0;32m    926\u001b[0m \u001b[39m# Argument \"inputs\" can be either a list of input dicts or\u001b[39;00m\n\u001b[0;32m    927\u001b[0m \u001b[39m# a single dict. The remaining of this function is only working\u001b[39;00m\n\u001b[0;32m    928\u001b[0m \u001b[39m# with variable \"input_list\", which is a list of dictionaries.\u001b[39;00m\n\u001b[0;32m    929\u001b[0m \u001b[39m# If \"inputs\" is a single dict, \"inputs_list\" is a list of only one dict.\u001b[39;00m\n",
      "File \u001b[1;32m<__array_function__ internals>:180\u001b[0m, in \u001b[0;36mdiff\u001b[1;34m(*args, **kwargs)\u001b[0m\n",
      "File \u001b[1;32mc:\\Users\\spannala\\PyBaMM\\.tox\\windows-dev\\lib\\site-packages\\numpy\\lib\\function_base.py:1389\u001b[0m, in \u001b[0;36mdiff\u001b[1;34m(a, n, axis, prepend, append)\u001b[0m\n\u001b[0;32m   1387\u001b[0m nd \u001b[39m=\u001b[39m a\u001b[39m.\u001b[39mndim\n\u001b[0;32m   1388\u001b[0m \u001b[39mif\u001b[39;00m nd \u001b[39m==\u001b[39m \u001b[39m0\u001b[39m:\n\u001b[1;32m-> 1389\u001b[0m     \u001b[39mraise\u001b[39;00m \u001b[39mValueError\u001b[39;00m(\u001b[39m\"\u001b[39m\u001b[39mdiff requires input that is at least one dimensional\u001b[39m\u001b[39m\"\u001b[39m)\n\u001b[0;32m   1390\u001b[0m axis \u001b[39m=\u001b[39m normalize_axis_index(axis, nd)\n\u001b[0;32m   1392\u001b[0m combined \u001b[39m=\u001b[39m []\n",
      "\u001b[1;31mValueError\u001b[0m: diff requires input that is at least one dimensional"
     ]
    }
   ],
   "source": [
    "sol = solve_ivp(\n",
    "    dydt,\n",
    "    [1, num_cycles],\n",
    "    y0,\n",
    "    t_eval=t_eval,\n",
    "    events=capacity_cutoff,\n",
    "    first_step=10,\n",
    "    method=\"RK23\",\n",
    "    atol=1e-2,\n",
    "    rtol=1e-2,\n",
    ")\n",
    "time = timer.time()"
   ]
  },
  {
   "cell_type": "code",
   "execution_count": 56,
   "metadata": {},
   "outputs": [
    {
     "name": "stdout",
     "output_type": "stream",
     "text": [
      "1\n",
      "1.0\n"
     ]
    },
    {
     "data": {
      "text/plain": [
       "array([-1.52436701e-04, -3.99559452e-04, -6.50811218e-05,  8.97818577e-02])"
      ]
     },
     "execution_count": 56,
     "metadata": {},
     "output_type": "execute_result"
    }
   ],
   "source": [
    "dydt(1,y0)"
   ]
  },
  {
   "cell_type": "code",
   "execution_count": 63,
   "metadata": {},
   "outputs": [
    {
     "name": "stdout",
     "output_type": "stream",
     "text": [
      "1.0\n",
      "1.0\n",
      "[-1.52436701e-04 -3.99559452e-04 -6.50811218e-05  8.97818577e-02]\n",
      "1.0\n"
     ]
    },
    {
     "ename": "ValueError",
     "evalue": "diff requires input that is at least one dimensional",
     "output_type": "error",
     "traceback": [
      "\u001b[1;31m---------------------------------------------------------------------------\u001b[0m",
      "\u001b[1;31mValueError\u001b[0m                                Traceback (most recent call last)",
      "\u001b[1;32mc:\\Users\\spannala\\PyBaMM\\gmproj\\test.ipynb Cell 31\u001b[0m in \u001b[0;36m<cell line: 1>\u001b[1;34m()\u001b[0m\n\u001b[1;32m----> <a href='vscode-notebook-cell:/c%3A/Users/spannala/PyBaMM/gmproj/test.ipynb#X33sZmlsZQ%3D%3D?line=0'>1</a>\u001b[0m sol \u001b[39m=\u001b[39m solve_ivp(\n\u001b[0;32m      <a href='vscode-notebook-cell:/c%3A/Users/spannala/PyBaMM/gmproj/test.ipynb#X33sZmlsZQ%3D%3D?line=1'>2</a>\u001b[0m     dydt,\n\u001b[0;32m      <a href='vscode-notebook-cell:/c%3A/Users/spannala/PyBaMM/gmproj/test.ipynb#X33sZmlsZQ%3D%3D?line=2'>3</a>\u001b[0m     [\u001b[39m1\u001b[39;49m, num_cycles],\n\u001b[0;32m      <a href='vscode-notebook-cell:/c%3A/Users/spannala/PyBaMM/gmproj/test.ipynb#X33sZmlsZQ%3D%3D?line=3'>4</a>\u001b[0m     y0,\n\u001b[0;32m      <a href='vscode-notebook-cell:/c%3A/Users/spannala/PyBaMM/gmproj/test.ipynb#X33sZmlsZQ%3D%3D?line=4'>5</a>\u001b[0m     t_eval\u001b[39m=\u001b[39;49mt_eval,\n\u001b[0;32m      <a href='vscode-notebook-cell:/c%3A/Users/spannala/PyBaMM/gmproj/test.ipynb#X33sZmlsZQ%3D%3D?line=5'>6</a>\u001b[0m     events\u001b[39m=\u001b[39;49mcapacity_cutoff,\n\u001b[0;32m      <a href='vscode-notebook-cell:/c%3A/Users/spannala/PyBaMM/gmproj/test.ipynb#X33sZmlsZQ%3D%3D?line=6'>7</a>\u001b[0m     first_step\u001b[39m=\u001b[39;49m\u001b[39m10\u001b[39;49m,\n\u001b[0;32m      <a href='vscode-notebook-cell:/c%3A/Users/spannala/PyBaMM/gmproj/test.ipynb#X33sZmlsZQ%3D%3D?line=7'>8</a>\u001b[0m     method\u001b[39m=\u001b[39;49m\u001b[39m\"\u001b[39;49m\u001b[39mRK23\u001b[39;49m\u001b[39m\"\u001b[39;49m,\n\u001b[0;32m      <a href='vscode-notebook-cell:/c%3A/Users/spannala/PyBaMM/gmproj/test.ipynb#X33sZmlsZQ%3D%3D?line=8'>9</a>\u001b[0m     atol\u001b[39m=\u001b[39;49m\u001b[39m1e-2\u001b[39;49m,\n\u001b[0;32m     <a href='vscode-notebook-cell:/c%3A/Users/spannala/PyBaMM/gmproj/test.ipynb#X33sZmlsZQ%3D%3D?line=9'>10</a>\u001b[0m     rtol\u001b[39m=\u001b[39;49m\u001b[39m1e-2\u001b[39;49m,\n\u001b[0;32m     <a href='vscode-notebook-cell:/c%3A/Users/spannala/PyBaMM/gmproj/test.ipynb#X33sZmlsZQ%3D%3D?line=10'>11</a>\u001b[0m )\n\u001b[0;32m     <a href='vscode-notebook-cell:/c%3A/Users/spannala/PyBaMM/gmproj/test.ipynb#X33sZmlsZQ%3D%3D?line=11'>12</a>\u001b[0m time \u001b[39m=\u001b[39m timer\u001b[39m.\u001b[39mtime()\n",
      "File \u001b[1;32mc:\\Users\\spannala\\PyBaMM\\.tox\\windows-dev\\lib\\site-packages\\scipy\\integrate\\_ivp\\ivp.py:571\u001b[0m, in \u001b[0;36msolve_ivp\u001b[1;34m(fun, t_span, y0, method, t_eval, dense_output, events, vectorized, args, **options)\u001b[0m\n\u001b[0;32m    564\u001b[0m \u001b[39mif\u001b[39;00m args \u001b[39mis\u001b[39;00m \u001b[39mnot\u001b[39;00m \u001b[39mNone\u001b[39;00m:\n\u001b[0;32m    565\u001b[0m     \u001b[39m# Wrap user functions in lambdas to hide the additional parameters.\u001b[39;00m\n\u001b[0;32m    566\u001b[0m     \u001b[39m# The original event function is passed as a keyword argument to the\u001b[39;00m\n\u001b[0;32m    567\u001b[0m     \u001b[39m# lambda to keep the original function in scope (i.e., avoid the\u001b[39;00m\n\u001b[0;32m    568\u001b[0m     \u001b[39m# late binding closure \"gotcha\").\u001b[39;00m\n\u001b[0;32m    569\u001b[0m     events \u001b[39m=\u001b[39m [\u001b[39mlambda\u001b[39;00m t, x, event\u001b[39m=\u001b[39mevent: event(t, x, \u001b[39m*\u001b[39margs)\n\u001b[0;32m    570\u001b[0m               \u001b[39mfor\u001b[39;00m event \u001b[39min\u001b[39;00m events]\n\u001b[1;32m--> 571\u001b[0m g \u001b[39m=\u001b[39m [event(t0, y0) \u001b[39mfor\u001b[39;00m event \u001b[39min\u001b[39;00m events]\n\u001b[0;32m    572\u001b[0m t_events \u001b[39m=\u001b[39m [[] \u001b[39mfor\u001b[39;00m _ \u001b[39min\u001b[39;00m \u001b[39mrange\u001b[39m(\u001b[39mlen\u001b[39m(events))]\n\u001b[0;32m    573\u001b[0m y_events \u001b[39m=\u001b[39m [[] \u001b[39mfor\u001b[39;00m _ \u001b[39min\u001b[39;00m \u001b[39mrange\u001b[39m(\u001b[39mlen\u001b[39m(events))]\n",
      "File \u001b[1;32mc:\\Users\\spannala\\PyBaMM\\.tox\\windows-dev\\lib\\site-packages\\scipy\\integrate\\_ivp\\ivp.py:571\u001b[0m, in \u001b[0;36m<listcomp>\u001b[1;34m(.0)\u001b[0m\n\u001b[0;32m    564\u001b[0m \u001b[39mif\u001b[39;00m args \u001b[39mis\u001b[39;00m \u001b[39mnot\u001b[39;00m \u001b[39mNone\u001b[39;00m:\n\u001b[0;32m    565\u001b[0m     \u001b[39m# Wrap user functions in lambdas to hide the additional parameters.\u001b[39;00m\n\u001b[0;32m    566\u001b[0m     \u001b[39m# The original event function is passed as a keyword argument to the\u001b[39;00m\n\u001b[0;32m    567\u001b[0m     \u001b[39m# lambda to keep the original function in scope (i.e., avoid the\u001b[39;00m\n\u001b[0;32m    568\u001b[0m     \u001b[39m# late binding closure \"gotcha\").\u001b[39;00m\n\u001b[0;32m    569\u001b[0m     events \u001b[39m=\u001b[39m [\u001b[39mlambda\u001b[39;00m t, x, event\u001b[39m=\u001b[39mevent: event(t, x, \u001b[39m*\u001b[39margs)\n\u001b[0;32m    570\u001b[0m               \u001b[39mfor\u001b[39;00m event \u001b[39min\u001b[39;00m events]\n\u001b[1;32m--> 571\u001b[0m g \u001b[39m=\u001b[39m [event(t0, y0) \u001b[39mfor\u001b[39;00m event \u001b[39min\u001b[39;00m events]\n\u001b[0;32m    572\u001b[0m t_events \u001b[39m=\u001b[39m [[] \u001b[39mfor\u001b[39;00m _ \u001b[39min\u001b[39;00m \u001b[39mrange\u001b[39m(\u001b[39mlen\u001b[39m(events))]\n\u001b[0;32m    573\u001b[0m y_events \u001b[39m=\u001b[39m [[] \u001b[39mfor\u001b[39;00m _ \u001b[39min\u001b[39;00m \u001b[39mrange\u001b[39m(\u001b[39mlen\u001b[39m(events))]\n",
      "\u001b[1;32mc:\\Users\\spannala\\PyBaMM\\gmproj\\test.ipynb Cell 31\u001b[0m in \u001b[0;36mcapacity_cutoff\u001b[1;34m(t, y)\u001b[0m\n\u001b[0;32m      <a href='vscode-notebook-cell:/c%3A/Users/spannala/PyBaMM/gmproj/test.ipynb#X33sZmlsZQ%3D%3D?line=5'>6</a>\u001b[0m \u001b[39mdef\u001b[39;00m \u001b[39mcapacity_cutoff\u001b[39m(t, y):\n\u001b[0;32m      <a href='vscode-notebook-cell:/c%3A/Users/spannala/PyBaMM/gmproj/test.ipynb#X33sZmlsZQ%3D%3D?line=6'>7</a>\u001b[0m     sol \u001b[39m=\u001b[39m y_to_sol(y, esoh_sim, model)\n\u001b[1;32m----> <a href='vscode-notebook-cell:/c%3A/Users/spannala/PyBaMM/gmproj/test.ipynb#X33sZmlsZQ%3D%3D?line=7'>8</a>\u001b[0m     cap \u001b[39m=\u001b[39m pybamm\u001b[39m.\u001b[39;49mmake_cycle_solution([sol], esoh_sim, \u001b[39mTrue\u001b[39;49;00m)[\u001b[39m1\u001b[39m][\u001b[39m\"\u001b[39m\u001b[39mCapacity [A.h]\u001b[39m\u001b[39m\"\u001b[39m]\n\u001b[0;32m      <a href='vscode-notebook-cell:/c%3A/Users/spannala/PyBaMM/gmproj/test.ipynb#X33sZmlsZQ%3D%3D?line=8'>9</a>\u001b[0m     \u001b[39mreturn\u001b[39;00m cap \u001b[39m/\u001b[39m cap0 \u001b[39m-\u001b[39m experiment_one_cycle\u001b[39m.\u001b[39mtermination[\u001b[39m\"\u001b[39m\u001b[39mcapacity\u001b[39m\u001b[39m\"\u001b[39m][\u001b[39m0\u001b[39m] \u001b[39m/\u001b[39m \u001b[39m100\u001b[39m\n",
      "File \u001b[1;32mc:\\users\\spannala\\pybamm\\pybamm\\solvers\\solution.py:836\u001b[0m, in \u001b[0;36mmake_cycle_solution\u001b[1;34m(step_solutions, esoh_solver, save_this_cycle)\u001b[0m\n\u001b[0;32m    832\u001b[0m cycle_solution\u001b[39m.\u001b[39mset_up_time \u001b[39m=\u001b[39m sum_sols\u001b[39m.\u001b[39mset_up_time\n\u001b[0;32m    834\u001b[0m cycle_solution\u001b[39m.\u001b[39msteps \u001b[39m=\u001b[39m step_solutions\n\u001b[1;32m--> 836\u001b[0m cycle_summary_variables \u001b[39m=\u001b[39m get_cycle_summary_variables(cycle_solution, esoh_solver)\n\u001b[0;32m    838\u001b[0m cycle_first_state \u001b[39m=\u001b[39m cycle_solution\u001b[39m.\u001b[39mfirst_state\n\u001b[0;32m    840\u001b[0m \u001b[39mif\u001b[39;00m save_this_cycle:\n",
      "File \u001b[1;32mc:\\users\\spannala\\pybamm\\pybamm\\solvers\\solution.py:908\u001b[0m, in \u001b[0;36mget_cycle_summary_variables\u001b[1;34m(cycle_solution, esoh_solver)\u001b[0m\n\u001b[0;32m    899\u001b[0m inputs \u001b[39m=\u001b[39m {\n\u001b[0;32m    900\u001b[0m     \u001b[39m\"\u001b[39m\u001b[39mV_min\u001b[39m\u001b[39m\"\u001b[39m: V_min,\n\u001b[0;32m    901\u001b[0m     \u001b[39m\"\u001b[39m\u001b[39mV_max\u001b[39m\u001b[39m\"\u001b[39m: V_max,\n\u001b[1;32m   (...)\u001b[0m\n\u001b[0;32m    904\u001b[0m     \u001b[39m\"\u001b[39m\u001b[39mn_Li\u001b[39m\u001b[39m\"\u001b[39m: n_Li,\n\u001b[0;32m    905\u001b[0m }\n\u001b[0;32m    907\u001b[0m \u001b[39mtry\u001b[39;00m:\n\u001b[1;32m--> 908\u001b[0m     esoh_sol \u001b[39m=\u001b[39m esoh_solver\u001b[39m.\u001b[39;49msolve(inputs)\n\u001b[0;32m    909\u001b[0m \u001b[39mexcept\u001b[39;00m pybamm\u001b[39m.\u001b[39mSolverError:  \u001b[39m# pragma: no cover\u001b[39;00m\n\u001b[0;32m    910\u001b[0m     \u001b[39mraise\u001b[39;00m pybamm\u001b[39m.\u001b[39mSolverError(\n\u001b[0;32m    911\u001b[0m         \u001b[39m\"\u001b[39m\u001b[39mCould not solve for summary variables, run \u001b[39m\u001b[39m\"\u001b[39m\n\u001b[0;32m    912\u001b[0m         \u001b[39m\"\u001b[39m\u001b[39m`sim.solve(calc_esoh=False)` to skip this step\u001b[39m\u001b[39m\"\u001b[39m\n\u001b[0;32m    913\u001b[0m     )\n",
      "File \u001b[1;32mc:\\users\\spannala\\pybamm\\pybamm\\simulation.py:719\u001b[0m, in \u001b[0;36mSimulation.solve\u001b[1;34m(self, t_eval, solver, check_model, save_at_cycles, calc_esoh, starting_solution, initial_soc, callbacks, **kwargs)\u001b[0m\n\u001b[0;32m    704\u001b[0m             \u001b[39mif\u001b[39;00m dt_eval_max \u001b[39m>\u001b[39m dt_data_min \u001b[39m+\u001b[39m sys\u001b[39m.\u001b[39mfloat_info\u001b[39m.\u001b[39mepsilon:\n\u001b[0;32m    705\u001b[0m                 warnings\u001b[39m.\u001b[39mwarn(\n\u001b[0;32m    706\u001b[0m                     \u001b[39m\"\"\"\u001b[39;00m\n\u001b[0;32m    707\u001b[0m \u001b[39m                    The largest timestep in t_eval ({}) is larger than\u001b[39;00m\n\u001b[1;32m   (...)\u001b[0m\n\u001b[0;32m    716\u001b[0m                     pybamm\u001b[39m.\u001b[39mSolverWarning,\n\u001b[0;32m    717\u001b[0m                 )\n\u001b[1;32m--> 719\u001b[0m     \u001b[39mself\u001b[39m\u001b[39m.\u001b[39m_solution \u001b[39m=\u001b[39m solver\u001b[39m.\u001b[39msolve(\u001b[39mself\u001b[39m\u001b[39m.\u001b[39mbuilt_model, t_eval, \u001b[39m*\u001b[39m\u001b[39m*\u001b[39mkwargs)\n\u001b[0;32m    721\u001b[0m \u001b[39melif\u001b[39;00m \u001b[39mself\u001b[39m\u001b[39m.\u001b[39moperating_mode \u001b[39m==\u001b[39m \u001b[39m\"\u001b[39m\u001b[39mwith experiment\u001b[39m\u001b[39m\"\u001b[39m:\n\u001b[0;32m    722\u001b[0m     callbacks\u001b[39m.\u001b[39mon_experiment_start(logs)\n",
      "File \u001b[1;32mc:\\users\\spannala\\pybamm\\pybamm\\solvers\\base_solver.py:921\u001b[0m, in \u001b[0;36mBaseSolver.solve\u001b[1;34m(self, model, t_eval, external_variables, inputs, initial_conditions, nproc, calculate_sensitivities)\u001b[0m\n\u001b[0;32m    918\u001b[0m         t_eval \u001b[39m=\u001b[39m np\u001b[39m.\u001b[39mlinspace(t_eval[\u001b[39m0\u001b[39m], t_eval[\u001b[39m-\u001b[39m\u001b[39m1\u001b[39m], \u001b[39m100\u001b[39m)\n\u001b[0;32m    920\u001b[0m \u001b[39m# Make sure t_eval is monotonic\u001b[39;00m\n\u001b[1;32m--> 921\u001b[0m \u001b[39mif\u001b[39;00m (np\u001b[39m.\u001b[39;49mdiff(t_eval) \u001b[39m<\u001b[39m \u001b[39m0\u001b[39m)\u001b[39m.\u001b[39many():\n\u001b[0;32m    922\u001b[0m     \u001b[39mraise\u001b[39;00m pybamm\u001b[39m.\u001b[39mSolverError(\u001b[39m\"\u001b[39m\u001b[39mt_eval must increase monotonically\u001b[39m\u001b[39m\"\u001b[39m)\n\u001b[0;32m    924\u001b[0m \u001b[39m# Set up external variables and inputs\u001b[39;00m\n\u001b[0;32m    925\u001b[0m \u001b[39m#\u001b[39;00m\n\u001b[0;32m    926\u001b[0m \u001b[39m# Argument \"inputs\" can be either a list of input dicts or\u001b[39;00m\n\u001b[0;32m    927\u001b[0m \u001b[39m# a single dict. The remaining of this function is only working\u001b[39;00m\n\u001b[0;32m    928\u001b[0m \u001b[39m# with variable \"input_list\", which is a list of dictionaries.\u001b[39;00m\n\u001b[0;32m    929\u001b[0m \u001b[39m# If \"inputs\" is a single dict, \"inputs_list\" is a list of only one dict.\u001b[39;00m\n",
      "File \u001b[1;32m<__array_function__ internals>:180\u001b[0m, in \u001b[0;36mdiff\u001b[1;34m(*args, **kwargs)\u001b[0m\n",
      "File \u001b[1;32mc:\\Users\\spannala\\PyBaMM\\.tox\\windows-dev\\lib\\site-packages\\numpy\\lib\\function_base.py:1389\u001b[0m, in \u001b[0;36mdiff\u001b[1;34m(a, n, axis, prepend, append)\u001b[0m\n\u001b[0;32m   1387\u001b[0m nd \u001b[39m=\u001b[39m a\u001b[39m.\u001b[39mndim\n\u001b[0;32m   1388\u001b[0m \u001b[39mif\u001b[39;00m nd \u001b[39m==\u001b[39m \u001b[39m0\u001b[39m:\n\u001b[1;32m-> 1389\u001b[0m     \u001b[39mraise\u001b[39;00m \u001b[39mValueError\u001b[39;00m(\u001b[39m\"\u001b[39m\u001b[39mdiff requires input that is at least one dimensional\u001b[39m\u001b[39m\"\u001b[39m)\n\u001b[0;32m   1390\u001b[0m axis \u001b[39m=\u001b[39m normalize_axis_index(axis, nd)\n\u001b[0;32m   1392\u001b[0m combined \u001b[39m=\u001b[39m []\n",
      "\u001b[1;31mValueError\u001b[0m: diff requires input that is at least one dimensional"
     ]
    }
   ],
   "source": [
    "sol = solve_ivp(\n",
    "    dydt,\n",
    "    [1, num_cycles],\n",
    "    y0,\n",
    "    t_eval=t_eval,\n",
    "    events=capacity_cutoff,\n",
    "    first_step=10,\n",
    "    method=\"RK23\",\n",
    "    atol=1e-2,\n",
    "    rtol=1e-2,\n",
    ")\n",
    "time = timer.time()"
   ]
  },
  {
   "cell_type": "code",
   "execution_count": null,
   "metadata": {},
   "outputs": [],
   "source": [
    "\n",
    "\n",
    "\n",
    "all_sumvars = []\n",
    "for idx in range(sol.y.shape[1]):\n",
    "    fullsol = y_to_sol(sol.y[:, idx], esoh_sim, model)\n",
    "    sumvars = pybamm.make_cycle_solution([fullsol], esoh_sim, True)[1]\n",
    "    all_sumvars.append(sumvars)\n",
    "\n",
    "all_sumvars_dict = {\n",
    "    key: np.array([sumvars[key] for sumvars in all_sumvars])\n",
    "    for key in all_sumvars[0].keys()\n",
    "}\n",
    "all_sumvars_dict[\"Cycle number\"] = sol.t\n",
    "\n",
    "all_sumvars_dict[\"cycles evaluated\"] = sol.nfev\n",
    "all_sumvars_dict[\"solution time\"] = time"
   ]
  },
  {
   "cell_type": "code",
   "execution_count": 17,
   "metadata": {},
   "outputs": [],
   "source": []
  }
 ],
 "metadata": {
  "kernelspec": {
   "display_name": "Python 3.9.7 ('windows-dev': venv)",
   "language": "python",
   "name": "python3"
  },
  "language_info": {
   "codemirror_mode": {
    "name": "ipython",
    "version": 3
   },
   "file_extension": ".py",
   "mimetype": "text/x-python",
   "name": "python",
   "nbconvert_exporter": "python",
   "pygments_lexer": "ipython3",
   "version": "3.9.7"
  },
  "orig_nbformat": 4,
  "vscode": {
   "interpreter": {
    "hash": "fe6e1a396f7757d05554318f98bb2d7e7d3785df9fdbcce0707f057fad4349a9"
   }
  }
 },
 "nbformat": 4,
 "nbformat_minor": 2
}
