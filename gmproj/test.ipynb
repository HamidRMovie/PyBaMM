{
 "cells": [
  {
   "cell_type": "code",
   "execution_count": 23,
   "metadata": {},
   "outputs": [],
   "source": [
    "import pybamm\n",
    "import matplotlib.pyplot as plt\n",
    "import numpy as np\n",
    "import pandas as pd\n",
    "import math\n",
    "import dfols\n",
    "import signal\n",
    "from scipy.integrate import solve_ivp\n",
    "from scipy.fft import fft, fftfreq, fftshift\n",
    "from scipy.signal import savgol_filter\n",
    "from scipy.signal import find_peaks\n",
    "from scipy import interpolate\n",
    "from stopit import threading_timeoutable as timeoutable\n",
    "\n",
    "\n",
    "eSOH_DIR = \"./data/esoh_R/\"\n",
    "oCV_DIR = \"./data/ocv/\"\n",
    "fig_DIR = \"./figures_fit/\"\n",
    "res_DIR = \"./data/results_fit/\"\n",
    "# %matplotlib widget"
   ]
  },
  {
   "cell_type": "code",
   "execution_count": 24,
   "metadata": {},
   "outputs": [],
   "source": [
    "plt.rcParams[\"lines.markersize\"] = 5\n",
    "plt.rcParams[\"lines.linewidth\"] = 2\n",
    "plt.rcParams[\"xtick.minor.visible\"] = True\n",
    "plt.rcParams[\"ytick.minor.visible\"] = True\n",
    "plt.rcParams[\"font.size\"] = 12\n",
    "plt.rcParams[\"legend.fontsize\"] = 10\n",
    "plt.rcParams[\"legend.frameon\"] = False\n",
    "plt.rcParams[\"font.family\"] = 'serif'\n",
    "plt.rcParams['font.serif'] = 'Times New Roman'\n",
    "plt.rcParams['mathtext.rm'] = 'serif'\n",
    "plt.rcParams['mathtext.it'] = 'serif:italic'\n",
    "plt.rcParams['mathtext.bf'] = 'serif:bold'\n",
    "plt.rcParams['mathtext.fontset'] = 'custom'\n",
    "plt.rcParams[\"savefig.bbox\"] = \"tight\"\n",
    "plt.rcParams[\"axes.grid\"] = True\n",
    "plt.rcParams[\"axes.axisbelow\"] = True\n",
    "plt.rcParams[\"grid.linestyle\"] = \"--\"\n",
    "plt.rcParams[\"grid.color\"] = (0.8, 0.8, 0.8)\n",
    "plt.rcParams[\"grid.alpha\"] = 0.5\n",
    "plt.rcParams[\"grid.linewidth\"] = 0.5\n",
    "plt.rcParams['figure.dpi'] = 150\n",
    "plt.rcParams['savefig.dpi'] = 600\n",
    "plt.rcParams['figure.max_open_warning']=False"
   ]
  },
  {
   "cell_type": "code",
   "execution_count": 25,
   "metadata": {},
   "outputs": [],
   "source": [
    "def nmc_volume_change_mohtat(sto):\n",
    "    t_change = -1.10/100*(1-sto)\n",
    "    return t_change\n",
    "\n",
    "def graphite_volume_change_mohtat(sto):\n",
    "    stoichpoints = np.array([0,0.12,0.18,0.24,0.50,1])\n",
    "    thicknesspoints = np.array([0,2.406/100,3.3568/100,4.3668/100,5.583/100,13.0635/100])\n",
    "    x = [sto]\n",
    "    t_change = pybamm.Interpolant(stoichpoints, thicknesspoints, x, name=None, interpolator='linear', extrapolate=True, entries_string=None)\n",
    "    return t_change\n",
    "\n",
    "def get_parameter_values():\n",
    "    parameter_values = pybamm.ParameterValues(chemistry=pybamm.parameter_sets.Mohtat2020)\n",
    "    parameter_values.update(\n",
    "        {\n",
    "            # mechanical properties\n",
    "            \"Positive electrode Poisson's ratio\": 0.3,\n",
    "            \"Positive electrode Young's modulus [Pa]\": 375e9,\n",
    "            \"Positive electrode reference concentration for free of deformation [mol.m-3]\": 0,\n",
    "            \"Positive electrode partial molar volume [m3.mol-1]\": -7.28e-7,\n",
    "            \"Positive electrode volume change\": nmc_volume_change_mohtat,\n",
    "            # Loss of active materials (LAM) model\n",
    "            \"Positive electrode LAM constant exponential term\": 2,\n",
    "            \"Positive electrode critical stress [Pa]\": 375e6,\n",
    "            # mechanical properties\n",
    "            \"Negative electrode Poisson's ratio\": 0.2,\n",
    "            \"Negative electrode Young's modulus [Pa]\": 15e9,\n",
    "            \"Negative electrode reference concentration for free of deformation [mol.m-3]\": 0,\n",
    "            \"Negative electrode partial molar volume [m3.mol-1]\": 3.1e-6,\n",
    "            \"Negative electrode volume change\": graphite_volume_change_mohtat,\n",
    "            # Loss of active materials (LAM) model\n",
    "            \"Negative electrode LAM constant exponential term\": 2,\n",
    "            \"Negative electrode critical stress [Pa]\": 60e6,\n",
    "            # Other\n",
    "            \"Cell thermal expansion coefficient [m.K-1]\": 1.48E-6,\n",
    "            \"Lower voltage cut-off [V]\": 3.0\n",
    "        },\n",
    "        check_already_exists=False,\n",
    "    )\n",
    "    return parameter_values\n",
    "parameter_values = get_parameter_values()"
   ]
  },
  {
   "cell_type": "code",
   "execution_count": 26,
   "metadata": {},
   "outputs": [],
   "source": [
    "def split_long_string(title, max_words=None):\n",
    "    \"\"\"Get title in a nice format\"\"\"\n",
    "    max_words = max_words or pybamm.settings.max_words_in_line\n",
    "    words = title.split()\n",
    "    # Don't split if fits on one line, don't split just for units\n",
    "    if len(words) <= max_words or words[max_words].startswith(\"[\"):\n",
    "        return title\n",
    "    else:\n",
    "        first_line = (\" \").join(words[:max_words])\n",
    "        second_line = (\" \").join(words[max_words:])\n",
    "        return first_line + \"\\n\" + second_line"
   ]
  },
  {
   "cell_type": "code",
   "execution_count": 27,
   "metadata": {},
   "outputs": [],
   "source": [
    "def split_long_string(title, max_words=None):\n",
    "    \"\"\"Get title in a nice format\"\"\"\n",
    "    max_words = max_words or pybamm.settings.max_words_in_line\n",
    "    words = title.split()\n",
    "    # Don't split if fits on one line, don't split just for units\n",
    "    if len(words) <= max_words or words[max_words].startswith(\"[\"):\n",
    "        return title\n",
    "    else:\n",
    "        first_line = (\" \").join(words[:max_words])\n",
    "        second_line = (\" \").join(words[max_words:])\n",
    "        return first_line + \"\\n\" + second_line"
   ]
  },
  {
   "cell_type": "code",
   "execution_count": 28,
   "metadata": {},
   "outputs": [],
   "source": [
    "cell = 1"
   ]
  },
  {
   "cell_type": "code",
   "execution_count": 29,
   "metadata": {},
   "outputs": [],
   "source": [
    "def load_data(cell): \n",
    "    cell_no = f'{cell:02d}'\n",
    "    dfe=pd.read_csv(eSOH_DIR+\"aging_param_cell_\"+cell_no+\".csv\")\n",
    "    dfe_0=pd.read_csv(eSOH_DIR+\"aging_param_cell_\"+cell_no+\".csv\")\n",
    "    dfo_0=pd.read_csv(oCV_DIR+\"ocv_data_cell_\"+cell_no+\".csv\")\n",
    "    dfe = dfe.drop(dfe.index[0])\n",
    "    dfe = dfe.reset_index(drop=True)\n",
    "    if cell_no=='13':\n",
    "        dfe = dfe.drop(dfe.index[-1])\n",
    "        dfe = dfe.reset_index(drop=True)\n",
    "        dfe_0 = dfe_0.drop(dfe_0.index[-1])\n",
    "        dfe_0 = dfe_0.reset_index(drop=True)\n",
    "    dfe['N']=dfe['N']-dfe['N'][0]\n",
    "    N =dfe.N.unique()\n",
    "    N_0 = dfe_0.N.unique()\n",
    "    print(\"Cycle Numbers:\")\n",
    "    print(*N, sep = \", \") \n",
    "    print(len(N_0))\n",
    "    print(len(dfo_0))\n",
    "    rev_exp = []\n",
    "    irrev_exp = []\n",
    "\n",
    "    for i in range(len(N_0)-1):\n",
    "        # print(i)\n",
    "        dfo = dfo_0[dfo_0['N']==N_0[i+1]]\n",
    "        # print(max(dfo['E'])-min(dfo['E']))\n",
    "        rev_exp.append(max(dfo['E'])-min(dfo['E']))\n",
    "    dfe['rev_exp']=rev_exp\n",
    "    print('Reversible Expansion')\n",
    "\n",
    "    dfo_1 = dfo_0[dfo_0['N']==N_0[1]]\n",
    "    for i in range(len(N_0)-1):\n",
    "        # print(i)\n",
    "        dfo = dfo_0[dfo_0['N']==N_0[i+1]]\n",
    "        # print(max(dfo['E'])-min(dfo['E']))\n",
    "        irrev_exp.append(min(dfo['E'])-min(dfo_1['E']))\n",
    "    dfe['irrev_exp']=irrev_exp\n",
    "    print('Irreversible Expansion')\n",
    "    return cell_no,dfe,dfe_0,dfo_0,N,N_0"
   ]
  },
  {
   "cell_type": "code",
   "execution_count": 30,
   "metadata": {},
   "outputs": [
    {
     "name": "stdout",
     "output_type": "stream",
     "text": [
      "Cycle Numbers:\n",
      "0, 18, 57, 93, 134, 175, 216, 257, 298, 339\n",
      "11\n",
      "68752\n",
      "Reversible Expansion\n",
      "Irreversible Expansion\n"
     ]
    }
   ],
   "source": [
    "cell_no,dfe,dfe_0,dfo_0,N,N_0 = load_data(cell)"
   ]
  },
  {
   "cell_type": "code",
   "execution_count": 31,
   "metadata": {},
   "outputs": [],
   "source": [
    "def init_exp(cell_no,dfe):\n",
    "    # dfe_0 = dfe[dfe['N']==N[0]]\n",
    "    C_n_init = dfe['C_n'][0]\n",
    "    C_p_init = dfe['C_p'][0]\n",
    "    y_0_init = dfe['y_0'][0] \n",
    "    if cell_no=='01':\n",
    "        c_rate_c = 'C/5'\n",
    "        c_rate_d = 'C/5'\n",
    "        dis_set = \" until 3V\"\n",
    "    elif cell_no=='04':\n",
    "        c_rate_c = '1.5C'\n",
    "        c_rate_d = '1.5C'\n",
    "        dis_set = \" until 3V\"\n",
    "    elif cell_no=='07':\n",
    "        c_rate_c = '2C'\n",
    "        c_rate_d = '2C'\n",
    "        dis_set = \" until 3V\"\n",
    "    elif cell_no=='10':\n",
    "        c_rate_c = 'C/5'\n",
    "        c_rate_d = '1.5C'\n",
    "        dis_set = \" until 3V\"\n",
    "    elif cell_no=='13':\n",
    "        c_rate_c = 'C/5'\n",
    "        c_rate_d = 'C/5'\n",
    "        dis_set = \" for 150 min\"\n",
    "    elif cell_no=='16':\n",
    "        c_rate_c = 'C/5'\n",
    "        c_rate_d = '1.5C'\n",
    "        dis_set = \" for 20 min\"\n",
    "    return C_n_init,C_p_init,y_0_init,c_rate_c,c_rate_d,dis_set"
   ]
  },
  {
   "cell_type": "code",
   "execution_count": 32,
   "metadata": {},
   "outputs": [],
   "source": [
    "C_n_init,C_p_init,y_0_init,c_rate_c,c_rate_d,dis_set = init_exp(cell_no,dfe)"
   ]
  },
  {
   "cell_type": "code",
   "execution_count": 51,
   "metadata": {},
   "outputs": [],
   "source": [
    "pybamm.set_logging_level(\"WARNING\")\n",
    "# pybamm.set_logging_level(\"NOTICE\")\n",
    "experiment = pybamm.Experiment(\n",
    "    [\n",
    "        (\"Discharge at \"+c_rate_d+dis_set,\n",
    "         \"Rest for 5 min\",\n",
    "         \"Charge at \"+c_rate_c+\" until 4.2V\", \n",
    "         \"Hold at 4.2V until C/50\")\n",
    "    ] *dfe.N.iloc[-1],\n",
    "    termination=\"50% capacity\",\n",
    "#     cccv_handling=\"ode\",\n",
    ")\n",
    "spm = pybamm.lithium_ion.SPM(\n",
    "    {\n",
    "        \"SEI\": \"ec reaction limited\",\n",
    "        # \"loss of active material\": (\"stress-driven\",\"none\"),\n",
    "        \"loss of active material\": \"stress-driven\",\n",
    "        \"stress-induced diffusion\": \"true\",\n",
    "        # \"lithium plating\": \"reversible\",\n",
    "    }\n",
    ")\n",
    "# spm.print_parameter_info()"
   ]
  },
  {
   "cell_type": "code",
   "execution_count": 34,
   "metadata": {},
   "outputs": [],
   "source": [
    "param = spm.param\n",
    "eps_n_data = parameter_values.evaluate(C_n_init*3600/(param.L_n * param.c_n_max * param.F* param.A_cc))\n",
    "eps_p_data = parameter_values.evaluate(C_p_init*3600/(param.L_p * param.c_p_max * param.F* param.A_cc))\n",
    "cs_p_init = parameter_values.evaluate(y_0_init* param.c_p_max)"
   ]
  },
  {
   "cell_type": "code",
   "execution_count": 35,
   "metadata": {},
   "outputs": [],
   "source": [
    "tun_par_all=pd.read_csv(res_DIR+\"fit_train_summary\"+\".csv\")\n",
    "tun_par=tun_par_all[tun_par_all['cell_no']==cell]\n",
    "tun_par=tun_par.reset_index()"
   ]
  },
  {
   "cell_type": "code",
   "execution_count": 36,
   "metadata": {},
   "outputs": [],
   "source": [
    "parameter_values = get_parameter_values()\n",
    "\n",
    "parameter_values.update(\n",
    "    {\n",
    "        \"SEI kinetic rate constant [m.s-1]\": tun_par['k_sei'][0],\n",
    "        \"Positive electrode LAM constant proportional term [s-1]\": tun_par['blam_p'][0],\n",
    "        \"Negative electrode LAM constant proportional term [s-1]\": tun_par['blam_n'][0],\n",
    "        # \"SEI kinetic rate constant [m.s-1]\": 1.6827e-16, #1.6827e-16\n",
    "        # \"Positive electrode LAM constant proportional term [s-1]\": 4.20e-06, #4.03536e-06\n",
    "        # \"Negative electrode LAM constant proportional term [s-1]\": 5.38e-05, #5.24755e-05\n",
    "        \"EC diffusivity [m2.s-1]\": 2e-18,\n",
    "        \"Positive electrode LAM constant exponential term\": 2,\n",
    "        \"Negative electrode LAM constant exponential term\": 2,\n",
    "        \"Negative electrode active material volume fraction\": eps_n_data,\n",
    "        \"Positive electrode active material volume fraction\": eps_p_data,\n",
    "    },\n",
    "    check_already_exists=False,\n",
    ")"
   ]
  },
  {
   "cell_type": "code",
   "execution_count": 37,
   "metadata": {},
   "outputs": [],
   "source": [
    "model=spm\n",
    "SOC_0=1\n",
    "save_at_cycles=None"
   ]
  },
  {
   "cell_type": "code",
   "execution_count": 38,
   "metadata": {},
   "outputs": [
    {
     "name": "stderr",
     "output_type": "stream",
     "text": [
      "2022-08-22 13:31:46,752 - [NOTICE] simulation.solve(855): Cycle 1/1 (365.532 ms elapsed) --------------------\n",
      "2022-08-22 13:31:46,753 - [NOTICE] simulation.solve(889): Cycle 1/1, step 1/4: Discharge at C/5 until 3V\n",
      "2022-08-22 13:31:47,098 - [NOTICE] simulation.solve(889): Cycle 1/1, step 2/4: Rest for 5 min\n",
      "2022-08-22 13:31:47,157 - [NOTICE] simulation.solve(889): Cycle 1/1, step 3/4: Charge at C/5 until 4.2V\n",
      "2022-08-22 13:31:47,445 - [NOTICE] simulation.solve(889): Cycle 1/1, step 4/4: Hold at 4.2V until C/50\n",
      "2022-08-22 13:31:47,938 - [NOTICE] simulation.solve(977): Capacity is now 4.861 Ah (originally 4.861 Ah, will stop at 2.430 Ah)\n",
      "2022-08-22 13:31:47,939 - [NOTICE] simulation.solve(1011): Finish experiment simulation, took 1.552 s\n"
     ]
    }
   ],
   "source": [
    "experiment_one_cycle = pybamm.Experiment(\n",
    "    experiment.operating_conditions_cycles[:1],\n",
    "    termination=experiment.termination_string,\n",
    "    cccv_handling=experiment.cccv_handling,\n",
    ")\n",
    "Vmin = 3.0\n",
    "Vmax = 4.2\n",
    "esoh_model = pybamm.lithium_ion.ElectrodeSOH()\n",
    "esoh_sim = pybamm.Simulation(esoh_model, parameter_values=parameter_values)\n",
    "param = model.param\n",
    "Cn = parameter_values.evaluate(param.C_n_init)\n",
    "Cp = parameter_values.evaluate(param.C_p_init)\n",
    "eps_n = parameter_values[\"Negative electrode active material volume fraction\"]\n",
    "eps_p = parameter_values[\"Positive electrode active material volume fraction\"]\n",
    "C_over_eps_n = Cn / eps_n\n",
    "C_over_eps_p = Cp / eps_p\n",
    "c_n_max = parameter_values.evaluate(param.c_n_max)\n",
    "c_p_max = parameter_values.evaluate(param.c_p_max)\n",
    "n_Li_init = parameter_values.evaluate(param.n_Li_particles_init)\n",
    "\n",
    "esoh_sol = esoh_sim.solve(\n",
    "    [0],\n",
    "    inputs={\"V_min\": Vmin, \"V_max\": Vmax, \"C_n\": Cn, \"C_p\": Cp, \"n_Li\": n_Li_init},\n",
    "    solver=pybamm.AlgebraicSolver(),\n",
    ")\n",
    "\n",
    "parameter_values.update(\n",
    "    {\n",
    "        \"Initial concentration in negative electrode [mol.m-3]\": esoh_sol[\n",
    "            \"x_100\"\n",
    "        ].data[0]\n",
    "        * c_n_max,\n",
    "        \"Initial concentration in positive electrode [mol.m-3]\": esoh_sol[\n",
    "            \"y_100\"\n",
    "        ].data[0]\n",
    "        * c_p_max,\n",
    "        \n",
    "    }\n",
    ")\n",
    "\n",
    "sim_ode = pybamm.Simulation(\n",
    "    model, experiment=experiment_one_cycle, parameter_values=parameter_values,\n",
    "    solver=pybamm.CasadiSolver(\"safe\")\n",
    ")\n",
    "sol0 = sim_ode.solve(initial_soc=SOC_0)\n",
    "model = sim_ode.solution.all_models[0]\n",
    "cap0 = sol0.summary_variables[\"Capacity [A.h]\"]"
   ]
  },
  {
   "cell_type": "code",
   "execution_count": 39,
   "metadata": {},
   "outputs": [
    {
     "data": {
      "text/plain": [
       "array([4.86098326])"
      ]
     },
     "execution_count": 39,
     "metadata": {},
     "output_type": "execute_result"
    }
   ],
   "source": [
    "cap0"
   ]
  },
  {
   "cell_type": "code",
   "execution_count": 58,
   "metadata": {},
   "outputs": [],
   "source": [
    "def sol_to_y(sol, loc=\"end\"):\n",
    "    if loc == \"start\":\n",
    "        pos = 0\n",
    "    elif loc == \"end\":\n",
    "        pos = -1\n",
    "    model = sol.all_models[0]\n",
    "    n_Li = sol[\"Total lithium in particles [mol]\"].data[pos].flatten()\n",
    "    Cn = sol[\"Negative electrode capacity [A.h]\"].data[pos].flatten()\n",
    "    Cp = sol[\"Positive electrode capacity [A.h]\"].data[pos].flatten()\n",
    "    # y = np.concatenate([n_Li, Cn, Cp])\n",
    "    y = n_Li\n",
    "    for var in model.initial_conditions:\n",
    "        if var.name not in [\n",
    "            \"X-averaged negative particle concentration\",\n",
    "            \"X-averaged positive particle concentration\",\n",
    "            \"Discharge capacity [A.h]\",\n",
    "        ]:\n",
    "            value = sol[var.name].data\n",
    "            if value.ndim == 1:\n",
    "                value = value[pos]\n",
    "            elif value.ndim == 2:\n",
    "                value = value[:, pos]\n",
    "            elif value.ndim == 3:\n",
    "                value = value[:, :, pos]\n",
    "            y = np.concatenate([y, value.flatten()])\n",
    "    return y\n",
    "\n",
    "def y_to_sol(y, esoh_sim, model):\n",
    "    print(y[3])\n",
    "    n_Li = y[0]\n",
    "    Cn = C_over_eps_n * y[1]\n",
    "    Cp = C_over_eps_p * y[2]\n",
    "    esoh_sol = esoh_sim.solve(\n",
    "        [0],\n",
    "        inputs={\"V_min\": Vmin, \"V_max\": Vmax, \"C_n\": Cn, \"C_p\": Cp, \"n_Li\": n_Li},\n",
    "    )\n",
    "    esoh_sim.built_model.set_initial_conditions_from(esoh_sol)\n",
    "    ics = {}\n",
    "    x_100 = esoh_sol[\"x_100\"].data[0]\n",
    "    y_100 = esoh_sol[\"y_100\"].data[0]\n",
    "    x_0 = esoh_sol[\"x_0\"].data[0]\n",
    "    y_0 = esoh_sol[\"y_0\"].data[0]\n",
    "    start = 1\n",
    "    for var in model.initial_conditions:\n",
    "        if var.name == \"X-averaged negative particle concentration\":\n",
    "            ics[var.name] = ((x_100-x_0)*SOC_0+x_0) * np.ones((model.variables[var.name].size, 2))\n",
    "        elif var.name == \"X-averaged positive particle concentration\":\n",
    "            ics[var.name] = ((y_100-y_0)*SOC_0+y_0) * np.ones((model.variables[var.name].size, 2))\n",
    "        elif var.name == \"Discharge capacity [A.h]\":\n",
    "            ics[var.name] = np.zeros(1)\n",
    "        else:\n",
    "            end = start + model.variables[var.name].size\n",
    "            ics[var.name] = y[start:end, np.newaxis]\n",
    "            start = end\n",
    "    model.set_initial_conditions_from(ics)\n",
    "    return pybamm.Solution(\n",
    "        [np.array([0])],\n",
    "        model.concatenated_initial_conditions.evaluate()[:, np.newaxis],\n",
    "        model,\n",
    "        {},\n",
    "    )\n",
    "\n",
    "def dydt(t, y):\n",
    "    if y[0] < 0 or y[1] < 0 or y[2] < 0:\n",
    "        return 0 * y\n",
    "    print(t)\n",
    "    # Set up based on current value of y\n",
    "    y_to_sol(\n",
    "        y,\n",
    "        esoh_sim,\n",
    "        sim_ode.op_conds_to_built_models[\n",
    "            experiment_one_cycle.operating_conditions[0][\"electric\"]\n",
    "        ],\n",
    "    )\n",
    "\n",
    "    # Simulate one cycle\n",
    "    sol = sim_ode.solve()\n",
    "\n",
    "    dy = sol_to_y(sol) - y\n",
    "\n",
    "    return dy\n"
   ]
  },
  {
   "cell_type": "code",
   "execution_count": 41,
   "metadata": {},
   "outputs": [],
   "source": [
    "if experiment.termination == {}:\n",
    "    event = None\n",
    "else:\n",
    "\n",
    "    def capacity_cutoff(t, y):\n",
    "        sol = y_to_sol(y, esoh_sim, model)\n",
    "        cap = pybamm.make_cycle_solution([sol], esoh_sim, True)[1][\"Capacity [A.h]\"]\n",
    "        return cap / cap0 - experiment_one_cycle.termination[\"capacity\"][0] / 100\n",
    "\n",
    "    capacity_cutoff.terminal = True"
   ]
  },
  {
   "cell_type": "code",
   "execution_count": 42,
   "metadata": {},
   "outputs": [],
   "source": [
    "num_cycles = len(experiment.operating_conditions_cycles)\n",
    "if save_at_cycles is None:\n",
    "    t_eval = np.arange(1, num_cycles + 1)\n",
    "elif save_at_cycles == -1:\n",
    "    t_eval = None\n",
    "else:\n",
    "    t_eval = np.arange(1, num_cycles + 1, save_at_cycles)\n",
    "y0 = sol_to_y(sol0, loc=\"start\")\n",
    "timer = pybamm.Timer()"
   ]
  },
  {
   "cell_type": "code",
   "execution_count": null,
   "metadata": {},
   "outputs": [],
   "source": [
    "y0 = sol_to_y(sol0, loc=\"start\")"
   ]
  },
  {
   "cell_type": "code",
   "execution_count": 60,
   "metadata": {},
   "outputs": [],
   "source": [
    "sol=sol0\n",
    "loc=\"start\""
   ]
  },
  {
   "cell_type": "code",
   "execution_count": 62,
   "metadata": {},
   "outputs": [
    {
     "data": {
      "text/plain": [
       "array([0.18896994, 0.59957373, 0.43573014, 0.5       ])"
      ]
     },
     "execution_count": 62,
     "metadata": {},
     "output_type": "execute_result"
    }
   ],
   "source": [
    "if loc == \"start\":\n",
    "        pos = 0\n",
    "elif loc == \"end\":\n",
    "    pos = -1\n",
    "model = sol.all_models[0]\n",
    "n_Li = sol[\"Total lithium in particles [mol]\"].data[pos].flatten()\n",
    "Cn = sol[\"Negative electrode capacity [A.h]\"].data[pos].flatten()\n",
    "Cp = sol[\"Positive electrode capacity [A.h]\"].data[pos].flatten()\n",
    "# y = np.concatenate([n_Li, Cn, Cp])\n",
    "y = n_Li\n",
    "for var in model.initial_conditions:\n",
    "    if var.name not in [\n",
    "        \"X-averaged negative particle concentration\",\n",
    "        \"X-averaged positive particle concentration\",\n",
    "        \"Discharge capacity [A.h]\",\n",
    "    ]:\n",
    "        value = sol[var.name].data\n",
    "        if value.ndim == 1:\n",
    "            value = value[pos]\n",
    "        elif value.ndim == 2:\n",
    "            value = value[:, pos]\n",
    "        elif value.ndim == 3:\n",
    "            value = value[:, :, pos]\n",
    "        y = np.concatenate([y, value.flatten()])\n",
    "y"
   ]
  },
  {
   "cell_type": "code",
   "execution_count": null,
   "metadata": {},
   "outputs": [],
   "source": [
    "model = sim_ode.op_conds_to_built_models[\n",
    "                experiment_one_cycle.operating_conditions[0][\"electric\"]\n",
    "            ]"
   ]
  },
  {
   "cell_type": "code",
   "execution_count": 67,
   "metadata": {},
   "outputs": [
    {
     "name": "stdout",
     "output_type": "stream",
     "text": [
      "0.5\n"
     ]
    }
   ],
   "source": [
    "print(y[3])\n",
    "n_Li = y[0]\n",
    "Cn = C_over_eps_n * y[1]\n",
    "Cp = C_over_eps_p * y[2]\n",
    "esoh_sol = esoh_sim.solve(\n",
    "    [0],\n",
    "    inputs={\"V_min\": Vmin, \"V_max\": Vmax, \"C_n\": Cn, \"C_p\": Cp, \"n_Li\": n_Li},\n",
    ")\n",
    "esoh_sim.built_model.set_initial_conditions_from(esoh_sol)\n",
    "ics = {}\n",
    "x_100 = esoh_sol[\"x_100\"].data[0]\n",
    "y_100 = esoh_sol[\"y_100\"].data[0]\n",
    "x_0 = esoh_sol[\"x_0\"].data[0]\n",
    "y_0 = esoh_sol[\"y_0\"].data[0]"
   ]
  },
  {
   "cell_type": "code",
   "execution_count": 68,
   "metadata": {},
   "outputs": [
    {
     "name": "stdout",
     "output_type": "stream",
     "text": [
      "0.8302191970801952\n",
      "0.033536705995517224\n",
      "0.0016752764280806298\n",
      "0.8907265393546895\n"
     ]
    }
   ],
   "source": [
    "print(x_100)\n",
    "print(y_100)\n",
    "print(x_0)\n",
    "print(y_0)\n"
   ]
  },
  {
   "cell_type": "code",
   "execution_count": 69,
   "metadata": {},
   "outputs": [
    {
     "data": {
      "text/plain": [
       "<pybamm.models.full_battery_models.lithium_ion.spm.SPM at 0x1e47dd2f250>"
      ]
     },
     "execution_count": 69,
     "metadata": {},
     "output_type": "execute_result"
    }
   ],
   "source": [
    "start = 1\n",
    "for var in model.initial_conditions:\n",
    "    if var.name == \"X-averaged negative particle concentration\":\n",
    "        ics[var.name] = ((x_100-x_0)*SOC_0+x_0) * np.ones((model.variables[var.name].size, 2))\n",
    "    elif var.name == \"X-averaged positive particle concentration\":\n",
    "        ics[var.name] = y_100 * np.ones((model.variables[var.name].size, 2))\n",
    "    elif var.name == \"Discharge capacity [A.h]\":\n",
    "        ics[var.name] = np.zeros(1)\n",
    "    else:\n",
    "        end = start + model.variables[var.name].size\n",
    "        ics[var.name] = y[start:end, np.newaxis]\n",
    "        start = end\n",
    "model.set_initial_conditions_from(ics)"
   ]
  },
  {
   "cell_type": "code",
   "execution_count": null,
   "metadata": {},
   "outputs": [],
   "source": [
    "print(y[3])\n",
    "n_Li = y[0]\n",
    "Cn = C_over_eps_n * y[1]\n",
    "Cp = C_over_eps_p * y[2]\n",
    "esoh_sol = esoh_sim.solve(\n",
    "    [0],\n",
    "    inputs={\"V_min\": Vmin, \"V_max\": Vmax, \"C_n\": Cn, \"C_p\": Cp, \"n_Li\": n_Li},\n",
    ")\n",
    "esoh_sim.built_model.set_initial_conditions_from(esoh_sol)\n",
    "ics = {}\n",
    "x_100 = esoh_sol[\"x_100\"].data[0]\n",
    "y_100 = esoh_sol[\"y_100\"].data[0]\n",
    "x_0 = esoh_sol[\"x_0\"].data[0]\n",
    "y_0 = esoh_sol[\"y_0\"].data[0]\n",
    "start = 1\n",
    "for var in model.initial_conditions:\n",
    "    if var.name == \"X-averaged negative particle concentration\":\n",
    "        ics[var.name] = ((x_100-x_0)*SOC_0+x_0) * np.ones((model.variables[var.name].size, 2))\n",
    "    elif var.name == \"X-averaged positive particle concentration\":\n",
    "        ics[var.name] = y_100 * np.ones((model.variables[var.name].size, 2))\n",
    "    elif var.name == \"Discharge capacity [A.h]\":\n",
    "        ics[var.name] = np.zeros(1)\n",
    "    else:\n",
    "        end = start + model.variables[var.name].size\n",
    "        ics[var.name] = y[start:end, np.newaxis]\n",
    "        start = end\n",
    "model.set_initial_conditions_from(ics)"
   ]
  },
  {
   "cell_type": "code",
   "execution_count": 59,
   "metadata": {},
   "outputs": [
    {
     "name": "stdout",
     "output_type": "stream",
     "text": [
      "1.0\n",
      "0.5\n",
      "0.5\n",
      "6.0\n",
      "0.948936109512349\n",
      "8.5\n",
      "1.168110826787009\n",
      "11.0\n",
      "1.390831570717181\n",
      "1.390831570717181\n",
      "61.0\n",
      "5.809948990197148\n",
      "86.0\n",
      "7.506547313506777\n",
      "111.0\n",
      "9.561565730455241\n",
      "9.561565730455241\n",
      "225.0\n",
      "18.146087094774153\n",
      "282.0\n",
      "20.1580886002155\n",
      "339.0\n",
      "23.80461224556226\n",
      "23.80461224556226\n"
     ]
    }
   ],
   "source": [
    "sol = solve_ivp(\n",
    "    dydt,\n",
    "    [1, num_cycles],\n",
    "    y0,\n",
    "    t_eval=t_eval,\n",
    "    events=capacity_cutoff,\n",
    "    first_step=10,\n",
    "    method=\"RK23\",\n",
    "    atol=1e-2,\n",
    "    rtol=1e-2,\n",
    ")\n",
    "time = timer.time()"
   ]
  }
 ],
 "metadata": {
  "kernelspec": {
   "display_name": "Python 3.9.7 64-bit ('windows-dev': venv)",
   "language": "python",
   "name": "python3"
  },
  "language_info": {
   "codemirror_mode": {
    "name": "ipython",
    "version": 3
   },
   "file_extension": ".py",
   "mimetype": "text/x-python",
   "name": "python",
   "nbconvert_exporter": "python",
   "pygments_lexer": "ipython3",
   "version": "3.9.7"
  },
  "orig_nbformat": 4,
  "vscode": {
   "interpreter": {
    "hash": "f09d3dac03808011dce2708ac4743ff9bfbc3811517b446239dd0644e1df0f4f"
   }
  }
 },
 "nbformat": 4,
 "nbformat_minor": 2
}
