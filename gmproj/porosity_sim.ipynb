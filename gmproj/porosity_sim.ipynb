{
 "cells": [
  {
   "cell_type": "code",
   "execution_count": null,
   "metadata": {},
   "outputs": [],
   "source": [
    "import pybamm\n",
    "import matplotlib.pyplot as plt\n",
    "import numpy as np\n",
    "import pandas as pd\n",
    "import math\n",
    "from scipy.integrate import solve_ivp\n",
    "from scipy.fft import fft, fftfreq, fftshift\n",
    "from scipy.signal import savgol_filter\n",
    "from scipy.signal import find_peaks\n",
    "from scipy import interpolate\n",
    "plt.rcParams['figure.dpi'] = 150\n",
    "plt.rcParams['savefig.dpi'] = 300\n",
    "plt.style.use('seaborn-white')\n",
    "\n",
    "eSOH_DIR = \"./data/esoh/\"\n",
    "oCV_DIR = \"./data/ocv/\"\n",
    "fig_DIR = \"./figures/\"\n"
   ]
  },
  {
   "cell_type": "code",
   "execution_count": null,
   "metadata": {},
   "outputs": [],
   "source": [
    "import pybamm\n",
    "import matplotlib.pyplot as plt\n",
    "import numpy as np\n",
    "import pandas as pd\n",
    "import math\n",
    "from scipy.integrate import solve_ivp\n",
    "from scipy.fft import fft, fftfreq, fftshift\n",
    "from scipy.signal import savgol_filter\n",
    "from scipy.signal import find_peaks\n",
    "from scipy import interpolate\n",
    "plt.rcParams['figure.dpi'] = 150\n",
    "plt.rcParams['savefig.dpi'] = 300\n",
    "plt.style.use('seaborn-white')\n",
    "\n",
    "eSOH_DIR = \"./data/esoh/\"\n",
    "oCV_DIR = \"./data/ocv/\"\n",
    "fig_DIR = \"./figures/\"\n"
   ]
  },
  {
   "cell_type": "code",
   "execution_count": null,
   "metadata": {},
   "outputs": [],
   "source": [
    "def nmc_volume_change_mohtat(sto):\n",
    "    t_change = -1.10/100*(1-sto)\n",
    "    return t_change\n",
    "\n",
    "def graphite_volume_change_mohtat(sto):\n",
    "    stoichpoints = np.array([0,0.12,0.18,0.24,0.50,1])\n",
    "    thicknesspoints = np.array([0,2.406/100,3.3568/100,4.3668/100,5.583/100,13.0635/100])\n",
    "    x = [sto]\n",
    "    t_change = pybamm.Interpolant(stoichpoints, thicknesspoints, x, name=None, interpolator='linear', extrapolate=True, entries_string=None)\n",
    "    return t_change\n",
    "\n",
    "def get_parameter_values():\n",
    "    parameter_values = pybamm.ParameterValues(chemistry=pybamm.parameter_sets.Mohtat2020)\n",
    "    parameter_values.update(\n",
    "        {\n",
    "            # mechanical properties\n",
    "            \"Positive electrode Poisson's ratio\": 0.3,\n",
    "            \"Positive electrode Young's modulus [Pa]\": 375e9,\n",
    "            \"Positive electrode reference concentration for free of deformation [mol.m-3]\": 0,\n",
    "            \"Positive electrode partial molar volume [m3.mol-1]\": -7.28e-7,\n",
    "            \"Positive electrode volume change\": nmc_volume_change_mohtat,\n",
    "            # Loss of active materials (LAM) model\n",
    "            \"Positive electrode LAM constant exponential term\": 2,\n",
    "            \"Positive electrode critical stress [Pa]\": 375e6,\n",
    "            # mechanical properties\n",
    "            \"Negative electrode Poisson's ratio\": 0.2,\n",
    "            \"Negative electrode Young's modulus [Pa]\": 15e9,\n",
    "            \"Negative electrode reference concentration for free of deformation [mol.m-3]\": 0,\n",
    "            \"Negative electrode partial molar volume [m3.mol-1]\": 3.1e-6,\n",
    "            \"Negative electrode volume change\": graphite_volume_change_mohtat,\n",
    "            # Loss of active materials (LAM) model\n",
    "            \"Negative electrode LAM constant exponential term\": 2,\n",
    "            \"Negative electrode critical stress [Pa]\": 60e6,\n",
    "            # Other\n",
    "            \"Cell thermal expansion coefficient [m.K-1]\": 1.48E-6,\n",
    "            \"Lower voltage cut-off [V]\": 3.0\n",
    "        },\n",
    "        check_already_exists=False,\n",
    "    )\n",
    "    return parameter_values\n",
    "parameter_values = get_parameter_values()"
   ]
  },
  {
   "cell_type": "code",
   "execution_count": null,
   "metadata": {},
   "outputs": [],
   "source": [
    "parameter_values.search(\"porosity\")"
   ]
  },
  {
   "cell_type": "code",
   "execution_count": null,
   "metadata": {},
   "outputs": [],
   "source": [
    "cell = 1"
   ]
  },
  {
   "cell_type": "code",
   "execution_count": null,
   "metadata": {},
   "outputs": [],
   "source": [
    "cell_no = f'{cell:02d}'\n",
    "dfe=pd.read_csv(eSOH_DIR+\"aging_param_cell_\"+cell_no+\".csv\")\n",
    "# Remove first RPT\n",
    "dfe = dfe.drop(dfe.index[0])\n",
    "dfe = dfe.reset_index(drop=True)\n",
    "dfe['N']=dfe['N']-dfe['N'][0]\n",
    "N =dfe.N.unique()\n",
    "dfo_0=pd.read_csv(oCV_DIR+\"ocv_data_cell_\"+cell_no+\".csv\")\n",
    "print(\"Cycle Numbers:\")\n",
    "print(*N, sep = \", \") "
   ]
  },
  {
   "cell_type": "code",
   "execution_count": null,
   "metadata": {},
   "outputs": [],
   "source": [
    "dfo = dfo_0[dfo_0['N']==N[0]]\n",
    "# dfe_0 = dfe[dfe['N']==N[0]]\n",
    "C_n_init = dfe['C_n'][0]\n",
    "C_p_init = dfe['C_p'][0]\n",
    "y_0_init = dfe['y_0'][0] \n",
    "if cell_no=='01':\n",
    "    c_rate_c = 'C/5'\n",
    "    c_rate_d = 'C/5'\n",
    "    dis_set = \" until 3V\"\n",
    "    # eps_n_data = 0.6234\n",
    "    # eps_p_data = 0.4542\n",
    "elif cell_no=='13':\n",
    "    c_rate_c = 'C/5'\n",
    "    c_rate_d = 'C/5'\n",
    "    dis_set = \" for 150 min\""
   ]
  },
  {
   "cell_type": "code",
   "execution_count": null,
   "metadata": {},
   "outputs": [],
   "source": [
    "pybamm.set_logging_level(\"WARNING\")\n",
    "# pybamm.set_logging_level(\"NOTICE\")\n",
    "experiment = pybamm.Experiment(\n",
    "    [\n",
    "        (\"Charge at \"+c_rate_c+\" until 4.2V\", )\n",
    "    ],\n",
    "    termination=\"50% capacity\",\n",
    "#     cccv_handling=\"ode\",\n",
    ")\n",
    "spm = pybamm.lithium_ion.SPMe(\n",
    "    {\n",
    "        \"SEI\": \"ec reaction limited\",\n",
    "        # \"loss of active material\": (\"stress-driven\",\"none\"),\n",
    "        \"loss of active material\": \"stress-driven\",\n",
    "        \"stress-induced diffusion\": \"true\",\n",
    "        \"pressure driven porosity\": \"true\",\n",
    "        # \"lithium plating\": \"reversible\",\n",
    "    }\n",
    ")\n",
    "# spm.print_parameter_info()"
   ]
  },
  {
   "cell_type": "code",
   "execution_count": null,
   "metadata": {},
   "outputs": [],
   "source": [
    "param = spm.param\n",
    "eps_n_data = parameter_values.evaluate(C_n_init*3600/(param.L_n * param.c_n_max * param.F* param.A_cc))\n",
    "eps_p_data = parameter_values.evaluate(C_p_init*3600/(param.L_p * param.c_p_max * param.F* param.A_cc))\n",
    "cs_p_init = parameter_values.evaluate(y_0_init* param.c_p_max)c"
   ]
  },
  {
   "cell_type": "code",
   "execution_count": null,
   "metadata": {},
   "outputs": [],
   "source": [
    "param = spm.param\n",
    "eps_n_data = parameter_values.evaluate(C_n_init*3600/(param.L_n * param.c_n_max * param.F* param.A_cc))\n",
    "eps_p_data = parameter_values.evaluate(C_p_init*3600/(param.L_p * param.c_p_max * param.F* param.A_cc))\n",
    "cs_p_init = parameter_values.evaluate(y_0_init* param.c_p_max)"
   ]
  },
  {
   "cell_type": "code",
   "execution_count": null,
   "metadata": {},
   "outputs": [],
   "source": [
    "sim_exp = pybamm.Simulation(spm, experiment=experiment, parameter_values=parameter_values, \n",
    "                            solver=pybamm.CasadiSolver(\"safe\"))\n",
    "sol_exp = sim_exp.solve(initial_soc=0)"
   ]
  },
  {
   "cell_type": "code",
   "execution_count": null,
   "metadata": {},
   "outputs": [],
   "source": [
    "spm.variable_names()"
   ]
  },
  {
   "cell_type": "code",
   "execution_count": null,
   "metadata": {},
   "outputs": [],
   "source": [
    "t = sol_exp[\"Time [min]\"].entries\n",
    "I = sol_exp[\"Current [A]\"].entries\n",
    "Q = -sol_exp['Discharge capacity [A.h]'].entries\n",
    "Vt = sol_exp[\"Terminal voltage [V]\"].entries\n",
    "exp = 30e6*sol_exp[\"Cell thickness change [m]\"].entries\n",
    "exp_n = 30e6*sol_exp[\"Negative Electrode thickness change [m]\"].entries\n",
    "exp_p = 30e6*sol_exp[\"Positive Electrode thickness change [m]\"].entries\n",
    "ee_p = sol_exp[\"X-averaged positive electrode porosity\"].entries\n",
    "ee_n = sol_exp[\"X-averaged negative electrode porosity\"].entries\n",
    "ee_s = sol_exp[\"X-averaged separator porosity\"].entries"
   ]
  },
  {
   "cell_type": "code",
   "execution_count": null,
   "metadata": {},
   "outputs": [],
   "source": [
    "fig = plt.figure(figsize=[8,4])\n",
    "ax1 = plt.subplot(1,3,1)\n",
    "ax1.plot(Q,ee_n)\n",
    "ax1.set_xlim(left=0)\n",
    "ax1.set_xlabel('Q [Ah]')\n",
    "ax1.set_ylabel('Porosity')\n",
    "ax1.set_title('NE')\n",
    "ax2 = plt.subplot(1,3,2)\n",
    "ax2.plot(Q,ee_s)\n",
    "ax2.set_xlim(left=0)\n",
    "ax2.set_xlabel('Q [Ah]')\n",
    "ax2.set_ylabel('Porosity')\n",
    "ax2.set_title('Sep')\n",
    "ax3 = plt.subplot(1,3,3)\n",
    "ax3.plot(Q,ee_p)\n",
    "ax3.set_xlim(left=0)\n",
    "ax3.set_xlabel('Q [Ah]')\n",
    "ax3.set_ylabel('Porosity')\n",
    "ax3.set_title('PE')\n",
    "fig.tight_layout()"
   ]
  },
  {
   "cell_type": "code",
   "execution_count": null,
   "metadata": {},
   "outputs": [],
   "source": [
    "fig = plt.figure(figsize=[8,4])\n",
    "ax1 = plt.subplot(1,3,1)\n",
    "ax1.plot(Q,exp_n)\n",
    "ax1.set_xlim(left=0)\n",
    "ax1.set_xlabel('Q [Ah]')\n",
    "ax1.set_ylabel('Exp [$\\mu$m]')\n",
    "ax1.set_title('NE')\n",
    "ax2 = plt.subplot(1,3,2)\n",
    "ax2.plot(Q,exp)\n",
    "ax2.set_xlim(left=0)\n",
    "ax2.set_xlabel('Q [Ah]')\n",
    "ax2.set_title('Total')\n",
    "ax2.set_ylabel('Exp [$\\mu$m]')\n",
    "ax3 = plt.subplot(1,3,3)\n",
    "ax3.plot(Q,exp_p)\n",
    "ax3.set_xlim(left=0)\n",
    "ax3.set_xlabel('Q [Ah]')\n",
    "ax3.set_ylabel('Exp [$\\mu$m]')\n",
    "ax3.set_title('PE')\n",
    "fig.tight_layout()"
   ]
  }
 ],
 "metadata": {
  "interpreter": {
   "hash": "bb29c5219b2d93d7d271d1b6b571af35e1abaae13b8b0df31b78043622a2a5ee"
  },
  "kernelspec": {
   "display_name": "Python 3.9.7 64-bit ('windows-dev': venv)",
   "language": "python",
   "name": "python3"
  },
  "language_info": {
   "name": "python",
   "version": "3.9.7"
  },
  "orig_nbformat": 4
 },
 "nbformat": 4,
 "nbformat_minor": 2
}
