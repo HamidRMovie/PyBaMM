{
 "cells": [
  {
   "cell_type": "markdown",
   "metadata": {},
   "source": [
    "# Low c-rate aging simulation ORIGINAL Code from ACC Paper"
   ]
  },
  {
   "cell_type": "code",
   "execution_count": null,
   "metadata": {},
   "outputs": [],
   "source": [
    "import pybamm\n",
    "import matplotlib.pyplot as plt\n",
    "import numpy as np\n",
    "import pandas as pd\n",
    "import math\n",
    "from scipy.integrate import solve_ivp\n",
    "\n",
    "DATA_DIR  = \"./data/esoh_V/\"\n",
    "fig_DIR = \"./figures/\""
   ]
  },
  {
   "cell_type": "markdown",
   "metadata": {},
   "source": [
    "# Set Parameters and Expansion Functions"
   ]
  },
  {
   "cell_type": "code",
   "execution_count": null,
   "metadata": {},
   "outputs": [],
   "source": [
    "def nmc_volume_change_mohtat(sto):\n",
    "    t_change = -1.10/100*(1-sto)\n",
    "    return t_change\n",
    "\n",
    "def graphite_volume_change_mohtat(sto):\n",
    "    stoichpoints = np.array([0,0.12,0.18,0.24,0.50,1])\n",
    "    thicknesspoints = np.array([0,2.406/100,3.3568/100,4.3668/100,5.583/100,13.0635/100])\n",
    "    x = [sto]\n",
    "    t_change = pybamm.Interpolant(stoichpoints, thicknesspoints, x, name=None, interpolator='linear', extrapolate=True, entries_string=None)\n",
    "    return t_change\n",
    "\n",
    "def get_parameter_values():\n",
    "    parameter_values = pybamm.ParameterValues(chemistry=pybamm.parameter_sets.Mohtat2020)\n",
    "    parameter_values.update(\n",
    "        {\n",
    "            # mechanical properties\n",
    "            \"Positive electrode Poisson's ratio\": 0.3,\n",
    "            \"Positive electrode Young's modulus [Pa]\": 375e9,\n",
    "            \"Positive electrode reference concentration for free of deformation [mol.m-3]\": 0,\n",
    "            \"Positive electrode partial molar volume [m3.mol-1]\": -7.28e-7,\n",
    "            \"Positive electrode volume change\": nmc_volume_change_mohtat,\n",
    "            # Loss of active materials (LAM) model\n",
    "            \"Positive electrode LAM constant exponential term\": 2,\n",
    "            \"Positive electrode critical stress [Pa]\": 375e6,\n",
    "            # mechanical properties\n",
    "            \"Negative electrode Poisson's ratio\": 0.2,\n",
    "            \"Negative electrode Young's modulus [Pa]\": 15e9,\n",
    "            \"Negative electrode reference concentration for free of deformation [mol.m-3]\": 0,\n",
    "            \"Negative electrode partial molar volume [m3.mol-1]\": 3.1e-6,\n",
    "            \"Negative electrode volume change\": graphite_volume_change_mohtat,\n",
    "            # Loss of active materials (LAM) model\n",
    "            \"Negative electrode LAM constant exponential term\": 2,\n",
    "            \"Negative electrode critical stress [Pa]\": 60e6,\n",
    "            # Other\n",
    "            \"Cell thermal expansion coefficient [m.K-1]\": 1.48E-6,\n",
    "            \"Lower voltage cut-off [V]\": 3.0\n",
    "        },\n",
    "        check_already_exists=False,\n",
    "    )\n",
    "    return parameter_values\n",
    "parameter_values = get_parameter_values()"
   ]
  },
  {
   "cell_type": "code",
   "execution_count": null,
   "metadata": {},
   "outputs": [],
   "source": [
    "parameter_values.search(\"Li\")"
   ]
  },
  {
   "cell_type": "code",
   "execution_count": null,
   "metadata": {},
   "outputs": [],
   "source": [
    "def split_long_string(title, max_words=None):\n",
    "    \"\"\"Get title in a nice format\"\"\"\n",
    "    max_words = max_words or pybamm.settings.max_words_in_line\n",
    "    words = title.split()\n",
    "    # Don't split if fits on one line, don't split just for units\n",
    "    if len(words) <= max_words or words[max_words].startswith(\"[\"):\n",
    "        return title\n",
    "    else:\n",
    "        first_line = (\" \").join(words[:max_words])\n",
    "        second_line = (\" \").join(words[max_words:])\n",
    "        return first_line + \"\\n\" + second_line"
   ]
  },
  {
   "cell_type": "markdown",
   "metadata": {},
   "source": [
    "# Accelerated Simulations Function"
   ]
  },
  {
   "cell_type": "code",
   "execution_count": null,
   "metadata": {},
   "outputs": [],
   "source": [
    "def cycle_adaptive_simulation(model, parameter_values, experiment,SOC_0=1, save_at_cycles=None):\n",
    "    experiment_one_cycle = pybamm.Experiment(\n",
    "        experiment.operating_conditions_cycles[:1],\n",
    "        termination=experiment.termination_string,\n",
    "        cccv_handling=experiment.cccv_handling,\n",
    "    )\n",
    "    Vmin = 3.0\n",
    "    Vmax = 4.2\n",
    "    esoh_model = pybamm.lithium_ion.ElectrodeSOH()\n",
    "    esoh_sim = pybamm.Simulation(esoh_model, parameter_values=parameter_values)\n",
    "    param = model.param\n",
    "    Cn = parameter_values.evaluate(param.C_n_init)\n",
    "    Cp = parameter_values.evaluate(param.C_p_init)\n",
    "    eps_n = parameter_values[\"Negative electrode active material volume fraction\"]\n",
    "    eps_p = parameter_values[\"Positive electrode active material volume fraction\"]\n",
    "    C_over_eps_n = Cn / eps_n\n",
    "    C_over_eps_p = Cp / eps_p\n",
    "    c_n_max = parameter_values.evaluate(param.c_n_max)\n",
    "    c_p_max = parameter_values.evaluate(param.c_p_max)\n",
    "    n_Li_init = parameter_values.evaluate(param.n_Li_particles_init)\n",
    "    \n",
    "    esoh_sol = esoh_sim.solve(\n",
    "        [0],\n",
    "        inputs={\"V_min\": Vmin, \"V_max\": Vmax, \"C_n\": Cn, \"C_p\": Cp, \"n_Li\": n_Li_init},\n",
    "        solver=pybamm.AlgebraicSolver(),\n",
    "    )\n",
    "\n",
    "    parameter_values.update(\n",
    "        {\n",
    "            \"Initial concentration in negative electrode [mol.m-3]\": esoh_sol[\n",
    "                \"x_100\"\n",
    "            ].data[0]\n",
    "            * c_n_max,\n",
    "            \"Initial concentration in positive electrode [mol.m-3]\": esoh_sol[\n",
    "                \"y_100\"\n",
    "            ].data[0]\n",
    "            * c_p_max,\n",
    "            \n",
    "        }\n",
    "    )\n",
    "\n",
    "    sim_ode = pybamm.Simulation(\n",
    "        model, experiment=experiment_one_cycle, parameter_values=parameter_values,\n",
    "        solver=pybamm.CasadiSolver(\"safe\")\n",
    "    )\n",
    "    sol0 = sim_ode.solve(initial_soc=SOC_0)\n",
    "    model = sim_ode.solution.all_models[0]\n",
    "    cap0 = sol0.summary_variables[\"Capacity [A.h]\"]\n",
    "\n",
    "    def sol_to_y(sol, loc=\"end\"):\n",
    "        if loc == \"start\":\n",
    "            pos = 0\n",
    "        elif loc == \"end\":\n",
    "            pos = -1\n",
    "        model = sol.all_models[0]\n",
    "        n_Li = sol[\"Total lithium in particles [mol]\"].data[pos].flatten()\n",
    "        Cn = sol[\"Negative electrode capacity [A.h]\"].data[pos].flatten()\n",
    "        Cp = sol[\"Positive electrode capacity [A.h]\"].data[pos].flatten()\n",
    "        # y = np.concatenate([n_Li, Cn, Cp])\n",
    "        y = n_Li\n",
    "        for var in model.initial_conditions:\n",
    "            if var.name not in [\n",
    "                \"X-averaged negative particle concentration\",\n",
    "                \"X-averaged positive particle concentration\",\n",
    "                \"Discharge capacity [A.h]\",\n",
    "            ]:\n",
    "                value = sol[var.name].data\n",
    "                if value.ndim == 1:\n",
    "                    value = value[pos]\n",
    "                elif value.ndim == 2:\n",
    "                    value = value[:, pos]\n",
    "                elif value.ndim == 3:\n",
    "                    value = value[:, :, pos]\n",
    "                y = np.concatenate([y, value.flatten()])\n",
    "        return y\n",
    "\n",
    "    def y_to_sol(y, esoh_sim, model):\n",
    "        n_Li = y[0]\n",
    "        Cn = C_over_eps_n * y[1]\n",
    "        Cp = C_over_eps_p * y[2]\n",
    "\n",
    "        esoh_sol = esoh_sim.solve(\n",
    "            [0],\n",
    "            inputs={\"V_min\": Vmin, \"V_max\": Vmax, \"C_n\": Cn, \"C_p\": Cp, \"n_Li\": n_Li},\n",
    "        )\n",
    "        esoh_sim.built_model.set_initial_conditions_from(esoh_sol)\n",
    "        ics = {}\n",
    "        x_100 = esoh_sol[\"x_100\"].data[0]\n",
    "        y_100 = esoh_sol[\"y_100\"].data[0]\n",
    "        x_0 = esoh_sol[\"x_0\"].data[0]\n",
    "        y_0 = esoh_sol[\"y_0\"].data[0]\n",
    "        start = 1\n",
    "        for var in model.initial_conditions:\n",
    "            if var.name == \"X-averaged negative particle concentration\":\n",
    "                ics[var.name] = ((x_100-x_0)*SOC_0+x_0) * np.ones((model.variables[var.name].size, 2))\n",
    "            elif var.name == \"X-averaged positive particle concentration\":\n",
    "                ics[var.name] = y_100 * np.ones((model.variables[var.name].size, 2))\n",
    "            elif var.name == \"Discharge capacity [A.h]\":\n",
    "                ics[var.name] = np.zeros(1)\n",
    "            else:\n",
    "                end = start + model.variables[var.name].size\n",
    "                ics[var.name] = y[start:end, np.newaxis]\n",
    "                start = end\n",
    "        model.set_initial_conditions_from(ics)\n",
    "        return pybamm.Solution(\n",
    "            [np.array([0])],\n",
    "            model.concatenated_initial_conditions.evaluate()[:, np.newaxis],\n",
    "            model,\n",
    "            {},\n",
    "        )\n",
    "\n",
    "    def dydt(t, y):\n",
    "        if y[0] < 0 or y[1] < 0 or y[2] < 0:\n",
    "            return 0 * y\n",
    "\n",
    "        print(t)\n",
    "        # Set up based on current value of y\n",
    "        y_to_sol(\n",
    "            y,\n",
    "            esoh_sim,\n",
    "            sim_ode.op_conds_to_built_models[\n",
    "                experiment_one_cycle.operating_conditions[0][\"electric\"]\n",
    "            ],\n",
    "        )\n",
    "\n",
    "        # Simulate one cycle\n",
    "        sol = sim_ode.solve()\n",
    "\n",
    "        dy = sol_to_y(sol) - y\n",
    "\n",
    "        return dy\n",
    "\n",
    "    if experiment.termination == {}:\n",
    "        event = None\n",
    "    else:\n",
    "\n",
    "        def capacity_cutoff(t, y):\n",
    "            sol = y_to_sol(y, esoh_sim, model)\n",
    "            cap = pybamm.make_cycle_solution([sol], esoh_sim, True)[1][\"Capacity [A.h]\"]\n",
    "            return cap / cap0 - experiment_one_cycle.termination[\"capacity\"][0] / 100\n",
    "\n",
    "        capacity_cutoff.terminal = True\n",
    "\n",
    "    num_cycles = len(experiment.operating_conditions_cycles)\n",
    "    if save_at_cycles is None:\n",
    "        t_eval = np.arange(1, num_cycles + 1)\n",
    "    elif save_at_cycles == -1:\n",
    "        t_eval = None\n",
    "    else:\n",
    "        t_eval = np.arange(1, num_cycles + 1, save_at_cycles)\n",
    "    y0 = sol_to_y(sol0, loc=\"start\")\n",
    "    timer = pybamm.Timer()\n",
    "    sol = solve_ivp(\n",
    "        dydt,\n",
    "        [1, num_cycles],\n",
    "        y0,\n",
    "        t_eval=t_eval,\n",
    "        events=capacity_cutoff,\n",
    "        first_step=10,\n",
    "        method=\"RK23\",\n",
    "        atol=1e-2,\n",
    "        rtol=1e-2,\n",
    "    )\n",
    "    time = timer.time()\n",
    "\n",
    "    all_sumvars = []\n",
    "    for idx in range(sol.y.shape[1]):\n",
    "        fullsol = y_to_sol(sol.y[:, idx], esoh_sim, model)\n",
    "        sumvars = pybamm.make_cycle_solution([fullsol], esoh_sim, True)[1]\n",
    "        all_sumvars.append(sumvars)\n",
    "\n",
    "    all_sumvars_dict = {\n",
    "        key: np.array([sumvars[key] for sumvars in all_sumvars])\n",
    "        for key in all_sumvars[0].keys()\n",
    "    }\n",
    "    all_sumvars_dict[\"Cycle number\"] = sol.t\n",
    "    \n",
    "    all_sumvars_dict[\"cycles evaluated\"] = sol.nfev\n",
    "    all_sumvars_dict[\"solution time\"] = time\n",
    "    \n",
    "    return all_sumvars_dict"
   ]
  },
  {
   "cell_type": "markdown",
   "metadata": {},
   "source": [
    "# Plot Functions"
   ]
  },
  {
   "cell_type": "code",
   "execution_count": null,
   "metadata": {},
   "outputs": [],
   "source": [
    "def plot(all_sumvars_dict,esoh_data):\n",
    "    esoh_vars = [\"x_0\", \"y_0\", \"x_100\", \"y_100\", \"C_n\", \"C_p\"]\n",
    "    # esoh_vars = [\"Capacity [A.h]\", \"Loss of lithium inventory [%]\",\n",
    "    #              \"Loss of active material in negative electrode [%]\",\n",
    "    #              \"Loss of active material in positive electrode [%]\"]\n",
    "    fig, axes = plt.subplots(3,2,figsize=(7,9))\n",
    "    for k, name in enumerate(esoh_vars):\n",
    "        ax = axes.flat[k]\n",
    "        ax.plot(all_sumvars_dict[\"Cycle number\"],all_sumvars_dict[name],\"ro\")\n",
    "        ax.plot(esoh_data[\"N\"],esoh_data[name],\"kx\")\n",
    "#         ax.scatter(all_sumvars_dict[\"Cycle number\"],all_sumvars_dict[name],color=\"r\")\n",
    "    #     ax.plot(long_sol.summary_variables[name],\"b-\")\n",
    "        ax.set_title(split_long_string(name))\n",
    "        if k>3:\n",
    "            ax.set_xlabel(\"Cycle number\")\n",
    "    # fig.subplots_adjust(bottom=0.4)\n",
    "    fig.legend([\"Acc Sim\"] + [\"Reported\"], \n",
    "           loc=\"lower center\", ncol=1, fontsize=11)\n",
    "    fig.tight_layout()\n",
    "    return fig\n",
    "\n",
    "def plot1(all_sumvars_dict,esoh_data):\n",
    "    esoh_vars = [\"Capacity [A.h]\",\"n_Li\"]\n",
    "    esoh_data[\"Capacity [A.h]\"]=esoh_data[\"Cap\"]\n",
    "    param = pybamm.LithiumIonParameters()\n",
    "    esoh_data[\"n_Li\"]= 3600/param.F.value*(esoh_data[\"y_100\"]*esoh_data[\"C_p\"]+esoh_data[\"x_100\"]*esoh_data[\"C_n\"])\n",
    "    fig, axes = plt.subplots(2,1,figsize=(7,9))\n",
    "    for k, name in enumerate(esoh_vars):\n",
    "        ax = axes.flat[k]\n",
    "        ax.plot(all_sumvars_dict[\"Cycle number\"],all_sumvars_dict[name],\"ro\")\n",
    "        ax.plot(esoh_data[\"N\"],esoh_data[name],\"kx\")\n",
    "        ax.set_title(split_long_string(name))\n",
    "        ax.set_xlabel(\"Cycle number\")\n",
    "    fig.legend([\"Acc Sim\"] + [\"Reported\"], \n",
    "           loc=\"upper right\", ncol=1, fontsize=11)\n",
    "    fig.tight_layout()\n",
    "    return fig\n",
    "    \n",
    "def plotc(all_sumvars_dict,esoh_data):\n",
    "    esoh_vars = [\"x_100\", \"y_0\", \"C_n\", \"C_p\", \"Capacity [A.h]\", \"Loss of lithium inventory [%]\"]\n",
    "    esoh_data[\"Capacity [A.h]\"]=esoh_data[\"Cap\"]\n",
    "    param = pybamm.LithiumIonParameters()\n",
    "    esoh_data[\"n_Li\"]= 3600/param.F.value*(esoh_data[\"y_100\"]*esoh_data[\"C_p\"]+esoh_data[\"x_100\"]*esoh_data[\"C_n\"])\n",
    "    esoh_data[\"Loss of lithium inventory [%]\"]=(1-esoh_data[\"n_Li\"]/esoh_data[\"n_Li\"][0])*100\n",
    "    fig, axes = plt.subplots(3,2,figsize=(7,7))\n",
    "    for k, name in enumerate(esoh_vars):\n",
    "        ax = axes.flat[k]\n",
    "        ax.plot(all_sumvars_dict[\"Cycle number\"],all_sumvars_dict[name],\"ro\")\n",
    "        ax.plot(esoh_data[\"N\"],esoh_data[name],\"kx\")\n",
    "        ax.set_title(split_long_string(name))\n",
    "        if k>3:\n",
    "            ax.set_xlabel(\"Cycle number\")\n",
    "    fig.legend([\"Acc Sim\"] + [\"Reported\"], \n",
    "           loc=\"lower center\",bbox_to_anchor=[0.5,-0.02], ncol=1, fontsize=11)\n",
    "    fig.tight_layout()\n",
    "    return fig"
   ]
  },
  {
   "cell_type": "markdown",
   "metadata": {},
   "source": [
    "# Choose Cell"
   ]
  },
  {
   "cell_type": "code",
   "execution_count": null,
   "metadata": {},
   "outputs": [],
   "source": [
    "cell = 1"
   ]
  },
  {
   "cell_type": "markdown",
   "metadata": {},
   "source": [
    "## Set cell eSOH and cycling parameters "
   ]
  },
  {
   "cell_type": "code",
   "execution_count": null,
   "metadata": {},
   "outputs": [],
   "source": [
    "cell_no = f'{cell:02d}'\n",
    "if cell_no=='01':\n",
    "    c_rate_c = 'C/5'\n",
    "    c_rate_d = 'C/5'\n",
    "    dis_set = \" until 3V\"\n",
    "    eps_n_data = 0.6234\n",
    "    eps_p_data = 0.4542\n",
    "elif cell_no=='04':\n",
    "    c_rate_c = '1.5C'\n",
    "    c_rate_d = '1.5C'\n",
    "    dis_set = \" until 3V\"\n",
    "    eps_n_data = 0.6247\n",
    "    eps_p_data = 0.4512\n",
    "elif cell_no=='07':\n",
    "    c_rate_c = '2C'\n",
    "    c_rate_d = '2C'\n",
    "    dis_set = \" until 3V\"\n",
    "    eps_n_data = 0.6166\n",
    "    eps_p_data = 0.4529\n",
    "elif cell_no=='10':\n",
    "    c_rate_c = 'C/5'\n",
    "    c_rate_d = '1.5C'\n",
    "    dis_set = \" until 3V\"\n",
    "    eps_n_data = 0.6250\n",
    "    eps_p_data = 0.4493\n",
    "elif cell_no=='13':\n",
    "    c_rate_c = 'C/5'\n",
    "    c_rate_d = 'C/5'\n",
    "    dis_set = \" for 150 min\"\n",
    "    eps_n_data = 0.6247\n",
    "    eps_p_data = 0.4544\n",
    "elif cell_no=='16':\n",
    "    c_rate_c = 'C/5'\n",
    "    c_rate_d = '1.5C'\n",
    "    dis_set = \" for 20 min\"\n",
    "    eps_n_data = 0.6243\n",
    "    eps_p_data = 0.4501\n",
    "esoh_data =  pd.read_csv(DATA_DIR +'aging_param_cell_'+cell_no+'.csv')  \n",
    "esoh_data.N.iloc[-1]"
   ]
  },
  {
   "cell_type": "markdown",
   "metadata": {},
   "source": [
    "# Define Experiment and Model"
   ]
  },
  {
   "cell_type": "code",
   "execution_count": null,
   "metadata": {},
   "outputs": [],
   "source": [
    "pybamm.set_logging_level(\"WARNING\")\n",
    "pybamm.set_logging_level(\"NOTICE\")\n",
    "experiment = pybamm.Experiment(\n",
    "    [\n",
    "        (\"Discharge at \"+c_rate_d+dis_set,\n",
    "         \"Rest for 5 min\",\n",
    "         \"Charge at \"+c_rate_c+\" until 4.2V\", \n",
    "         \"Hold at 4.2V until C/50\")\n",
    "    ] *esoh_data.N.iloc[-1],\n",
    "    termination=\"50% capacity\",\n",
    "#     cccv_handling=\"ode\",\n",
    ")\n",
    "spm = pybamm.lithium_ion.SPMe(\n",
    "    {\n",
    "        \"SEI\": \"ec reaction limited\",\n",
    "        # \"loss of active material\": (\"stress-driven\",\"none\"),\n",
    "        \"loss of active material\": \"stress-driven\",\n",
    "        \"stress-induced diffusion\": \"true\",\n",
    "        # \"lithium plating\": \"reversible\",\n",
    "    }\n",
    ")\n",
    "spm.print_parameter_info()"
   ]
  },
  {
   "cell_type": "markdown",
   "metadata": {},
   "source": [
    "# Set Additional Parameter Value and Simulate"
   ]
  },
  {
   "cell_type": "code",
   "execution_count": null,
   "metadata": {},
   "outputs": [],
   "source": [
    "parameter_values = get_parameter_values()\n",
    "sim_des = '_lowc'\n",
    "parameter_values.update(\n",
    "    {\n",
    "        \"SEI kinetic rate constant [m.s-1]\": 1.6827e-16,\n",
    "        \"Positive electrode LAM constant proportional term [s-1]\": 8.3569e-6,\n",
    "        \"Negative electrode LAM constant proportional term [s-1]\": 5.8032e-5,\n",
    "        \"EC diffusivity [m2.s-1]\": 2e-18,\n",
    "        \"Positive electrode LAM constant exponential term\": 2,\n",
    "        \"Negative electrode LAM constant exponential term\": 2,\n",
    "        \"Negative electrode active material volume fraction\": eps_n_data,\n",
    "        \"Positive electrode active material volume fraction\": eps_p_data,\n",
    "        # \"Negative electrode porosity\": 0.28,\n",
    "        # \"Positive electrode porosity\": 0.28,\n",
    "        # \"Separator porosity\": 0.38,\n",
    "    },\n",
    "    check_already_exists=False,\n",
    ")\n",
    "# all_sumvars_dict = cycle_adaptive_simulation(spm, parameter_values, experiment, save_at_cycles=2)"
   ]
  },
  {
   "cell_type": "code",
   "execution_count": null,
   "metadata": {},
   "outputs": [],
   "source": [
    "print(all_sumvars_dict[\"cycles evaluated\"])\n",
    "print(all_sumvars_dict[\"solution time\"])"
   ]
  },
  {
   "cell_type": "code",
   "execution_count": null,
   "metadata": {},
   "outputs": [],
   "source": [
    "# fig = plot(all_sumvars_dict,esoh_data);\n",
    "# fig.savefig(fig_DIR +'fast_sim_'+cell_no+'_new.png')\n",
    "# fig.show()"
   ]
  },
  {
   "cell_type": "code",
   "execution_count": null,
   "metadata": {},
   "outputs": [],
   "source": [
    "# fig = plot1(all_sumvars_dict,esoh_data);\n",
    "# fig.savefig(fig_DIR +'fast_sim_'+cell_no+'_cap_new.png')"
   ]
  },
  {
   "cell_type": "code",
   "execution_count": null,
   "metadata": {},
   "outputs": [],
   "source": [
    "fig = plotc(all_sumvars_dict,esoh_data);\n",
    "fig.savefig(fig_DIR +'fast_sim_'+cell_no+'_esoh.png')"
   ]
  },
  {
   "cell_type": "code",
   "execution_count": null,
   "metadata": {},
   "outputs": [],
   "source": [
    "afsdfsd"
   ]
  },
  {
   "cell_type": "markdown",
   "metadata": {},
   "source": [
    "# Normal Simulations"
   ]
  },
  {
   "cell_type": "code",
   "execution_count": null,
   "metadata": {},
   "outputs": [],
   "source": [
    "sim_long = pybamm.Simulation(spm, experiment=experiment, parameter_values=parameter_values, \n",
    "                            solver=pybamm.CasadiSolver(\"safe\"))\n",
    "sol_long = sim_long.solve(initial_soc=1)"
   ]
  },
  {
   "cell_type": "code",
   "execution_count": null,
   "metadata": {},
   "outputs": [],
   "source": [
    "long_sol_output =sol_long.summary_variables"
   ]
  },
  {
   "cell_type": "code",
   "execution_count": null,
   "metadata": {},
   "outputs": [],
   "source": [
    "fig = plot(long_sol_output,esoh_data);"
   ]
  },
  {
   "cell_type": "code",
   "execution_count": null,
   "metadata": {},
   "outputs": [],
   "source": [
    "fig = plot1(long_sol_output,esoh_data);"
   ]
  },
  {
   "cell_type": "code",
   "execution_count": null,
   "metadata": {},
   "outputs": [],
   "source": [
    "fig = plotc(long_sol_output,esoh_data);\n",
    "fig.savefig(fig_DIR +'normal_sim_'+cell_no+'_esoh.png')"
   ]
  },
  {
   "cell_type": "markdown",
   "metadata": {},
   "source": [
    "## Comparison Plots"
   ]
  },
  {
   "cell_type": "code",
   "execution_count": null,
   "metadata": {},
   "outputs": [],
   "source": [
    "def plot_comp_long(all_sumvars_dict,esoh_data,long_sol_output,n: int = 1):\n",
    "    esoh_vars = [\"x_0\", \"y_0\", \"x_100\", \"y_100\", \"C_n\", \"C_p\"]\n",
    "    # esoh_vars = [\"Capacity [A.h]\", \"Loss of lithium inventory [%]\",\n",
    "    #              \"Loss of active material in negative electrode [%]\",\n",
    "    #              \"Loss of active material in positive electrode [%]\"]\n",
    "    esoh_data['N']=esoh_data['N'].astype(int)\n",
    "    esoh_data1 = esoh_data\n",
    "    esoh_data1['N'] = esoh_data1['N']-1\n",
    "    esoh_data1['N'].iloc[0] =esoh_data1['N'].iloc[0]+1 \n",
    "    fig, axes = plt.subplots(3,2,figsize=(7,9))\n",
    "    for k, name in enumerate(esoh_vars):\n",
    "        ax = axes.flat[k]\n",
    "        ax.plot(all_sumvars_dict[\"Cycle number\"],all_sumvars_dict[name],\"ro\")\n",
    "        ax.plot(long_sol_output[\"Cycle number\"],long_sol_output[name],\"b.\")\n",
    "        ax.plot(esoh_data[\"N\"],esoh_data[name],\"kx\")\n",
    "#         ax.scatter(all_sumvars_dict[\"Cycle number\"],all_sumvars_dict[name],color=\"r\")\n",
    "    #     ax.plot(long_sol.summary_variables[name],\"b-\")\n",
    "        ax.set_title(split_long_string(name))\n",
    "        if k>3:\n",
    "            ax.set_xlabel(\"Cycle number\")\n",
    "    # fig.subplots_adjust(bottom=0.4)\n",
    "    fig.legend([\"Acc Sim\"] + [\"Long Sim\"] + [\"Reported\"], \n",
    "           loc=\"lower center\", ncol=1, fontsize=11)\n",
    "    fig.tight_layout()\n",
    "\n",
    "    return fig\n",
    "\n",
    "def plot1_comp_long(all_sumvars_dict,esoh_data,long_sol_output,n: int = 1):\n",
    "    esoh_vars = [\"Capacity [A.h]\",\"n_Li\"]\n",
    "    esoh_data[\"Capacity [A.h]\"]=esoh_data[\"Cap\"]\n",
    "    param = pybamm.LithiumIonParameters()\n",
    "    esoh_data[\"n_Li\"]= 3600/param.F.value*(esoh_data[\"y_100\"]*esoh_data[\"C_p\"]+esoh_data[\"x_100\"]*esoh_data[\"C_n\"])\n",
    "    esoh_data['N']=esoh_data['N'].astype(int)\n",
    "    esoh_data1 = esoh_data\n",
    "    esoh_data1 = esoh_data\n",
    "    esoh_data1['N'] = esoh_data1['N']-1\n",
    "    esoh_data1['N'].iloc[0] =esoh_data1['N'].iloc[0]+1 \n",
    "    fig, axes = plt.subplots(2,1,figsize=(7,9))\n",
    "    for k, name in enumerate(esoh_vars):\n",
    "        ax = axes.flat[k]\n",
    "        ax.plot(all_sumvars_dict[\"Cycle number\"][esoh_data1['N']//n],all_sumvars_dict[name][esoh_data1['N']//n],\"ro\")\n",
    "        ax.plot(long_sol_output[\"Cycle number\"][esoh_data1['N']],long_sol_output[name][esoh_data1['N']],\"b.\")\n",
    "        ax.plot(esoh_data[\"N\"],esoh_data[name],\"kx\")\n",
    "        ax.set_title(split_long_string(name))\n",
    "        ax.set_xlabel(\"Cycle number\")\n",
    "    ax.legend([\"Acc Sim\"] + [\"Long Sim\"] + [\"Reported\"], \n",
    "           loc=\"upper right\", ncol=1, fontsize=11)\n",
    "    fig.tight_layout()\n",
    "    return fig"
   ]
  },
  {
   "cell_type": "code",
   "execution_count": null,
   "metadata": {},
   "outputs": [],
   "source": [
    "fig = plot_comp_long(all_sumvars_dict,esoh_data,long_sol_output,1)"
   ]
  },
  {
   "cell_type": "code",
   "execution_count": null,
   "metadata": {},
   "outputs": [],
   "source": [
    "# spm.variables.search(\"Concentration\")"
   ]
  },
  {
   "cell_type": "code",
   "execution_count": null,
   "metadata": {},
   "outputs": [],
   "source": [
    "t = sol_long[\"Time [s]\"].entries\n",
    "I = sol_long[\"Current [A]\"].entries\n",
    "Q = -sol_long['Discharge capacity [A.h]'].entries\n",
    "Vt = sol_long[\"Terminal voltage [V]\"].entries\n",
    "exp = 30e6*sol_long[\"Cell thickness change [m]\"].entries\n",
    "exp_n = 30e6*sol_long[\"Negative Electrode thickness change [m]\"].entries\n",
    "exp_p = 30e6*sol_long[\"Positive Electrode thickness change [m]\"].entries\n",
    "ee_p = sol_long[\"X-averaged positive electrode porosity\"].entries\n",
    "ee_n = sol_long[\"X-averaged negative electrode porosity\"].entries\n",
    "ee_s = sol_long[\"X-averaged separator porosity\"].entries\n",
    "j_n = sol_long[\"X-averaged negative electrode total interfacial current density [A.m-2]\"].entries\n",
    "j_p = sol_long[\"X-averaged positive electrode total interfacial current density [A.m-2]\"].entries"
   ]
  },
  {
   "cell_type": "code",
   "execution_count": null,
   "metadata": {},
   "outputs": [],
   "source": [
    "plt.figure()\n",
    "plt.plot(-Q,Vt)\n",
    "plt.xlim(left=0)\n",
    "plt.xlabel('Q [Ah]')\n",
    "plt.ylabel('Voltage [V]')"
   ]
  },
  {
   "cell_type": "code",
   "execution_count": null,
   "metadata": {},
   "outputs": [],
   "source": [
    "plt.figure()\n",
    "plt.plot(t,Vt)\n",
    "# plt.xlim(left=0)\n",
    "plt.xlabel('Q [Ah]')\n",
    "plt.ylabel('Voltage [V]')"
   ]
  },
  {
   "cell_type": "code",
   "execution_count": null,
   "metadata": {},
   "outputs": [],
   "source": [
    "fig = plt.figure(figsize=[8,4])\n",
    "ax1 = plt.subplot(1,3,1)\n",
    "ax1.plot(-Q,exp_n)\n",
    "ax1.set_xlim(left=0)\n",
    "ax1.set_xlabel('Q [Ah]')\n",
    "ax1.set_ylabel('Exp [$\\mu$m]')\n",
    "ax1.set_title('NE')\n",
    "ax2 = plt.subplot(1,3,2)\n",
    "ax2.plot(-Q,exp)\n",
    "ax2.set_xlim(left=0)\n",
    "ax2.set_xlabel('Q [Ah]')\n",
    "ax2.set_title('Total')\n",
    "ax2.set_ylabel('Exp [$\\mu$m]')\n",
    "ax3 = plt.subplot(1,3,3)\n",
    "ax3.plot(-Q,exp_p)\n",
    "ax3.set_xlim(left=0)\n",
    "ax3.set_xlabel('Q [Ah]')\n",
    "ax3.set_ylabel('Exp [$\\mu$m]')\n",
    "ax3.set_title('PE')\n",
    "fig.tight_layout()"
   ]
  }
 ],
 "metadata": {
  "kernelspec": {
   "display_name": "Python 3.9.7 64-bit ('windows-dev': venv)",
   "language": "python",
   "name": "python3"
  },
  "language_info": {
   "codemirror_mode": {
    "name": "ipython",
    "version": 3
   },
   "file_extension": ".py",
   "mimetype": "text/x-python",
   "name": "python",
   "nbconvert_exporter": "python",
   "pygments_lexer": "ipython3",
   "version": "3.9.7"
  },
  "orig_nbformat": 4,
  "vscode": {
   "interpreter": {
    "hash": "f09d3dac03808011dce2708ac4743ff9bfbc3811517b446239dd0644e1df0f4f"
   }
  }
 },
 "nbformat": 4,
 "nbformat_minor": 2
}
