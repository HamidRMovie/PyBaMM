{
 "cells": [
  {
   "cell_type": "code",
   "execution_count": 1,
   "metadata": {},
   "outputs": [],
   "source": [
    "import pybamm\n",
    "import matplotlib.pyplot as plt\n",
    "import numpy as np\n",
    "import pandas as pd\n",
    "import math\n",
    "from scipy.integrate import solve_ivp\n",
    "from scipy.fft import fft, fftfreq, fftshift\n",
    "from scipy.signal import savgol_filter\n",
    "from scipy.signal import find_peaks\n",
    "from scipy import interpolate\n",
    "plt.rcParams['figure.dpi'] = 150\n",
    "plt.rcParams['savefig.dpi'] = 300\n",
    "plt.style.use('seaborn-white')\n",
    "\n",
    "eSOH_DIR = \"./data/esoh/\"\n",
    "oCV_DIR = \"./data/ocv/\"\n",
    "fig_DIR = \"./figures/\"\n"
   ]
  },
  {
   "cell_type": "code",
   "execution_count": 2,
   "metadata": {},
   "outputs": [],
   "source": [
    "def nmc_volume_change_mohtat(sto):\n",
    "    t_change = -1.10/100*(1-sto)\n",
    "    return t_change\n",
    "\n",
    "def graphite_volume_change_mohtat(sto):\n",
    "    stoichpoints = np.array([0,0.12,0.18,0.24,0.50,1])\n",
    "    thicknesspoints = np.array([0,2.406/100,3.3568/100,4.3668/100,5.583/100,13.0635/100])\n",
    "    x = [sto]\n",
    "    t_change = pybamm.Interpolant(stoichpoints, thicknesspoints, x, name=None, interpolator='linear', extrapolate=True, entries_string=None)\n",
    "    return t_change\n",
    "\n",
    "def get_parameter_values():\n",
    "    parameter_values = pybamm.ParameterValues(chemistry=pybamm.parameter_sets.Mohtat2020)\n",
    "    parameter_values.update(\n",
    "        {\n",
    "            # mechanical properties\n",
    "            \"Positive electrode Poisson's ratio\": 0.3,\n",
    "            \"Positive electrode Young's modulus [Pa]\": 375e9,\n",
    "            \"Positive electrode reference concentration for free of deformation [mol.m-3]\": 0,\n",
    "            \"Positive electrode partial molar volume [m3.mol-1]\": -7.28e-7,\n",
    "            \"Positive electrode volume change\": nmc_volume_change_mohtat,\n",
    "            # Loss of active materials (LAM) model\n",
    "            \"Positive electrode LAM constant exponential term\": 2,\n",
    "            \"Positive electrode critical stress [Pa]\": 375e6,\n",
    "            # mechanical properties\n",
    "            \"Negative electrode Poisson's ratio\": 0.2,\n",
    "            \"Negative electrode Young's modulus [Pa]\": 15e9,\n",
    "            \"Negative electrode reference concentration for free of deformation [mol.m-3]\": 0,\n",
    "            \"Negative electrode partial molar volume [m3.mol-1]\": 3.1e-6,\n",
    "            \"Negative electrode volume change\": graphite_volume_change_mohtat,\n",
    "            # Loss of active materials (LAM) model\n",
    "            \"Negative electrode LAM constant exponential term\": 2,\n",
    "            \"Negative electrode critical stress [Pa]\": 60e6,\n",
    "            # Other\n",
    "            \"Cell thermal expansion coefficient [m.K-1]\": 1.48E-6,\n",
    "            \"Lower voltage cut-off [V]\": 3.0\n",
    "        },\n",
    "        check_already_exists=False,\n",
    "    )\n",
    "    return parameter_values\n",
    "parameter_values = get_parameter_values()"
   ]
  },
  {
   "cell_type": "code",
   "execution_count": 3,
   "metadata": {},
   "outputs": [
    {
     "name": "stdout",
     "output_type": "stream",
     "text": [
      "Negative electrode porosity\t0.3\n",
      "Positive electrode porosity\t0.3\n",
      "Separator porosity\t0.4\n"
     ]
    }
   ],
   "source": [
    "parameter_values.search(\"porosity\")"
   ]
  },
  {
   "cell_type": "code",
   "execution_count": 4,
   "metadata": {},
   "outputs": [],
   "source": [
    "cell = 1"
   ]
  },
  {
   "cell_type": "code",
   "execution_count": 5,
   "metadata": {},
   "outputs": [
    {
     "name": "stdout",
     "output_type": "stream",
     "text": [
      "Cycle Numbers:\n",
      "0, 18, 57, 93, 134, 175, 216, 257, 298, 339\n"
     ]
    }
   ],
   "source": [
    "cell_no = f'{cell:02d}'\n",
    "dfe=pd.read_csv(eSOH_DIR+\"aging_param_cell_\"+cell_no+\".csv\")\n",
    "# Remove first RPT\n",
    "dfe = dfe.drop(dfe.index[0])\n",
    "dfe = dfe.reset_index(drop=True)\n",
    "dfe['N']=dfe['N']-dfe['N'][0]\n",
    "N =dfe.N.unique()\n",
    "dfo_0=pd.read_csv(oCV_DIR+\"ocv_data_cell_\"+cell_no+\".csv\")\n",
    "print(\"Cycle Numbers:\")\n",
    "print(*N, sep = \", \") "
   ]
  },
  {
   "cell_type": "code",
   "execution_count": 6,
   "metadata": {},
   "outputs": [],
   "source": [
    "dfo = dfo_0[dfo_0['N']==N[0]]\n",
    "# dfe_0 = dfe[dfe['N']==N[0]]\n",
    "C_n_init = dfe['C_n'][0]\n",
    "C_p_init = dfe['C_p'][0]\n",
    "y_0_init = dfe['y_0'][0] \n",
    "if cell_no=='01':\n",
    "    c_rate_c = 'C/5'\n",
    "    c_rate_d = 'C/5'\n",
    "    dis_set = \" until 3V\"\n",
    "    # eps_n_data = 0.6234\n",
    "    # eps_p_data = 0.4542\n",
    "elif cell_no=='13':\n",
    "    c_rate_c = 'C/5'\n",
    "    c_rate_d = 'C/5'\n",
    "    dis_set = \" for 150 min\""
   ]
  },
  {
   "cell_type": "code",
   "execution_count": 7,
   "metadata": {},
   "outputs": [
    {
     "ename": "DomainError",
     "evalue": "domain of children must be disjoint",
     "output_type": "error",
     "traceback": [
      "\u001b[1;31m---------------------------------------------------------------------------\u001b[0m",
      "\u001b[1;31mDomainError\u001b[0m                               Traceback (most recent call last)",
      "\u001b[1;32m~\\AppData\\Local\\Temp/ipykernel_15568/1849895332.py\u001b[0m in \u001b[0;36m<module>\u001b[1;34m\u001b[0m\n\u001b[0;32m      8\u001b[0m \u001b[1;31m#     cccv_handling=\"ode\",\u001b[0m\u001b[1;33m\u001b[0m\u001b[1;33m\u001b[0m\u001b[0m\n\u001b[0;32m      9\u001b[0m )\n\u001b[1;32m---> 10\u001b[1;33m spm = pybamm.lithium_ion.SPMe(\n\u001b[0m\u001b[0;32m     11\u001b[0m     {\n\u001b[0;32m     12\u001b[0m         \u001b[1;31m# \"SEI\": \"ec reaction limited\",\u001b[0m\u001b[1;33m\u001b[0m\u001b[1;33m\u001b[0m\u001b[0m\n",
      "\u001b[1;32mc:\\users\\pansr\\documents\\research\\pybamm\\pybamm\\models\\full_battery_models\\lithium_ion\\spme.py\u001b[0m in \u001b[0;36m__init__\u001b[1;34m(self, options, name, build)\u001b[0m\n\u001b[0;32m     61\u001b[0m \u001b[1;33m\u001b[0m\u001b[0m\n\u001b[0;32m     62\u001b[0m         \u001b[1;32mif\u001b[0m \u001b[0mbuild\u001b[0m\u001b[1;33m:\u001b[0m\u001b[1;33m\u001b[0m\u001b[1;33m\u001b[0m\u001b[0m\n\u001b[1;32m---> 63\u001b[1;33m             \u001b[0mself\u001b[0m\u001b[1;33m.\u001b[0m\u001b[0mbuild_model\u001b[0m\u001b[1;33m(\u001b[0m\u001b[1;33m)\u001b[0m\u001b[1;33m\u001b[0m\u001b[1;33m\u001b[0m\u001b[0m\n\u001b[0m\u001b[0;32m     64\u001b[0m \u001b[1;33m\u001b[0m\u001b[0m\n\u001b[0;32m     65\u001b[0m         \u001b[0mpybamm\u001b[0m\u001b[1;33m.\u001b[0m\u001b[0mcitations\u001b[0m\u001b[1;33m.\u001b[0m\u001b[0mregister\u001b[0m\u001b[1;33m(\u001b[0m\u001b[1;34m\"Marquis2019\"\u001b[0m\u001b[1;33m)\u001b[0m\u001b[1;33m\u001b[0m\u001b[1;33m\u001b[0m\u001b[0m\n",
      "\u001b[1;32mc:\\users\\pansr\\documents\\research\\pybamm\\pybamm\\models\\full_battery_models\\base_battery_model.py\u001b[0m in \u001b[0;36mbuild_model\u001b[1;34m(self)\u001b[0m\n\u001b[0;32m    745\u001b[0m             \u001b[0mself\u001b[0m\u001b[1;33m.\u001b[0m\u001b[0mbuild_fundamental_and_external\u001b[0m\u001b[1;33m(\u001b[0m\u001b[1;33m)\u001b[0m\u001b[1;33m\u001b[0m\u001b[1;33m\u001b[0m\u001b[0m\n\u001b[0;32m    746\u001b[0m \u001b[1;33m\u001b[0m\u001b[0m\n\u001b[1;32m--> 747\u001b[1;33m         \u001b[0mself\u001b[0m\u001b[1;33m.\u001b[0m\u001b[0mbuild_coupled_variables\u001b[0m\u001b[1;33m(\u001b[0m\u001b[1;33m)\u001b[0m\u001b[1;33m\u001b[0m\u001b[1;33m\u001b[0m\u001b[0m\n\u001b[0m\u001b[0;32m    748\u001b[0m \u001b[1;33m\u001b[0m\u001b[0m\n\u001b[0;32m    749\u001b[0m         \u001b[0mself\u001b[0m\u001b[1;33m.\u001b[0m\u001b[0mbuild_model_equations\u001b[0m\u001b[1;33m(\u001b[0m\u001b[1;33m)\u001b[0m\u001b[1;33m\u001b[0m\u001b[1;33m\u001b[0m\u001b[0m\n",
      "\u001b[1;32mc:\\users\\pansr\\documents\\research\\pybamm\\pybamm\\models\\full_battery_models\\base_battery_model.py\u001b[0m in \u001b[0;36mbuild_coupled_variables\u001b[1;34m(self)\u001b[0m\n\u001b[0;32m    672\u001b[0m                     \u001b[1;32mtry\u001b[0m\u001b[1;33m:\u001b[0m\u001b[1;33m\u001b[0m\u001b[1;33m\u001b[0m\u001b[0m\n\u001b[0;32m    673\u001b[0m                         self.variables.update(\n\u001b[1;32m--> 674\u001b[1;33m                             \u001b[0msubmodel\u001b[0m\u001b[1;33m.\u001b[0m\u001b[0mget_coupled_variables\u001b[0m\u001b[1;33m(\u001b[0m\u001b[0mself\u001b[0m\u001b[1;33m.\u001b[0m\u001b[0mvariables\u001b[0m\u001b[1;33m)\u001b[0m\u001b[1;33m\u001b[0m\u001b[1;33m\u001b[0m\u001b[0m\n\u001b[0m\u001b[0;32m    675\u001b[0m                         )\n\u001b[0;32m    676\u001b[0m                         \u001b[0msubmodels\u001b[0m\u001b[1;33m.\u001b[0m\u001b[0mremove\u001b[0m\u001b[1;33m(\u001b[0m\u001b[0msubmodel_name\u001b[0m\u001b[1;33m)\u001b[0m\u001b[1;33m\u001b[0m\u001b[1;33m\u001b[0m\u001b[0m\n",
      "\u001b[1;32mc:\\users\\pansr\\documents\\research\\pybamm\\pybamm\\models\\submodels\\porosity\\pressure_driven_porosity.py\u001b[0m in \u001b[0;36mget_coupled_variables\u001b[1;34m(self, variables)\u001b[0m\n\u001b[0;32m     69\u001b[0m         \u001b[1;31m# delta_eps_p = -3*(1-eps_p)/3.5e-06/35380.0*0.01\u001b[0m\u001b[1;33m\u001b[0m\u001b[1;33m\u001b[0m\u001b[0m\n\u001b[0;32m     70\u001b[0m         variables.update(\n\u001b[1;32m---> 71\u001b[1;33m             self._get_standard_porosity_change_variables(\n\u001b[0m\u001b[0;32m     72\u001b[0m                 \u001b[0mdeps_n_dt\u001b[0m\u001b[1;33m,\u001b[0m \u001b[0mdeps_s_dt\u001b[0m\u001b[1;33m,\u001b[0m \u001b[0mdeps_p_dt\u001b[0m\u001b[1;33m\u001b[0m\u001b[1;33m\u001b[0m\u001b[0m\n\u001b[0;32m     73\u001b[0m             )\n",
      "\u001b[1;32mc:\\users\\pansr\\documents\\research\\pybamm\\pybamm\\models\\submodels\\porosity\\base_porosity.py\u001b[0m in \u001b[0;36m_get_standard_porosity_change_variables\u001b[1;34m(self, deps_n_dt, deps_s_dt, deps_p_dt, set_leading_order)\u001b[0m\n\u001b[0;32m     70\u001b[0m             \u001b[0mdeps_s_dt_av\u001b[0m \u001b[1;33m=\u001b[0m \u001b[0mpybamm\u001b[0m\u001b[1;33m.\u001b[0m\u001b[0mx_average\u001b[0m\u001b[1;33m(\u001b[0m\u001b[0mdeps_s_dt\u001b[0m\u001b[1;33m)\u001b[0m\u001b[1;33m\u001b[0m\u001b[1;33m\u001b[0m\u001b[0m\n\u001b[0;32m     71\u001b[0m             \u001b[0mdeps_p_dt_av\u001b[0m \u001b[1;33m=\u001b[0m \u001b[0mpybamm\u001b[0m\u001b[1;33m.\u001b[0m\u001b[0mx_average\u001b[0m\u001b[1;33m(\u001b[0m\u001b[0mdeps_p_dt\u001b[0m\u001b[1;33m)\u001b[0m\u001b[1;33m\u001b[0m\u001b[1;33m\u001b[0m\u001b[0m\n\u001b[1;32m---> 72\u001b[1;33m         \u001b[0mdeps_dt\u001b[0m \u001b[1;33m=\u001b[0m \u001b[0mpybamm\u001b[0m\u001b[1;33m.\u001b[0m\u001b[0mconcatenation\u001b[0m\u001b[1;33m(\u001b[0m\u001b[0mdeps_n_dt\u001b[0m\u001b[1;33m,\u001b[0m \u001b[0mdeps_s_dt\u001b[0m\u001b[1;33m,\u001b[0m \u001b[0mdeps_p_dt\u001b[0m\u001b[1;33m)\u001b[0m\u001b[1;33m\u001b[0m\u001b[1;33m\u001b[0m\u001b[0m\n\u001b[0m\u001b[0;32m     73\u001b[0m \u001b[1;33m\u001b[0m\u001b[0m\n\u001b[0;32m     74\u001b[0m         variables = {\n",
      "\u001b[1;32mc:\\users\\pansr\\documents\\research\\pybamm\\pybamm\\expression_tree\\concatenations.py\u001b[0m in \u001b[0;36mconcatenation\u001b[1;34m(*children)\u001b[0m\n\u001b[0;32m    451\u001b[0m     \u001b[1;34m\"\"\"Helper function to create concatenations.\"\"\"\u001b[0m\u001b[1;33m\u001b[0m\u001b[1;33m\u001b[0m\u001b[0m\n\u001b[0;32m    452\u001b[0m     \u001b[1;31m# TODO: add option to turn off simplifications\u001b[0m\u001b[1;33m\u001b[0m\u001b[1;33m\u001b[0m\u001b[0m\n\u001b[1;32m--> 453\u001b[1;33m     \u001b[1;32mreturn\u001b[0m \u001b[0msimplified_concatenation\u001b[0m\u001b[1;33m(\u001b[0m\u001b[1;33m*\u001b[0m\u001b[0mchildren\u001b[0m\u001b[1;33m)\u001b[0m\u001b[1;33m\u001b[0m\u001b[1;33m\u001b[0m\u001b[0m\n\u001b[0m\u001b[0;32m    454\u001b[0m \u001b[1;33m\u001b[0m\u001b[0m\n\u001b[0;32m    455\u001b[0m \u001b[1;33m\u001b[0m\u001b[0m\n",
      "\u001b[1;32mc:\\users\\pansr\\documents\\research\\pybamm\\pybamm\\expression_tree\\concatenations.py\u001b[0m in \u001b[0;36msimplified_concatenation\u001b[1;34m(*children)\u001b[0m\n\u001b[0;32m    431\u001b[0m     \u001b[1;32melse\u001b[0m\u001b[1;33m:\u001b[0m\u001b[1;33m\u001b[0m\u001b[1;33m\u001b[0m\u001b[0m\n\u001b[0;32m    432\u001b[0m         \u001b[1;31m# Create Concatenation to easily read domains\u001b[0m\u001b[1;33m\u001b[0m\u001b[1;33m\u001b[0m\u001b[0m\n\u001b[1;32m--> 433\u001b[1;33m         \u001b[0mconcat\u001b[0m \u001b[1;33m=\u001b[0m \u001b[0mConcatenation\u001b[0m\u001b[1;33m(\u001b[0m\u001b[1;33m*\u001b[0m\u001b[0mchildren\u001b[0m\u001b[1;33m)\u001b[0m\u001b[1;33m\u001b[0m\u001b[1;33m\u001b[0m\u001b[0m\n\u001b[0m\u001b[0;32m    434\u001b[0m         if all(\n\u001b[0;32m    435\u001b[0m             \u001b[0misinstance\u001b[0m\u001b[1;33m(\u001b[0m\u001b[0mchild\u001b[0m\u001b[1;33m,\u001b[0m \u001b[0mpybamm\u001b[0m\u001b[1;33m.\u001b[0m\u001b[0mBroadcast\u001b[0m\u001b[1;33m)\u001b[0m\u001b[1;33m\u001b[0m\u001b[1;33m\u001b[0m\u001b[0m\n",
      "\u001b[1;32mc:\\users\\pansr\\documents\\research\\pybamm\\pybamm\\expression_tree\\concatenations.py\u001b[0m in \u001b[0;36m__init__\u001b[1;34m(self, name, check_domain, concat_fun, *children)\u001b[0m\n\u001b[0;32m     39\u001b[0m             \u001b[0mname\u001b[0m \u001b[1;33m=\u001b[0m \u001b[1;34m\"concatenation\"\u001b[0m\u001b[1;33m\u001b[0m\u001b[1;33m\u001b[0m\u001b[0m\n\u001b[0;32m     40\u001b[0m         \u001b[1;32mif\u001b[0m \u001b[0mcheck_domain\u001b[0m\u001b[1;33m:\u001b[0m\u001b[1;33m\u001b[0m\u001b[1;33m\u001b[0m\u001b[0m\n\u001b[1;32m---> 41\u001b[1;33m             \u001b[0mdomain\u001b[0m \u001b[1;33m=\u001b[0m \u001b[0mself\u001b[0m\u001b[1;33m.\u001b[0m\u001b[0mget_children_domains\u001b[0m\u001b[1;33m(\u001b[0m\u001b[0mchildren\u001b[0m\u001b[1;33m)\u001b[0m\u001b[1;33m\u001b[0m\u001b[1;33m\u001b[0m\u001b[0m\n\u001b[0m\u001b[0;32m     42\u001b[0m             \u001b[0mauxiliary_domains\u001b[0m \u001b[1;33m=\u001b[0m \u001b[0mself\u001b[0m\u001b[1;33m.\u001b[0m\u001b[0mget_children_auxiliary_domains\u001b[0m\u001b[1;33m(\u001b[0m\u001b[0mchildren\u001b[0m\u001b[1;33m)\u001b[0m\u001b[1;33m\u001b[0m\u001b[1;33m\u001b[0m\u001b[0m\n\u001b[0;32m     43\u001b[0m         \u001b[1;32melse\u001b[0m\u001b[1;33m:\u001b[0m\u001b[1;33m\u001b[0m\u001b[1;33m\u001b[0m\u001b[0m\n",
      "\u001b[1;32mc:\\users\\pansr\\documents\\research\\pybamm\\pybamm\\expression_tree\\concatenations.py\u001b[0m in \u001b[0;36mget_children_domains\u001b[1;34m(self, children)\u001b[0m\n\u001b[0;32m     81\u001b[0m                 \u001b[0mdomain\u001b[0m \u001b[1;33m+=\u001b[0m \u001b[0mchild_domain\u001b[0m\u001b[1;33m\u001b[0m\u001b[1;33m\u001b[0m\u001b[0m\n\u001b[0;32m     82\u001b[0m             \u001b[1;32melse\u001b[0m\u001b[1;33m:\u001b[0m\u001b[1;33m\u001b[0m\u001b[1;33m\u001b[0m\u001b[0m\n\u001b[1;32m---> 83\u001b[1;33m                 \u001b[1;32mraise\u001b[0m \u001b[0mpybamm\u001b[0m\u001b[1;33m.\u001b[0m\u001b[0mDomainError\u001b[0m\u001b[1;33m(\u001b[0m\u001b[1;34m\"domain of children must be disjoint\"\u001b[0m\u001b[1;33m)\u001b[0m\u001b[1;33m\u001b[0m\u001b[1;33m\u001b[0m\u001b[0m\n\u001b[0m\u001b[0;32m     84\u001b[0m         \u001b[1;32mreturn\u001b[0m \u001b[0mdomain\u001b[0m\u001b[1;33m\u001b[0m\u001b[1;33m\u001b[0m\u001b[0m\n\u001b[0;32m     85\u001b[0m \u001b[1;33m\u001b[0m\u001b[0m\n",
      "\u001b[1;31mDomainError\u001b[0m: domain of children must be disjoint"
     ]
    }
   ],
   "source": [
    "pybamm.set_logging_level(\"WARNING\")\n",
    "# pybamm.set_logging_level(\"NOTICE\")\n",
    "experiment = pybamm.Experiment(\n",
    "    [\n",
    "        (\"Charge at \"+c_rate_c+\" until 4.2V\", )\n",
    "    ],\n",
    "    termination=\"50% capacity\",\n",
    "#     cccv_handling=\"ode\",\n",
    ")\n",
    "spm = pybamm.lithium_ion.SPMe(\n",
    "    {\n",
    "        # \"SEI\": \"ec reaction limited\",\n",
    "        # \"SEI porosity change\": \"true\",\n",
    "        # \"loss of active material\": (\"stress-driven\",\"none\"),\n",
    "        # \"loss of active material\": \"stress-driven\",\n",
    "        \"particle mechanics\": \"swelling only\",\n",
    "        \"stress-induced diffusion\": \"true\",\n",
    "        \"pressure driven porosity\": \"true\",\n",
    "        # \"lithium plating\": \"reversible\",\n",
    "    }\n",
    ")\n",
    "# spm.print_parameter_info()"
   ]
  },
  {
   "cell_type": "code",
   "execution_count": null,
   "metadata": {},
   "outputs": [],
   "source": [
    "param = spm.param\n",
    "eps_n_data = parameter_values.evaluate(C_n_init*3600/(param.L_n * param.c_n_max * param.F* param.A_cc))\n",
    "eps_p_data = parameter_values.evaluate(C_p_init*3600/(param.L_p * param.c_p_max * param.F* param.A_cc))\n",
    "cs_p_init = parameter_values.evaluate(y_0_init* param.c_p_max)"
   ]
  },
  {
   "cell_type": "code",
   "execution_count": null,
   "metadata": {},
   "outputs": [],
   "source": [
    "parameter_values = get_parameter_values()\n",
    "sim_des = '_lowc'\n",
    "parameter_values.update(\n",
    "    {\n",
    "        \"SEI kinetic rate constant [m.s-1]\": 1.6827e-16,\n",
    "        \"Positive electrode LAM constant proportional term [s-1]\": 8.3569e-6,\n",
    "        \"Negative electrode LAM constant proportional term [s-1]\": 5.8032e-5,\n",
    "        \"EC diffusivity [m2.s-1]\": 2e-18,\n",
    "        \"Positive electrode LAM constant exponential term\": 2,\n",
    "        \"Negative electrode LAM constant exponential term\": 2,\n",
    "        \"Negative electrode active material volume fraction\": eps_n_data,\n",
    "        \"Positive electrode active material volume fraction\": eps_p_data,\n",
    "    },\n",
    "    check_already_exists=False,\n",
    ")"
   ]
  },
  {
   "cell_type": "code",
   "execution_count": null,
   "metadata": {},
   "outputs": [],
   "source": [
    "sim_exp = pybamm.Simulation(spm, experiment=experiment, parameter_values=parameter_values, \n",
    "                            solver=pybamm.CasadiSolver(\"safe\"))\n",
    "sol_exp = sim_exp.solve(initial_soc=0)"
   ]
  },
  {
   "cell_type": "code",
   "execution_count": null,
   "metadata": {},
   "outputs": [],
   "source": [
    "# spm.variable_names()"
   ]
  },
  {
   "cell_type": "code",
   "execution_count": null,
   "metadata": {},
   "outputs": [],
   "source": [
    "t = sol_exp[\"Time [min]\"].entries\n",
    "I = sol_exp[\"Current [A]\"].entries\n",
    "Q = -sol_exp['Discharge capacity [A.h]'].entries\n",
    "Vt = sol_exp[\"Terminal voltage [V]\"].entries\n",
    "exp = 30e6*sol_exp[\"Cell thickness change [m]\"].entries\n",
    "exp_n = 30e6*sol_exp[\"Negative Electrode thickness change [m]\"].entries\n",
    "exp_p = 30e6*sol_exp[\"Positive Electrode thickness change [m]\"].entries\n",
    "ee_p = sol_exp[\"X-averaged positive electrode porosity\"].entries\n",
    "ee_n = sol_exp[\"X-averaged negative electrode porosity\"].entries\n",
    "ee_s = sol_exp[\"X-averaged separator porosity\"].entries"
   ]
  },
  {
   "cell_type": "code",
   "execution_count": null,
   "metadata": {},
   "outputs": [],
   "source": [
    "fig = plt.figure(figsize=[8,4])\n",
    "ax1 = plt.subplot(1,3,1)\n",
    "ax1.plot(Q,ee_n)\n",
    "ax1.set_xlim(left=0)\n",
    "ax1.set_xlabel('Q [Ah]')\n",
    "ax1.set_ylabel('Porosity')\n",
    "ax1.set_title('NE')\n",
    "ax2 = plt.subplot(1,3,2)\n",
    "ax2.plot(Q,ee_s)\n",
    "ax2.set_xlim(left=0)\n",
    "ax2.set_xlabel('Q [Ah]')\n",
    "ax2.set_ylabel('Porosity')\n",
    "ax2.set_title('Sep')\n",
    "ax3 = plt.subplot(1,3,3)\n",
    "ax3.plot(Q,ee_p)\n",
    "ax3.set_xlim(left=0)\n",
    "ax3.set_xlabel('Q [Ah]')\n",
    "ax3.set_ylabel('Porosity')\n",
    "ax3.set_title('PE')\n",
    "fig.tight_layout()"
   ]
  },
  {
   "cell_type": "code",
   "execution_count": null,
   "metadata": {},
   "outputs": [],
   "source": [
    "# fig = plt.figure(figsize=[8,4])\n",
    "# ax1 = plt.subplot(1,3,1)\n",
    "# ax1.plot(Q,exp_n)\n",
    "# ax1.set_xlim(left=0)\n",
    "# ax1.set_xlabel('Q [Ah]')\n",
    "# ax1.set_ylabel('Exp [$\\mu$m]')\n",
    "# ax1.set_title('NE')\n",
    "# ax2 = plt.subplot(1,3,2)\n",
    "# ax2.plot(Q,exp)\n",
    "# ax2.set_xlim(left=0)\n",
    "# ax2.set_xlabel('Q [Ah]')\n",
    "# ax2.set_title('Total')\n",
    "# ax2.set_ylabel('Exp [$\\mu$m]')\n",
    "# ax3 = plt.subplot(1,3,3)\n",
    "# ax3.plot(Q,exp_p)\n",
    "# ax3.set_xlim(left=0)\n",
    "# ax3.set_xlabel('Q [Ah]')\n",
    "# ax3.set_ylabel('Exp [$\\mu$m]')\n",
    "# ax3.set_title('PE')\n",
    "# fig.tight_layout()"
   ]
  }
 ],
 "metadata": {
  "interpreter": {
   "hash": "f1cc0ac5b658846361d8f7b7da146bba75d1ca192fe1fb650379954ff613a449"
  },
  "kernelspec": {
   "display_name": "Python 3.9.7 ('windows-dev': venv)",
   "language": "python",
   "name": "python3"
  },
  "language_info": {
   "codemirror_mode": {
    "name": "ipython",
    "version": 3
   },
   "file_extension": ".py",
   "mimetype": "text/x-python",
   "name": "python",
   "nbconvert_exporter": "python",
   "pygments_lexer": "ipython3",
   "version": "3.9.7"
  },
  "orig_nbformat": 4
 },
 "nbformat": 4,
 "nbformat_minor": 2
}
