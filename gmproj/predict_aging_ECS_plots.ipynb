{
 "cells": [
  {
   "cell_type": "markdown",
   "metadata": {},
   "source": [
    "# Plots for ECS 2022 Submission"
   ]
  },
  {
   "cell_type": "code",
   "execution_count": 1,
   "metadata": {},
   "outputs": [],
   "source": [
    "import pybamm\n",
    "import matplotlib.pyplot as plt\n",
    "import numpy as np\n",
    "import pandas as pd\n",
    "import math\n",
    "import dfols\n",
    "import signal\n",
    "from scipy.integrate import solve_ivp\n",
    "from scipy.fft import fft, fftfreq, fftshift\n",
    "from scipy.signal import savgol_filter\n",
    "from scipy.signal import find_peaks\n",
    "from scipy import interpolate\n",
    "from stopit import threading_timeoutable as timeoutable\n",
    "\n",
    "\n",
    "eSOH_DIR = \"./data/esoh/\"\n",
    "oCV_DIR = \"./data/ocv/\"\n",
    "fig_DIR = \"./figures/\"\n",
    "res_DIR = \"./data/results/\"\n",
    "# %matplotlib widget"
   ]
  },
  {
   "cell_type": "code",
   "execution_count": 2,
   "metadata": {},
   "outputs": [],
   "source": [
    "plt.rcParams[\"lines.markersize\"] = 5\n",
    "plt.rcParams[\"lines.linewidth\"] = 2\n",
    "plt.rcParams[\"xtick.minor.visible\"] = True\n",
    "plt.rcParams[\"ytick.minor.visible\"] = True\n",
    "plt.rcParams[\"font.size\"] = 12\n",
    "plt.rcParams[\"legend.fontsize\"] = 10\n",
    "plt.rcParams[\"legend.frameon\"] = False\n",
    "plt.rcParams[\"font.family\"] = 'serif'\n",
    "plt.rcParams['font.serif'] = 'Times New Roman'\n",
    "plt.rcParams['mathtext.rm'] = 'serif'\n",
    "plt.rcParams['mathtext.it'] = 'serif:italic'\n",
    "plt.rcParams['mathtext.bf'] = 'serif:bold'\n",
    "plt.rcParams['mathtext.fontset'] = 'custom'\n",
    "plt.rcParams[\"savefig.bbox\"] = \"tight\"\n",
    "plt.rcParams[\"axes.grid\"] = True\n",
    "plt.rcParams[\"axes.axisbelow\"] = True\n",
    "plt.rcParams[\"grid.linestyle\"] = \"--\"\n",
    "plt.rcParams[\"grid.color\"] = (0.8, 0.8, 0.8)\n",
    "plt.rcParams[\"grid.alpha\"] = 0.5\n",
    "plt.rcParams[\"grid.linewidth\"] = 0.5\n",
    "plt.rcParams['figure.dpi'] = 150\n",
    "plt.rcParams['savefig.dpi'] = 600\n",
    "plt.rcParams['figure.max_open_warning']=False"
   ]
  },
  {
   "cell_type": "code",
   "execution_count": 3,
   "metadata": {},
   "outputs": [],
   "source": [
    "def nmc_volume_change_mohtat(sto):\n",
    "    t_change = -1.10/100*(1-sto)\n",
    "    return t_change\n",
    "\n",
    "def graphite_volume_change_mohtat(sto):\n",
    "    stoichpoints = np.array([0,0.12,0.18,0.24,0.50,1])\n",
    "    thicknesspoints = np.array([0,2.406/100,3.3568/100,4.3668/100,5.583/100,13.0635/100])\n",
    "    x = [sto]\n",
    "    t_change = pybamm.Interpolant(stoichpoints, thicknesspoints, x, name=None, interpolator='linear', extrapolate=True, entries_string=None)\n",
    "    return t_change\n",
    "\n",
    "def get_parameter_values():\n",
    "    parameter_values = pybamm.ParameterValues(chemistry=pybamm.parameter_sets.Mohtat2020)\n",
    "    parameter_values.update(\n",
    "        {\n",
    "            # mechanical properties\n",
    "            \"Positive electrode Poisson's ratio\": 0.3,\n",
    "            \"Positive electrode Young's modulus [Pa]\": 375e9,\n",
    "            \"Positive electrode reference concentration for free of deformation [mol.m-3]\": 0,\n",
    "            \"Positive electrode partial molar volume [m3.mol-1]\": -7.28e-7,\n",
    "            \"Positive electrode volume change\": nmc_volume_change_mohtat,\n",
    "            # Loss of active materials (LAM) model\n",
    "            \"Positive electrode LAM constant exponential term\": 2,\n",
    "            \"Positive electrode critical stress [Pa]\": 375e6,\n",
    "            # mechanical properties\n",
    "            \"Negative electrode Poisson's ratio\": 0.2,\n",
    "            \"Negative electrode Young's modulus [Pa]\": 15e9,\n",
    "            \"Negative electrode reference concentration for free of deformation [mol.m-3]\": 0,\n",
    "            \"Negative electrode partial molar volume [m3.mol-1]\": 3.1e-6,\n",
    "            \"Negative electrode volume change\": graphite_volume_change_mohtat,\n",
    "            # Loss of active materials (LAM) model\n",
    "            \"Negative electrode LAM constant exponential term\": 2,\n",
    "            \"Negative electrode critical stress [Pa]\": 60e6,\n",
    "            # Other\n",
    "            \"Cell thermal expansion coefficient [m.K-1]\": 1.48E-6,\n",
    "            \"Lower voltage cut-off [V]\": 3.0\n",
    "        },\n",
    "        check_already_exists=False,\n",
    "    )\n",
    "    return parameter_values\n",
    "parameter_values = get_parameter_values()"
   ]
  },
  {
   "cell_type": "code",
   "execution_count": 4,
   "metadata": {},
   "outputs": [
    {
     "name": "stdout",
     "output_type": "stream",
     "text": [
      "Cell cooling surface area [m2]\t0.41\n",
      "Initial plated lithium concentration [mol.m-3]\t0.0\n",
      "Inner SEI lithium interstitial diffusivity [m2.s-1]\t1e-20\n",
      "Lithium interstitial reference concentration [mol.m-3]\t15.0\n",
      "Lithium metal partial molar volume [m3.mol-1]\t1.3e-05\n",
      "Typical lithium ion diffusivity [m2.s-1]\t5.34e-10\n",
      "Typical plated lithium concentration [mol.m-3]\t1000.0\n"
     ]
    }
   ],
   "source": [
    "parameter_values.search(\"Li\")"
   ]
  },
  {
   "cell_type": "code",
   "execution_count": 5,
   "metadata": {},
   "outputs": [],
   "source": [
    "def split_long_string(title, max_words=None):\n",
    "    \"\"\"Get title in a nice format\"\"\"\n",
    "    max_words = max_words or pybamm.settings.max_words_in_line\n",
    "    words = title.split()\n",
    "    # Don't split if fits on one line, don't split just for units\n",
    "    if len(words) <= max_words or words[max_words].startswith(\"[\"):\n",
    "        return title\n",
    "    else:\n",
    "        first_line = (\" \").join(words[:max_words])\n",
    "        second_line = (\" \").join(words[max_words:])\n",
    "        return first_line + \"\\n\" + second_line"
   ]
  },
  {
   "cell_type": "code",
   "execution_count": 6,
   "metadata": {},
   "outputs": [],
   "source": [
    "def cycle_adaptive_simulation(model, parameter_values, experiment,SOC_0=1, save_at_cycles=None):\n",
    "    experiment_one_cycle = pybamm.Experiment(\n",
    "        experiment.operating_conditions_cycles[:1],\n",
    "        termination=experiment.termination_string,\n",
    "        cccv_handling=experiment.cccv_handling,\n",
    "    )\n",
    "    Vmin = 3.0\n",
    "    Vmax = 4.2\n",
    "    esoh_model = pybamm.lithium_ion.ElectrodeSOH()\n",
    "    esoh_sim = pybamm.Simulation(esoh_model, parameter_values=parameter_values)\n",
    "    param = model.param\n",
    "    Cn = parameter_values.evaluate(param.C_n_init)\n",
    "    Cp = parameter_values.evaluate(param.C_p_init)\n",
    "    eps_n = parameter_values[\"Negative electrode active material volume fraction\"]\n",
    "    eps_p = parameter_values[\"Positive electrode active material volume fraction\"]\n",
    "    C_over_eps_n = Cn / eps_n\n",
    "    C_over_eps_p = Cp / eps_p\n",
    "    c_n_max = parameter_values.evaluate(param.c_n_max)\n",
    "    c_p_max = parameter_values.evaluate(param.c_p_max)\n",
    "    n_Li_init = parameter_values.evaluate(param.n_Li_particles_init)\n",
    "    \n",
    "    esoh_sol = esoh_sim.solve(\n",
    "        [0],\n",
    "        inputs={\"V_min\": Vmin, \"V_max\": Vmax, \"C_n\": Cn, \"C_p\": Cp, \"n_Li\": n_Li_init},\n",
    "        solver=pybamm.AlgebraicSolver(),\n",
    "    )\n",
    "\n",
    "    parameter_values.update(\n",
    "        {\n",
    "            \"Initial concentration in negative electrode [mol.m-3]\": esoh_sol[\n",
    "                \"x_100\"\n",
    "            ].data[0]\n",
    "            * c_n_max,\n",
    "            \"Initial concentration in positive electrode [mol.m-3]\": esoh_sol[\n",
    "                \"y_100\"\n",
    "            ].data[0]\n",
    "            * c_p_max,\n",
    "            \n",
    "        }\n",
    "    )\n",
    "\n",
    "    sim_ode = pybamm.Simulation(\n",
    "        model, experiment=experiment_one_cycle, parameter_values=parameter_values,\n",
    "        solver=pybamm.CasadiSolver(\"safe\")\n",
    "    )\n",
    "    sol0 = sim_ode.solve(initial_soc=SOC_0)\n",
    "    model = sim_ode.solution.all_models[0]\n",
    "    cap0 = sol0.summary_variables[\"Capacity [A.h]\"]\n",
    "\n",
    "    def sol_to_y(sol, loc=\"end\"):\n",
    "        if loc == \"start\":\n",
    "            pos = 0\n",
    "        elif loc == \"end\":\n",
    "            pos = -1\n",
    "        model = sol.all_models[0]\n",
    "        n_Li = sol[\"Total lithium in particles [mol]\"].data[pos].flatten()\n",
    "        Cn = sol[\"Negative electrode capacity [A.h]\"].data[pos].flatten()\n",
    "        Cp = sol[\"Positive electrode capacity [A.h]\"].data[pos].flatten()\n",
    "        # y = np.concatenate([n_Li, Cn, Cp])\n",
    "        y = n_Li\n",
    "        for var in model.initial_conditions:\n",
    "            if var.name not in [\n",
    "                \"X-averaged negative particle concentration\",\n",
    "                \"X-averaged positive particle concentration\",\n",
    "                \"Discharge capacity [A.h]\",\n",
    "            ]:\n",
    "                value = sol[var.name].data\n",
    "                if value.ndim == 1:\n",
    "                    value = value[pos]\n",
    "                elif value.ndim == 2:\n",
    "                    value = value[:, pos]\n",
    "                elif value.ndim == 3:\n",
    "                    value = value[:, :, pos]\n",
    "                y = np.concatenate([y, value.flatten()])\n",
    "        return y\n",
    "\n",
    "    def y_to_sol(y, esoh_sim, model):\n",
    "        n_Li = y[0]\n",
    "        Cn = C_over_eps_n * y[1]\n",
    "        Cp = C_over_eps_p * y[2]\n",
    "\n",
    "        esoh_sol = esoh_sim.solve(\n",
    "            [0],\n",
    "            inputs={\"V_min\": Vmin, \"V_max\": Vmax, \"C_n\": Cn, \"C_p\": Cp, \"n_Li\": n_Li},\n",
    "        )\n",
    "        esoh_sim.built_model.set_initial_conditions_from(esoh_sol)\n",
    "        ics = {}\n",
    "        x_100 = esoh_sol[\"x_100\"].data[0]\n",
    "        y_100 = esoh_sol[\"y_100\"].data[0]\n",
    "        x_0 = esoh_sol[\"x_0\"].data[0]\n",
    "        y_0 = esoh_sol[\"y_0\"].data[0]\n",
    "        start = 1\n",
    "        for var in model.initial_conditions:\n",
    "            if var.name == \"X-averaged negative particle concentration\":\n",
    "                ics[var.name] = ((x_100-x_0)*SOC_0+x_0) * np.ones((model.variables[var.name].size, 2))\n",
    "            elif var.name == \"X-averaged positive particle concentration\":\n",
    "                ics[var.name] = y_100 * np.ones((model.variables[var.name].size, 2))\n",
    "            elif var.name == \"Discharge capacity [A.h]\":\n",
    "                ics[var.name] = np.zeros(1)\n",
    "            else:\n",
    "                end = start + model.variables[var.name].size\n",
    "                ics[var.name] = y[start:end, np.newaxis]\n",
    "                start = end\n",
    "        model.set_initial_conditions_from(ics)\n",
    "        return pybamm.Solution(\n",
    "            [np.array([0])],\n",
    "            model.concatenated_initial_conditions.evaluate()[:, np.newaxis],\n",
    "            model,\n",
    "            {},\n",
    "        )\n",
    "\n",
    "    def dydt(t, y):\n",
    "        if y[0] < 0 or y[1] < 0 or y[2] < 0:\n",
    "            return 0 * y\n",
    "\n",
    "        # print(t)\n",
    "        # Set up based on current value of y\n",
    "        y_to_sol(\n",
    "            y,\n",
    "            esoh_sim,\n",
    "            sim_ode.op_conds_to_built_models[\n",
    "                experiment_one_cycle.operating_conditions[0][\"electric\"]\n",
    "            ],\n",
    "        )\n",
    "\n",
    "        # Simulate one cycle\n",
    "        sol = sim_ode.solve()\n",
    "\n",
    "        dy = sol_to_y(sol) - y\n",
    "\n",
    "        return dy\n",
    "\n",
    "    if experiment.termination == {}:\n",
    "        event = None\n",
    "    else:\n",
    "\n",
    "        def capacity_cutoff(t, y):\n",
    "            sol = y_to_sol(y, esoh_sim, model)\n",
    "            cap = pybamm.make_cycle_solution([sol], esoh_sim, True)[1][\"Capacity [A.h]\"]\n",
    "            return cap / cap0 - experiment_one_cycle.termination[\"capacity\"][0] / 100\n",
    "\n",
    "        capacity_cutoff.terminal = True\n",
    "\n",
    "    num_cycles = len(experiment.operating_conditions_cycles)\n",
    "    if save_at_cycles is None:\n",
    "        t_eval = np.arange(1, num_cycles + 1)\n",
    "    elif save_at_cycles == -1:\n",
    "        t_eval = None\n",
    "    else:\n",
    "        t_eval = np.arange(1, num_cycles + 1, save_at_cycles)\n",
    "    y0 = sol_to_y(sol0, loc=\"start\")\n",
    "    timer = pybamm.Timer()\n",
    "    sol = solve_ivp(\n",
    "        dydt,\n",
    "        [1, num_cycles],\n",
    "        y0,\n",
    "        t_eval=t_eval,\n",
    "        events=capacity_cutoff,\n",
    "        first_step=10,\n",
    "        method=\"RK23\",\n",
    "        atol=1e-2,\n",
    "        rtol=1e-2,\n",
    "    )\n",
    "    time = timer.time()\n",
    "\n",
    "    all_sumvars = []\n",
    "    for idx in range(sol.y.shape[1]):\n",
    "        fullsol = y_to_sol(sol.y[:, idx], esoh_sim, model)\n",
    "        sumvars = pybamm.make_cycle_solution([fullsol], esoh_sim, True)[1]\n",
    "        all_sumvars.append(sumvars)\n",
    "\n",
    "    all_sumvars_dict = {\n",
    "        key: np.array([sumvars[key] for sumvars in all_sumvars])\n",
    "        for key in all_sumvars[0].keys()\n",
    "    }\n",
    "    all_sumvars_dict[\"Cycle number\"] = sol.t\n",
    "    \n",
    "    all_sumvars_dict[\"cycles evaluated\"] = sol.nfev\n",
    "    all_sumvars_dict[\"solution time\"] = time\n",
    "    \n",
    "    return all_sumvars_dict"
   ]
  },
  {
   "cell_type": "code",
   "execution_count": 7,
   "metadata": {},
   "outputs": [],
   "source": [
    "def plot(all_sumvars_dict,esoh_data):\n",
    "    esoh_vars = [\"x_0\", \"y_0\", \"x_100\", \"y_100\", \"C_n\", \"C_p\"]\n",
    "    # esoh_vars = [\"Capacity [A.h]\", \"Loss of lithium inventory [%]\",\n",
    "    #              \"Loss of active material in negative electrode [%]\",\n",
    "    #              \"Loss of active material in positive electrode [%]\"]\n",
    "    fig, axes = plt.subplots(3,2,figsize=(7,7))\n",
    "    for k, name in enumerate(esoh_vars):\n",
    "        ax = axes.flat[k]\n",
    "        ax.plot(all_sumvars_dict[\"Cycle number\"],all_sumvars_dict[name],\"ro\")\n",
    "        ax.plot(esoh_data[\"N\"],esoh_data[name],\"kx\")\n",
    "#         ax.scatter(all_sumvars_dict[\"Cycle number\"],all_sumvars_dict[name],color=\"r\")\n",
    "    #     ax.plot(long_sol.summary_variables[name],\"b-\")\n",
    "        ax.set_title(split_long_string(name))\n",
    "        if k>3:\n",
    "            ax.set_xlabel(\"Cycle number\")\n",
    "    # fig.subplots_adjust(bottom=0.4)\n",
    "    fig.legend([\"Acc Sim\"] + [\"Reported\"], \n",
    "           loc=\"lower center\", ncol=1, fontsize=11)\n",
    "    fig.tight_layout()\n",
    "    return fig\n",
    "\n",
    "def plot1(all_sumvars_dict,esoh_data):\n",
    "    esoh_vars = [\"Capacity [A.h]\",\"n_Li\"]\n",
    "    esoh_data[\"Capacity [A.h]\"]=esoh_data[\"Cap\"]\n",
    "    param = pybamm.LithiumIonParameters()\n",
    "    esoh_data[\"n_Li\"]= 3600/param.F.value*(esoh_data[\"y_100\"]*esoh_data[\"C_p\"]+esoh_data[\"x_100\"]*esoh_data[\"C_n\"])\n",
    "    fig, axes = plt.subplots(2,1,figsize=(7,7))\n",
    "    for k, name in enumerate(esoh_vars):\n",
    "        ax = axes.flat[k]\n",
    "        ax.plot(all_sumvars_dict[\"Cycle number\"],all_sumvars_dict[name],\"ro\")\n",
    "        ax.plot(esoh_data[\"N\"],esoh_data[name],\"kx\")\n",
    "        ax.set_title(split_long_string(name))\n",
    "        ax.set_xlabel(\"Cycle number\")\n",
    "    fig.legend([\"Acc Sim\"] + [\"Reported\"], \n",
    "           loc=\"upper right\", ncol=1, fontsize=11)\n",
    "    fig.tight_layout()\n",
    "    return fig\n",
    "def plotc(all_sumvars_dict,esoh_data):\n",
    "    esoh_vars = [\"x_100\", \"y_0\", \"C_n\", \"C_p\", \"Capacity [A.h]\", \"Loss of lithium inventory [%]\"]\n",
    "    esoh_data[\"Capacity [A.h]\"]=esoh_data[\"Cap\"]\n",
    "    param = pybamm.LithiumIonParameters()\n",
    "    esoh_data[\"n_Li\"]= 3600/param.F.value*(esoh_data[\"y_100\"]*esoh_data[\"C_p\"]+esoh_data[\"x_100\"]*esoh_data[\"C_n\"])\n",
    "    esoh_data[\"Loss of lithium inventory [%]\"]=(1-esoh_data[\"n_Li\"]/esoh_data[\"n_Li\"][0])*100\n",
    "    fig, axes = plt.subplots(3,2,figsize=(7,7))\n",
    "    for k, name in enumerate(esoh_vars):\n",
    "        ax = axes.flat[k]\n",
    "        ax.plot(all_sumvars_dict[\"Cycle number\"],all_sumvars_dict[name],\"ro\")\n",
    "        ax.plot(esoh_data[\"N\"],esoh_data[name],\"kx\")\n",
    "        ax.set_title(split_long_string(name))\n",
    "        if k ==2 or k==3:\n",
    "            ax.set_ylim([4,6])\n",
    "        if k>3:\n",
    "            ax.set_xlabel(\"Cycle number\")\n",
    "    fig.legend([\"Acc Sim\"] + [\"Reported\"], \n",
    "           loc=\"lower center\",bbox_to_anchor=[0.5,-0.02], ncol=1, fontsize=11)\n",
    "    fig.tight_layout()\n",
    "    return fig"
   ]
  },
  {
   "cell_type": "code",
   "execution_count": 28,
   "metadata": {},
   "outputs": [],
   "source": [
    "cell = 1"
   ]
  },
  {
   "cell_type": "markdown",
   "metadata": {},
   "source": [
    "## Load eSOH Data and OCV Data"
   ]
  },
  {
   "cell_type": "code",
   "execution_count": 29,
   "metadata": {},
   "outputs": [
    {
     "name": "stdout",
     "output_type": "stream",
     "text": [
      "Cycle Numbers:\n",
      "0, 18, 57, 93, 134, 175, 216, 257, 298, 339\n"
     ]
    }
   ],
   "source": [
    "cell_no = f'{cell:02d}'\n",
    "dfe=pd.read_csv(eSOH_DIR+\"aging_param_cell_\"+cell_no+\".csv\")\n",
    "dfe_0=pd.read_csv(eSOH_DIR+\"aging_param_cell_\"+cell_no+\".csv\")\n",
    "# Remove first RPT\n",
    "dfe = dfe.drop(dfe.index[0])\n",
    "dfe = dfe.reset_index(drop=True)\n",
    "dfe['N']=dfe['N']-dfe['N'][0]\n",
    "N =dfe.N.unique()\n",
    "N_0 = dfe_0.N.unique()\n",
    "dfo_0=pd.read_csv(oCV_DIR+\"ocv_data_cell_\"+cell_no+\".csv\")\n",
    "print(\"Cycle Numbers:\")\n",
    "print(*N, sep = \", \") "
   ]
  },
  {
   "cell_type": "code",
   "execution_count": 30,
   "metadata": {},
   "outputs": [
    {
     "name": "stdout",
     "output_type": "stream",
     "text": [
      "Reversible Expansion\n",
      "69.59999999999997\n",
      "3.54364290630496\n"
     ]
    }
   ],
   "source": [
    "irr_exp = []\n",
    "# print('Irreversible Expansion')\n",
    "for i in range(len(N_0)):\n",
    "    dfo = dfo_0[dfo_0['N']==N_0[i]]\n",
    "    # print(min(dfo['E']))\n",
    "    irr_exp.append(min(dfo['E']))\n",
    "dfe_0['irr_exp']=irr_exp\n",
    "\n",
    "rev_exp = []\n",
    "print('Reversible Expansion')\n",
    "for i in range(len(N_0)):\n",
    "    dfo = dfo_0[dfo_0['N']==N_0[i]]\n",
    "    # print(max(dfo['E'])-min(dfo['E']))\n",
    "    rev_exp.append(max(dfo['E'])-min(dfo['E']))\n",
    "dfe_0['rev_exp']=rev_exp\n",
    "print(dfe_0['rev_exp'].iloc[-1])\n",
    "print(dfe_0['Cap'].iloc[-1])"
   ]
  },
  {
   "cell_type": "code",
   "execution_count": 67,
   "metadata": {},
   "outputs": [],
   "source": [
    "dfo = dfo_0[dfo_0['N']==N[0]]\n",
    "# dfe_0 = dfe[dfe['N']==N[0]]\n",
    "C_n_init = dfe['C_n'][0]\n",
    "C_p_init = dfe['C_p'][0]\n",
    "y_0_init = dfe['y_0'][0] \n",
    "if cell_no=='01':\n",
    "    c_rate_c = 'C/5'\n",
    "    c_rate_d = 'C/5'\n",
    "    dis_set = \" until 3V\"\n",
    "    # eps_n_data = 0.6234\n",
    "    # eps_p_data = 0.4542\n",
    "elif cell_no=='13':\n",
    "    c_rate_c = 'C/5'\n",
    "    c_rate_d = 'C/5'\n",
    "    dis_set = \" for 150 min\""
   ]
  },
  {
   "cell_type": "code",
   "execution_count": 68,
   "metadata": {},
   "outputs": [
    {
     "data": {
      "text/plain": [
       "339"
      ]
     },
     "execution_count": 68,
     "metadata": {},
     "output_type": "execute_result"
    }
   ],
   "source": [
    "dfe.N.iloc[-1]"
   ]
  },
  {
   "cell_type": "code",
   "execution_count": 69,
   "metadata": {},
   "outputs": [],
   "source": [
    "pybamm.set_logging_level(\"WARNING\")\n",
    "# pybamm.set_logging_level(\"NOTICE\")\n",
    "experiment = pybamm.Experiment(\n",
    "    [\n",
    "        (\"Discharge at \"+c_rate_d+dis_set,\n",
    "         \"Rest for 5 min\",\n",
    "         \"Charge at \"+c_rate_c+\" until 4.2V\", \n",
    "         \"Hold at 4.2V until C/50\")\n",
    "    ] *dfe.N.iloc[-1],\n",
    "    termination=\"50% capacity\",\n",
    "#     cccv_handling=\"ode\",\n",
    ")\n",
    "spm = pybamm.lithium_ion.SPM(\n",
    "    {\n",
    "        \"SEI\": \"ec reaction limited\",\n",
    "        # \"loss of active material\": (\"stress-driven\",\"none\"),\n",
    "        \"loss of active material\": \"stress-driven\",\n",
    "        \"stress-induced diffusion\": \"true\",\n",
    "        # \"lithium plating\": \"reversible\",\n",
    "    }\n",
    ")\n",
    "# spm.print_parameter_info()"
   ]
  },
  {
   "cell_type": "code",
   "execution_count": 70,
   "metadata": {},
   "outputs": [],
   "source": [
    "param = spm.param\n",
    "eps_n_data = parameter_values.evaluate(C_n_init*3600/(param.L_n * param.c_n_max * param.F* param.A_cc))\n",
    "eps_p_data = parameter_values.evaluate(C_p_init*3600/(param.L_p * param.c_p_max * param.F* param.A_cc))\n",
    "cs_p_init = parameter_values.evaluate(y_0_init* param.c_p_max)"
   ]
  },
  {
   "cell_type": "code",
   "execution_count": 45,
   "metadata": {},
   "outputs": [],
   "source": [
    "parameter_values = get_parameter_values()\n",
    "\n",
    "parameter_values.update(\n",
    "    {\n",
    "        # ACC\n",
    "        # \"Positive electrode LAM constant proportional term [s-1]\": 8.3569e-6,\n",
    "        # \"Negative electrode LAM constant proportional term [s-1]\": 5.8032e-5,\n",
    "        \"SEI kinetic rate constant [m.s-1]\": 1.6827e-16,\n",
    "        # ECS\n",
    "        \"Positive electrode LAM constant proportional term [s-1]\": 4.815555555555556e-06,\n",
    "        \"Negative electrode LAM constant proportional term [s-1]\": 5.360555555555556e-05,\n",
    "        # \"SEI kinetic rate constant [m.s-1]\": 2.33728e-16,\n",
    "        \"EC diffusivity [m2.s-1]\": 2e-18,\n",
    "        \"Positive electrode LAM constant exponential term\": 2,\n",
    "        \"Negative electrode LAM constant exponential term\": 2,\n",
    "        \"Negative electrode active material volume fraction\": eps_n_data,\n",
    "        \"Positive electrode active material volume fraction\": eps_p_data,\n",
    "    },\n",
    "    check_already_exists=False,\n",
    ")\n",
    "all_sumvars_dict = cycle_adaptive_simulation(spm, parameter_values, experiment, save_at_cycles=2)"
   ]
  },
  {
   "cell_type": "code",
   "execution_count": 46,
   "metadata": {},
   "outputs": [],
   "source": [
    "sim_des = '_ECS_sei'\n",
    "# sim_des = '_ACC'\n",
    "d = all_sumvars_dict\n",
    "df = pd.DataFrame.from_dict(d, )\n",
    "df.to_csv(res_DIR + \"cell_\"+ cell_no + sim_des+\"_accl.csv\")"
   ]
  },
  {
   "cell_type": "code",
   "execution_count": 47,
   "metadata": {},
   "outputs": [],
   "source": [
    "# fig = plot(all_sumvars_dict,dfe);\n",
    "# fig.savefig(fig_DIR +'fast_sim_'+cell_no+'_new.png')"
   ]
  },
  {
   "cell_type": "code",
   "execution_count": 48,
   "metadata": {},
   "outputs": [],
   "source": [
    "# fig = plot1(all_sumvars_dict,dfe);\n",
    "# fig.savefig(fig_DIR +'fast_sim_'+cell_no+'_cap_new.png')"
   ]
  },
  {
   "cell_type": "code",
   "execution_count": 49,
   "metadata": {},
   "outputs": [
    {
     "data": {
      "image/png": "[encoded data removed]",
      "text/plain": [
       "<Figure size 1050x1050 with 6 Axes>"
      ]
     },
     "metadata": {
      "needs_background": "light"
     },
     "output_type": "display_data"
    }
   ],
   "source": [
    "fig = plotc(all_sumvars_dict,dfe);\n",
    "fig.savefig(fig_DIR +'pred_sim'+sim_des+'_'+cell_no+'_eSOHC.png')"
   ]
  },
  {
   "cell_type": "code",
   "execution_count": 50,
   "metadata": {},
   "outputs": [],
   "source": [
    "def plotcpcn(all_sumvars_dict,esoh_data):\n",
    "    esoh_vars = [\"x_100\", \"y_0\", \"C_n\", \"C_p\", \"Capacity [A.h]\", \"Loss of lithium inventory [%]\"]\n",
    "    esoh_data[\"Capacity [A.h]\"]=esoh_data[\"Cap\"]\n",
    "    param = pybamm.LithiumIonParameters()\n",
    "    esoh_data[\"n_Li\"]= 3600/param.F.value*(esoh_data[\"y_100\"]*esoh_data[\"C_p\"]+esoh_data[\"x_100\"]*esoh_data[\"C_n\"])\n",
    "    esoh_data[\"Loss of lithium inventory [%]\"]=(1-esoh_data[\"n_Li\"]/esoh_data[\"n_Li\"][0])*100\n",
    "    fig = plt.figure(figsize=[6,4])\n",
    "    ax1 = plt.subplot(1,2,1)\n",
    "    name=\"C_n\"\n",
    "    ax1.plot(all_sumvars_dict[\"Cycle number\"],all_sumvars_dict[name],\"ro\")\n",
    "    ax1.plot(esoh_data[\"N\"],esoh_data[name],\"kx\",label='_nolegend_')\n",
    "    name=\"C_p\"\n",
    "    ax1.plot(all_sumvars_dict[\"Cycle number\"],all_sumvars_dict[name],\"bo\")\n",
    "    ax1.plot(esoh_data[\"N\"],esoh_data[name],\"kx\",label='_nolegend_')\n",
    "    ax1.set_title(\"Electrode Capacity [Ah]\")\n",
    "    ax1.set_ylim([4,6])\n",
    "    ax1.set_xlabel(\"Cycle number\")\n",
    "    ax1.legend([\"$C_n$\"] + [\"$C_p$\"])\n",
    "    fig.tight_layout()\n",
    "    return fig"
   ]
  },
  {
   "cell_type": "code",
   "execution_count": 51,
   "metadata": {},
   "outputs": [
    {
     "data": {
      "image/png": "[encoded data removed]",
      "text/plain": [
       "<Figure size 900x600 with 1 Axes>"
      ]
     },
     "metadata": {
      "needs_background": "light"
     },
     "output_type": "display_data"
    }
   ],
   "source": [
    "fig = plotcpcn(all_sumvars_dict,dfe);\n",
    "fig.savefig(fig_DIR +'pred_sim'+sim_des+'_'+cell_no+'_eCap.png')"
   ]
  },
  {
   "cell_type": "code",
   "execution_count": 52,
   "metadata": {},
   "outputs": [],
   "source": [
    "# df.columns"
   ]
  },
  {
   "cell_type": "code",
   "execution_count": 53,
   "metadata": {},
   "outputs": [],
   "source": [
    "def plotlossli(all_sumvars_dict,esoh_data):\n",
    "    esoh_vars = [\"Total lithium lost [mol]\", \"Loss of lithium to SEI [mol]\", \"C_n\", \"C_p\", \"Capacity [A.h]\", \"Loss of lithium inventory [%]\"]\n",
    "    esoh_data[\"Capacity [A.h]\"]=esoh_data[\"Cap\"]\n",
    "    param = pybamm.LithiumIonParameters()\n",
    "    esoh_data[\"n_Li\"]= 3600/param.F.value*(esoh_data[\"y_100\"]*esoh_data[\"C_p\"]+esoh_data[\"x_100\"]*esoh_data[\"C_n\"])\n",
    "    esoh_data[\"Loss of lithium inventory [%]\"]=(1-esoh_data[\"n_Li\"]/esoh_data[\"n_Li\"][0])*100\n",
    "    fig = plt.figure(figsize=[6,4])\n",
    "    ax = plt.subplot(1,1,1)\n",
    "    name=\"Total lithium lost [mol]\"\n",
    "    name2 = \"Total lithium [mol]\"\n",
    "    # ax.plot(all_sumvars_dict[\"Cycle number\"],all_sumvars_dict[name],\"ro\")\n",
    "    ax.plot(all_sumvars_dict[\"Cycle number\"],(all_sumvars_dict[name]/all_sumvars_dict[name2][0])*100,\"ro\")\n",
    "    # ax.plot(esoh_data[\"N\"],esoh_data[name],\"kx\",label='_nolegend_')\n",
    "    name=\"Loss of lithium to SEI [mol]\"\n",
    "    # ax.plot(all_sumvars_dict[\"Cycle number\"],all_sumvars_dict[name],\"bo\")\n",
    "    ax.plot(all_sumvars_dict[\"Cycle number\"],(all_sumvars_dict[name]/all_sumvars_dict[name2][0])*100,\"bo\")\n",
    "    # ax.plot(esoh_data[\"N\"],esoh_data[name],\"kx\",label='_nolegend_')\n",
    "    # ax.set_title(\"Loss of Lithium [mol]\")\n",
    "    ax.set_title(\"LLI [%]\")\n",
    "    # ax.set_ylim([4,6])\n",
    "    ax.set_xlabel(\"Cycle number\")\n",
    "    ax.legend([\"Total loss of Li\"] + [\"Loss loss Li due to SEI\"])\n",
    "    fig.tight_layout()\n",
    "    return fig"
   ]
  },
  {
   "cell_type": "code",
   "execution_count": 54,
   "metadata": {},
   "outputs": [
    {
     "data": {
      "image/png": "[encoded data removed]",
      "text/plain": [
       "<Figure size 900x600 with 1 Axes>"
      ]
     },
     "metadata": {
      "needs_background": "light"
     },
     "output_type": "display_data"
    }
   ],
   "source": [
    "fig = plotlossli(all_sumvars_dict,dfe);\n",
    "fig.savefig(fig_DIR +'pred_sim'+sim_des+'_'+cell_no+'_lossli.png')"
   ]
  },
  {
   "cell_type": "code",
   "execution_count": 55,
   "metadata": {},
   "outputs": [],
   "source": [
    "def plotlam(all_sumvars_dict,esoh_data):\n",
    "    esoh_vars = [\"Total lithium lost [mol]\", \"Loss of lithium to SEI [mol]\", \"C_n\", \"C_p\", \"Capacity [A.h]\", \"Loss of lithium inventory [%]\"]\n",
    "    esoh_data[\"Capacity [A.h]\"]=esoh_data[\"Cap\"]\n",
    "    param = pybamm.LithiumIonParameters()\n",
    "    esoh_data[\"n_Li\"]= 3600/param.F.value*(esoh_data[\"y_100\"]*esoh_data[\"C_p\"]+esoh_data[\"x_100\"]*esoh_data[\"C_n\"])\n",
    "    esoh_data[\"Loss of lithium inventory [%]\"]=(1-esoh_data[\"n_Li\"]/esoh_data[\"n_Li\"][0])*100\n",
    "    fig = plt.figure(figsize=[6,4])\n",
    "    ax = plt.subplot(1,1,1)\n",
    "    name=\"Loss of active material in negative electrode [%]\"\n",
    "    ax.plot(all_sumvars_dict[\"Cycle number\"],all_sumvars_dict[name],\"ro\")\n",
    "    # ax.plot(esoh_data[\"N\"],esoh_data[name],\"kx\",label='_nolegend_')\n",
    "    name=\"Loss of active material in positive electrode [%]\"\n",
    "    ax.plot(all_sumvars_dict[\"Cycle number\"],all_sumvars_dict[name],\"bo\")\n",
    "    # ax.plot(esoh_data[\"N\"],esoh_data[name],\"kx\",label='_nolegend_')\n",
    "    # ax.set_title(\"Loss of Lithium [mol]\")\n",
    "    ax.set_title(\"LAM [%]\")\n",
    "    # ax.set_ylim([4,6])\n",
    "    ax.set_xlabel(\"Cycle number\")\n",
    "    ax.legend([\"NE\"] + [\"PE\"])\n",
    "    fig.tight_layout()\n",
    "    return fig"
   ]
  },
  {
   "cell_type": "code",
   "execution_count": 56,
   "metadata": {},
   "outputs": [
    {
     "data": {
      "image/png": "[encoded data removed]",
      "text/plain": [
       "<Figure size 900x600 with 1 Axes>"
      ]
     },
     "metadata": {
      "needs_background": "light"
     },
     "output_type": "display_data"
    }
   ],
   "source": [
    "fig = plotlam(all_sumvars_dict,dfe);\n",
    "fig.savefig(fig_DIR +'pred_sim'+sim_des+'_'+cell_no+'_LAM.png')"
   ]
  },
  {
   "cell_type": "code",
   "execution_count": 57,
   "metadata": {},
   "outputs": [
    {
     "data": {
      "text/plain": [
       "0.18415165672766595"
      ]
     },
     "execution_count": 57,
     "metadata": {},
     "output_type": "execute_result"
    }
   ],
   "source": [
    "dfe[\"n_Li\"][0]"
   ]
  },
  {
   "cell_type": "code",
   "execution_count": null,
   "metadata": {},
   "outputs": [],
   "source": [
    "# print(df['Change in total lithium in negative electrode [mol]'].iloc[-1])\n",
    "print(df['Total lithium lost to side reactions [mol]'].iloc[-1])\n",
    "# print(df[''].iloc[-1])\n",
    "print(df['Loss of lithium to SEI [mol]'].iloc[-1])\n",
    "print(df['Total lithium lost from particles [mol]'].iloc[-1])\n",
    "print(df['Total lithium lost [mol]'].iloc[-1])\n",
    "print(df['Total lithium in particles [mol]'].iloc[-1])\n",
    "print(df['Total lithium in positive electrode [mol]'].iloc[-1])\n",
    "print(df['Total lithium in negative electrode [mol]'].iloc[-1])"
   ]
  },
  {
   "cell_type": "markdown",
   "metadata": {},
   "source": [
    "# Parameter Fitting"
   ]
  },
  {
   "cell_type": "code",
   "execution_count": 58,
   "metadata": {},
   "outputs": [],
   "source": [
    "cycles = np.array(dfe['N'].astype('int'))\n",
    "cycles=cycles-1\n",
    "cycles[0]=cycles[0]+1\n",
    "cycles\n",
    "dfe['N_mod'] = cycles"
   ]
  },
  {
   "cell_type": "code",
   "execution_count": 59,
   "metadata": {},
   "outputs": [],
   "source": [
    "def plot_comp(all_sumvars_dict_0,all_sumvars_dict_1,esoh_data):\n",
    "    esoh_vars = [\"x_100\", \"y_0\", \"C_n\", \"C_p\", \"Capacity [A.h]\", \"Loss of lithium inventory [%]\"]\n",
    "    esoh_data[\"Capacity [A.h]\"]=esoh_data[\"Cap\"]\n",
    "    param = pybamm.LithiumIonParameters()\n",
    "    esoh_data[\"n_Li\"]= 3600/param.F.value*(esoh_data[\"y_100\"]*esoh_data[\"C_p\"]+esoh_data[\"x_100\"]*esoh_data[\"C_n\"])\n",
    "    esoh_data[\"Loss of lithium inventory [%]\"]=(1-esoh_data[\"n_Li\"]/esoh_data[\"n_Li\"][0])*100\n",
    "    fig, axes = plt.subplots(3,2,figsize=(7,7))\n",
    "    for k, name in enumerate(esoh_vars):\n",
    "        ax = axes.flat[k]\n",
    "        ax.plot(all_sumvars_dict_1[\"Cycle number\"],all_sumvars_dict_1[name],\"bo\")\n",
    "        ax.plot(all_sumvars_dict_0[\"Cycle number\"],all_sumvars_dict_0[name],\"ro\")\n",
    "        # ax.plot(all_sumvars_dict_1[\"Cycle number\"],all_sumvars_dict_1[name],\"bo\")\n",
    "        ax.plot(esoh_data[\"N\"],esoh_data[name],\"kx\")\n",
    "        ax.axvline(x = all_sumvars_dict_0[\"Cycle number\"][-1], color = 'm', label = 'axvline - full height')\n",
    "        ax.set_title(split_long_string(name))\n",
    "        if k>3:\n",
    "            ax.set_xlabel(\"Cycle number\")\n",
    "    fig.legend([\"Pred\"]+[\"Train\"] + [\"Data\"], \n",
    "           loc=\"lower center\",bbox_to_anchor=[0.5, -0.05], ncol=1, fontsize=11)\n",
    "    fig.tight_layout()\n",
    "    return fig"
   ]
  },
  {
   "cell_type": "markdown",
   "metadata": {},
   "source": [
    "## List of Initial Conditions"
   ]
  },
  {
   "cell_type": "code",
   "execution_count": 60,
   "metadata": {},
   "outputs": [],
   "source": [
    "ic = 0\n",
    "blam_p = [2e-2/3600, 4e-6, 1e-5,1e-6]\n",
    "blam_n = [2e-1/3600, 3e-5, 2e-5,7e-5]\n",
    "k_sei= [1.6e-16,1.5e-16,1.7e-16,1.3e-16]"
   ]
  },
  {
   "cell_type": "code",
   "execution_count": 79,
   "metadata": {},
   "outputs": [],
   "source": [
    "def objective(model, data):\n",
    "    return np.array(model.loc[data['N_mod']][\"Capacity [A.h]\"]) - np.array(data[\"Cap\"])\n",
    "\n",
    "def multi_objective(model, data):\n",
    "    variables = [\"C_n\",\"C_p\",\"x_100\",\"y_0\"]\n",
    "    # variables = [\"Capacity [A.h]\", \"C_n\"]\n",
    "    weights = [1,1,5,5]\n",
    "    return np.concatenate([\n",
    "        (np.array(model.loc[data['N_mod']][var]) - np.array(data[var])) * w\n",
    "        for w,var in zip(weights,variables)\n",
    "    ]\n",
    "    )\n",
    "@timeoutable()\n",
    "def simulate(x,expt):\n",
    "    parameter_values = get_parameter_values()\n",
    "    parameter_values.update(\n",
    "        {\n",
    "            \"SEI kinetic rate constant [m.s-1]\":  x[2]*k_sei[ic],\n",
    "            \"Positive electrode LAM constant proportional term [s-1]\": x[0]* blam_p[ic],\n",
    "            \"Negative electrode LAM constant proportional term [s-1]\": x[1]*blam_n[ic],\n",
    "            \"EC diffusivity [m2.s-1]\": 2e-18,\n",
    "            \"Positive electrode LAM constant exponential term\": 2,\n",
    "            \"Negative electrode LAM constant exponential term\": 2,\n",
    "            \"Negative electrode active material volume fraction\": eps_n_data,\n",
    "            \"Positive electrode active material volume fraction\": eps_p_data,\n",
    "        },\n",
    "        check_already_exists=False,\n",
    "    )\n",
    "    Cn = parameter_values.evaluate(param.C_n_init)\n",
    "    Cp = parameter_values.evaluate(param.C_p_init)\n",
    "    eps_n = parameter_values[\"Negative electrode active material volume fraction\"]\n",
    "    eps_p = parameter_values[\"Positive electrode active material volume fraction\"]\n",
    "    C_over_eps_n = Cn / eps_n\n",
    "    C_over_eps_p = Cp / eps_p\n",
    "    return cycle_adaptive_simulation(spm, parameter_values, expt,save_at_cycles=1)\n",
    "def prediction_error(x,data,expt):\n",
    "    try:\n",
    "        model = simulate(x,expt,timeout=60)\n",
    "        out = multi_objective(pd.DataFrame(model), data)\n",
    "        print(f\"x={x}, norm={np.linalg.norm(out)}\")\n",
    "    # except pybamm.SolverError:\n",
    "    except:\n",
    "        out = 10*np.ones_like(np.concatenate([np.array(data['Cap'])]*4))\n",
    "        print(f\"x={x}, norm={np.linalg.norm(out)}\")\n",
    "        return out\n",
    "    return out\n",
    "def train_model(data,expt):\n",
    "    timer = pybamm.Timer()\n",
    "    x0 = np.array([1.0,1.0,1.0])\n",
    "    # print(prediction_error(x0))\n",
    "    soln_dfols = dfols.solve(prediction_error, x0,args=(data,expt), rhoend=1e-3)\n",
    "    print(timer.time())\n",
    "    return soln_dfols\n",
    "def sim_train(dfe,experiment,df,train_len):\n",
    "    data_train = dfe.iloc[:train_len]\n",
    "    experiment_train = pybamm.Experiment(\n",
    "        [\n",
    "            (\"Discharge at \"+c_rate_d+dis_set,\n",
    "            \"Rest for 5 min\",\n",
    "            \"Charge at \"+c_rate_c+\" until 4.2V\", \n",
    "            \"Hold at 4.2V until C/50\")\n",
    "        ] *data_train.N.iloc[-1],\n",
    "        termination=\"50% capacity\",\n",
    "    #     cccv_handling=\"ode\",\n",
    "    )\n",
    "    soln_dfols = train_model(data_train,experiment_train)\n",
    "    xsol = soln_dfols.x\n",
    "    # print(xsol[0]*2e-2/3600)\n",
    "    # print(xsol[1]*2e-1/3600)\n",
    "    # print(xsol[2]*1.6e-16)\n",
    "    df['train_len'][train_len-3]=train_len\n",
    "    df['x_0'][train_len-3]=round(xsol[0],4)\n",
    "    df['x_1'][train_len-3]=round(xsol[1],4)\n",
    "    df['x_2'][train_len-3]=round(xsol[2],4)\n",
    "    # df['obj'][train_len-3]=soln_dfols.f\n",
    "    try:\n",
    "        sol_out = simulate(soln_dfols.x,experiment_train,timeout = 60)\n",
    "        sol_full = simulate(soln_dfols.x,experiment,timeout = 60)\n",
    "        df['obj'][train_len-3]= np.linalg.norm(prediction_error(soln_dfols.x,data_train,experiment_train))\n",
    "        df['obj_full'][train_len-3] = np.linalg.norm(prediction_error(soln_dfols.x,dfe,experiment))\n",
    "        fig = plot_comp(sol_out,sol_full,dfe);\n",
    "        return df,fig\n",
    "    except:\n",
    "        print(\"Train Len = \"+str(train_len)+\" failed\")\n",
    "        fig, axes = plt.subplots(3,2,figsize=(7,7))\n",
    "        return df,fig"
   ]
  },
  {
   "cell_type": "code",
   "execution_count": null,
   "metadata": {},
   "outputs": [],
   "source": [
    "# df_x = pd.DataFrame(columns=['train_len','x_0','x_1','x_2','obj','obj_full'], index=range(len(N)+1-3))"
   ]
  },
  {
   "cell_type": "code",
   "execution_count": null,
   "metadata": {},
   "outputs": [],
   "source": [
    "# sim_des = \"ic_\"+str(ic)\n",
    "# timer1 = pybamm.Timer()\n",
    "# for train_len in range(3,len(N)):\n",
    "#     print(\"Train Length = {0}\".format(train_len))\n",
    "#     df_x,fig = sim_train(dfe,experiment,df_x,train_len)\n",
    "#     df_x.to_csv(res_DIR + \"fit_train_pred_\"+sim_des+\".csv\")\n",
    "#     fig.suptitle('Train Length = '+str(train_len),fontsize=16,y=1.02)\n",
    "#     fig.savefig(fig_DIR + \"fit_train_pred_\"+ sim_des+\"_\"+str(train_len) +\"_eSOHC.png\",bbox_inches='tight')\n",
    "#     print('Total Time')\n",
    "#     print(timer1.time())"
   ]
  },
  {
   "cell_type": "markdown",
   "metadata": {},
   "source": [
    "## Generate figures from solutions"
   ]
  },
  {
   "cell_type": "code",
   "execution_count": 77,
   "metadata": {},
   "outputs": [
    {
     "data": {
      "text/html": [
       "<div>\n",
       "<style scoped>\n",
       "    .dataframe tbody tr th:only-of-type {\n",
       "        vertical-align: middle;\n",
       "    }\n",
       "\n",
       "    .dataframe tbody tr th {\n",
       "        vertical-align: top;\n",
       "    }\n",
       "\n",
       "    .dataframe thead th {\n",
       "        text-align: right;\n",
       "    }\n",
       "</style>\n",
       "<table border=\"1\" class=\"dataframe\">\n",
       "  <thead>\n",
       "    <tr style=\"text-align: right;\">\n",
       "      <th></th>\n",
       "      <th>train_len</th>\n",
       "      <th>x_0</th>\n",
       "      <th>x_1</th>\n",
       "      <th>x_2</th>\n",
       "      <th>obj</th>\n",
       "      <th>obj_full</th>\n",
       "    </tr>\n",
       "  </thead>\n",
       "  <tbody>\n",
       "    <tr>\n",
       "      <th>0</th>\n",
       "      <td>3</td>\n",
       "      <td>1.3529</td>\n",
       "      <td>1.3726</td>\n",
       "      <td>2.1091</td>\n",
       "      <td>0.1237</td>\n",
       "      <td>1.5763</td>\n",
       "    </tr>\n",
       "    <tr>\n",
       "      <th>1</th>\n",
       "      <td>4</td>\n",
       "      <td>1.0685</td>\n",
       "      <td>1.1681</td>\n",
       "      <td>1.7119</td>\n",
       "      <td>0.1493</td>\n",
       "      <td>0.7983</td>\n",
       "    </tr>\n",
       "    <tr>\n",
       "      <th>2</th>\n",
       "      <td>5</td>\n",
       "      <td>0.8668</td>\n",
       "      <td>0.9649</td>\n",
       "      <td>1.4608</td>\n",
       "      <td>0.2063</td>\n",
       "      <td>0.3227</td>\n",
       "    </tr>\n",
       "    <tr>\n",
       "      <th>3</th>\n",
       "      <td>6</td>\n",
       "      <td>0.7563</td>\n",
       "      <td>0.9048</td>\n",
       "      <td>1.3287</td>\n",
       "      <td>0.2242</td>\n",
       "      <td>0.3742</td>\n",
       "    </tr>\n",
       "    <tr>\n",
       "      <th>4</th>\n",
       "      <td>7</td>\n",
       "      <td>0.6986</td>\n",
       "      <td>0.8927</td>\n",
       "      <td>1.2760</td>\n",
       "      <td>0.2286</td>\n",
       "      <td>0.3978</td>\n",
       "    </tr>\n",
       "    <tr>\n",
       "      <th>5</th>\n",
       "      <td>8</td>\n",
       "      <td>0.7191</td>\n",
       "      <td>0.9241</td>\n",
       "      <td>1.2890</td>\n",
       "      <td>0.2425</td>\n",
       "      <td>0.3369</td>\n",
       "    </tr>\n",
       "    <tr>\n",
       "      <th>6</th>\n",
       "      <td>9</td>\n",
       "      <td>0.7150</td>\n",
       "      <td>0.9420</td>\n",
       "      <td>1.3001</td>\n",
       "      <td>0.2512</td>\n",
       "      <td>0.3138</td>\n",
       "    </tr>\n",
       "    <tr>\n",
       "      <th>7</th>\n",
       "      <td>10</td>\n",
       "      <td>0.7569</td>\n",
       "      <td>0.9682</td>\n",
       "      <td>1.3719</td>\n",
       "      <td>0.2959</td>\n",
       "      <td>0.2959</td>\n",
       "    </tr>\n",
       "  </tbody>\n",
       "</table>\n",
       "</div>"
      ],
      "text/plain": [
       "   train_len     x_0     x_1     x_2     obj  obj_full\n",
       "0          3  1.3529  1.3726  2.1091  0.1237    1.5763\n",
       "1          4  1.0685  1.1681  1.7119  0.1493    0.7983\n",
       "2          5  0.8668  0.9649  1.4608  0.2063    0.3227\n",
       "3          6  0.7563  0.9048  1.3287  0.2242    0.3742\n",
       "4          7  0.6986  0.8927  1.2760  0.2286    0.3978\n",
       "5          8  0.7191  0.9241  1.2890  0.2425    0.3369\n",
       "6          9  0.7150  0.9420  1.3001  0.2512    0.3138\n",
       "7         10  0.7569  0.9682  1.3719  0.2959    0.2959"
      ]
     },
     "execution_count": 77,
     "metadata": {},
     "output_type": "execute_result"
    }
   ],
   "source": [
    "sim_des = \"ic_0\"\n",
    "df_x = pd.read_csv(res_DIR + \"fit_train_pred_\"+sim_des+\".csv\").drop(['Unnamed: 0'],axis=1)\n",
    "df_x"
   ]
  },
  {
   "cell_type": "code",
   "execution_count": null,
   "metadata": {},
   "outputs": [],
   "source": [
    "train_len = 10\n",
    "data_train = dfe.iloc[:train_len]\n",
    "print(train_len)\n",
    "x = [df_x['x_0'][train_len-3],df_x['x_1'][train_len-3],df_x['x_2'][train_len-3]]\n",
    "print(x)"
   ]
  },
  {
   "cell_type": "code",
   "execution_count": 80,
   "metadata": {},
   "outputs": [
    {
     "name": "stdout",
     "output_type": "stream",
     "text": [
      "3\n",
      "5\n"
     ]
    },
    {
     "name": "stderr",
     "output_type": "stream",
     "text": [
      "2022-04-19 12:50:23,944 - [WARNING] utils.__exit__(81): Code block execution exceeded 30 seconds timeout\n",
      "Traceback (most recent call last):\n",
      "  File \"c:\\Users\\pansr\\Documents\\Research\\PyBaMM\\.tox\\windows-dev\\lib\\site-packages\\stopit\\utils.py\", line 145, in wrapper\n",
      "    result = func(*args, **kwargs)\n",
      "  File \"C:\\Users\\pansr\\AppData\\Local\\Temp/ipykernel_4860/331505067.py\", line 35, in simulate\n",
      "    return cycle_adaptive_simulation(spm, parameter_values, expt,save_at_cycles=1)\n",
      "  File \"C:\\Users\\pansr\\AppData\\Local\\Temp/ipykernel_4860/1874098614.py\", line 153, in cycle_adaptive_simulation\n",
      "    sol = solve_ivp(\n",
      "  File \"c:\\Users\\pansr\\Documents\\Research\\PyBaMM\\.tox\\windows-dev\\lib\\site-packages\\scipy\\integrate\\_ivp\\ivp.py\", line 576, in solve_ivp\n",
      "    message = solver.step()\n",
      "  File \"c:\\Users\\pansr\\Documents\\Research\\PyBaMM\\.tox\\windows-dev\\lib\\site-packages\\scipy\\integrate\\_ivp\\base.py\", line 181, in step\n",
      "    success, message = self._step_impl()\n",
      "  File \"c:\\Users\\pansr\\Documents\\Research\\PyBaMM\\.tox\\windows-dev\\lib\\site-packages\\scipy\\integrate\\_ivp\\rk.py\", line 144, in _step_impl\n",
      "    y_new, f_new = rk_step(self.fun, t, y, self.f, h, self.A,\n",
      "  File \"c:\\Users\\pansr\\Documents\\Research\\PyBaMM\\.tox\\windows-dev\\lib\\site-packages\\scipy\\integrate\\_ivp\\rk.py\", line 64, in rk_step\n",
      "    K[s] = fun(t + c * h, y + dy)\n",
      "  File \"c:\\Users\\pansr\\Documents\\Research\\PyBaMM\\.tox\\windows-dev\\lib\\site-packages\\scipy\\integrate\\_ivp\\base.py\", line 138, in fun\n",
      "    return self.fun_single(t, y)\n",
      "  File \"c:\\Users\\pansr\\Documents\\Research\\PyBaMM\\.tox\\windows-dev\\lib\\site-packages\\scipy\\integrate\\_ivp\\base.py\", line 20, in fun_wrapped\n",
      "    return np.asarray(fun(t, y), dtype=dtype)\n",
      "  File \"C:\\Users\\pansr\\AppData\\Local\\Temp/ipykernel_4860/1874098614.py\", line 129, in dydt\n",
      "    dy = sol_to_y(sol) - y\n",
      "  File \"C:\\Users\\pansr\\AppData\\Local\\Temp/ipykernel_4860/1874098614.py\", line 67, in sol_to_y\n",
      "    value = sol[var.name].data\n",
      "  File \"c:\\users\\pansr\\documents\\research\\pybamm\\pybamm\\solvers\\solution.py\", line 511, in __getitem__\n",
      "    self.update(key)\n",
      "  File \"c:\\users\\pansr\\documents\\research\\pybamm\\pybamm\\solvers\\solution.py\", line 484, in update\n",
      "    var = pybamm.ProcessedVariable(vars_pybamm, vars_casadi, self)\n",
      "  File \"c:\\users\\pansr\\documents\\research\\pybamm\\pybamm\\solvers\\processed_variable.py\", line 83, in __init__\n",
      "    self.initialise_0D()\n",
      "  File \"c:\\users\\pansr\\documents\\research\\pybamm\\pybamm\\solvers\\processed_variable.py\", line 117, in initialise_0D\n",
      "    y = ys[:, inner_idx]\n",
      "stopit.utils.TimeoutException\n"
     ]
    }
   ],
   "source": [
    "train_len = 3\n",
    "data_train = dfe.iloc[:train_len]\n",
    "print(train_len)\n",
    "x = [df_x['x_0'][train_len-3],df_x['x_1'][train_len-3],df_x['x_2'][train_len-3]]\n",
    "experiment_train = pybamm.Experiment(\n",
    "        [\n",
    "            (\"Discharge at \"+c_rate_d+dis_set,\n",
    "            \"Rest for 5 min\",\n",
    "            \"Charge at \"+c_rate_c+\" until 4.2V\", \n",
    "            \"Hold at 4.2V until C/50\")\n",
    "        ] *data_train.N.iloc[-1],\n",
    "        termination=\"50% capacity\",\n",
    "    #     cccv_handling=\"ode\",\n",
    "    )\n",
    "sol_out_0 = simulate(x,experiment_train,timeout = 30)\n",
    "sol_full_0 = simulate(x,experiment,timeout = 30)\n",
    "train_len = 5\n",
    "data_train = dfe.iloc[:train_len]\n",
    "print(train_len)\n",
    "x = [df_x['x_0'][train_len-3],df_x['x_1'][train_len-3],df_x['x_2'][train_len-3]]\n",
    "experiment_train = pybamm.Experiment(\n",
    "        [\n",
    "            (\"Discharge at \"+c_rate_d+dis_set,\n",
    "            \"Rest for 5 min\",\n",
    "            \"Charge at \"+c_rate_c+\" until 4.2V\", \n",
    "            \"Hold at 4.2V until C/50\")\n",
    "        ] *data_train.N.iloc[-1],\n",
    "        termination=\"50% capacity\",\n",
    "    #     cccv_handling=\"ode\",\n",
    "    )\n",
    "sol_out_1 = simulate(x,experiment_train,timeout = 30)\n",
    "sol_full_1 = simulate(x,experiment,timeout = 30)\n",
    "# plot_comp(sol_out,sol_full,dfe)\n"
   ]
  },
  {
   "cell_type": "code",
   "execution_count": null,
   "metadata": {},
   "outputs": [],
   "source": [
    "esoh_data = dfe_0\n",
    "train_0 = sol_out_0.copy() \n",
    "train_0[\"Cycle number\"] = train_0[\"Cycle number\"] + dfe_0['N'][1]\n",
    "pred_0 = sol_full_0.copy()\n",
    "pred_0[\"Cycle number\"] = pred_0[\"Cycle number\"] + dfe_0['N'][1]\n",
    "train_1 = sol_out_1.copy() \n",
    "train_1[\"Cycle number\"] = train_1[\"Cycle number\"] + dfe_0['N'][1]\n",
    "pred_1 = sol_full_1.copy()\n",
    "pred_1[\"Cycle number\"] = pred_1[\"Cycle number\"] + dfe_0['N'][1]\n",
    "esoh_vars = [\"x_100\", \"y_0\", \"C_n\", \"C_p\", \"Capacity [A.h]\", \"Loss of lithium inventory [%]\"]\n",
    "yl = [\"$x_{100}$\", \"$y_{0}$\", \"$C_n$\", \"$C_p$\", \"Capacity [A.h]\", \"LLI [%]\"]\n",
    "esoh_data[\"Capacity [A.h]\"]=esoh_data[\"Cap\"]\n",
    "param = pybamm.LithiumIonParameters()\n",
    "esoh_data[\"n_Li\"]= 3600/param.F.value*(esoh_data[\"y_100\"]*esoh_data[\"C_p\"]+esoh_data[\"x_100\"]*esoh_data[\"C_n\"])\n",
    "esoh_data[\"Loss of lithium inventory [%]\"]=(1-esoh_data[\"n_Li\"]/esoh_data[\"n_Li\"][0])*100\n",
    "fig, axes = plt.subplots(3,2,figsize=(7,7))\n",
    "for k, name in enumerate(esoh_vars):\n",
    "    ax = axes.flat[k]\n",
    "    ax.plot(train_0[\"Cycle number\"],train_0[name],\"b^\",markevery=10)\n",
    "    ax.plot(pred_0[\"Cycle number\"][len(train_0[\"Cycle number\"]):],pred_0[name][len(train_0[\"Cycle number\"]):],\"b1\",markevery=10)\n",
    "    ax.plot(train_1[\"Cycle number\"],train_1[name],\"r^\",markevery=10)\n",
    "    ax.plot(pred_1[\"Cycle number\"][len(train_1[\"Cycle number\"]):],pred_1[name][len(train_1[\"Cycle number\"]):],\"r1\",markevery=10)\n",
    "    # ax.plot(pred_0[\"Cycle number\"],pred_0[name],\"bo\")\n",
    "    ax.plot(esoh_data[\"N\"],esoh_data[name],\"ko\")\n",
    "    ax.axvline(x = train_0[\"Cycle number\"][-1], color = 'b', label = 'axvline - full height')\n",
    "    ax.axvline(x = train_1[\"Cycle number\"][-1], color = 'r', label = 'axvline - full height')\n",
    "    # ax.set_title(split_long_string(name))\n",
    "    ax.set_ylabel(yl[k])\n",
    "    if k==2 or k==3:\n",
    "        ax.set_ylim([4,6])\n",
    "    if k>3:\n",
    "        ax.set_xlabel(\"Cycle number\")\n",
    "fig.legend([\"Train Length =3\"]+[\"Prediction Length =3\"] + [\"Train Length = 5\"]+[\"Prediction Length = 5\"], loc=\"lower center\",bbox_to_anchor=[0.5, -0.08], ncol=2, fontsize=11)\n",
    "fig.tight_layout()\n",
    "# fig.savefig(fig_DIR + \"ECS_fig1.png\",bbox_inches='tight')\n"
   ]
  },
  {
   "cell_type": "code",
   "execution_count": null,
   "metadata": {},
   "outputs": [],
   "source": [
    "len(pred_0[\"C_n\"])"
   ]
  },
  {
   "cell_type": "markdown",
   "metadata": {},
   "source": [
    "## Plot Tuned Parameters"
   ]
  },
  {
   "cell_type": "code",
   "execution_count": 61,
   "metadata": {},
   "outputs": [],
   "source": [
    "colors = ['b','r','g','y']"
   ]
  },
  {
   "cell_type": "markdown",
   "metadata": {},
   "source": [
    "# Reversible Expansion"
   ]
  },
  {
   "cell_type": "code",
   "execution_count": null,
   "metadata": {},
   "outputs": [],
   "source": [
    "ic=0"
   ]
  },
  {
   "cell_type": "code",
   "execution_count": null,
   "metadata": {},
   "outputs": [],
   "source": []
  },
  {
   "cell_type": "code",
   "execution_count": 72,
   "metadata": {},
   "outputs": [],
   "source": [
    "experiment_rev_exp = pybamm.Experiment(\n",
    "    [\n",
    "        \"Charge at \"+c_rate_c+\" until 4.2V\", \n",
    "        # \"Hold at 4.2V until C/50\"\n",
    "    ],\n",
    ")"
   ]
  },
  {
   "cell_type": "code",
   "execution_count": 73,
   "metadata": {},
   "outputs": [],
   "source": [
    "dis_set = \" until 3V\"\n",
    "c_rate_d = 'C/20'\n",
    "c_rate_c = 'C/20'\n",
    "experiment_rev_exp = pybamm.Experiment(\n",
    "    [\n",
    "        \"Discharge at \"+c_rate_d+dis_set,\n",
    "        \"Rest for 60 min\",\n",
    "        \"Charge at \"+c_rate_c+\" until 4.2V\", \n",
    "        # \"Hold at 4.2V until C/50\"\n",
    "    ],\n",
    ")\n",
    "Ns = np.insert(N[1:]-1,0,0)"
   ]
  },
  {
   "cell_type": "code",
   "execution_count": null,
   "metadata": {},
   "outputs": [],
   "source": []
  },
  {
   "cell_type": "code",
   "execution_count": 74,
   "metadata": {},
   "outputs": [],
   "source": [
    "def rev_exp(cyc_no,eSOH):\n",
    "    # dfo = dfo_0[dfo_0['N']==N[cyc_no]]\n",
    "    model = spm\n",
    "    Vmin = 3.0\n",
    "    Vmax = 4.2\n",
    "    esoh_model = pybamm.lithium_ion.ElectrodeSOH()\n",
    "    esoh_sim = pybamm.Simulation(esoh_model, parameter_values=parameter_values)\n",
    "    param = model.param\n",
    "    Cn = eSOH[\"C_n\"][Ns[cyc_no]]\n",
    "    # print(Cn)\n",
    "    Cp = eSOH[\"C_p\"][Ns[cyc_no]]\n",
    "    c_n_max = parameter_values.evaluate(param.c_n_max)\n",
    "    c_p_max = parameter_values.evaluate(param.c_p_max)\n",
    "    n_Li_init = eSOH[\"Total lithium in particles [mol]\"][Ns[cyc_no]]\n",
    "    eps_n_data = parameter_values.evaluate(Cn*3600/(param.L_n * param.c_n_max * param.F* param.A_cc))\n",
    "    eps_p_data = parameter_values.evaluate(Cp*3600/(param.L_p * param.c_p_max * param.F* param.A_cc))\n",
    "\n",
    "    esoh_sol = esoh_sim.solve(\n",
    "        [0],\n",
    "        inputs={\"V_min\": Vmin, \"V_max\": Vmax, \"C_n\": Cn, \"C_p\": Cp, \"n_Li\": n_Li_init},\n",
    "        solver=pybamm.AlgebraicSolver(),\n",
    "    )\n",
    "\n",
    "    parameter_values.update(\n",
    "        {\n",
    "            \"Initial concentration in negative electrode [mol.m-3]\": esoh_sol[\n",
    "       \"x_100\"\n",
    "            ].data[0]\n",
    "            * c_n_max,\n",
    "            \"Initial concentration in positive electrode [mol.m-3]\": esoh_sol[\n",
    "                \"y_100\"\n",
    "            ].data[0]\n",
    "            * c_p_max,\n",
    "            \"Negative electrode active material volume fraction\": eps_n_data,\n",
    "            \"Positive electrode active material volume fraction\": eps_p_data,\n",
    "            \n",
    "        }\n",
    "    )\n",
    "\n",
    "    sim_ode = pybamm.Simulation(\n",
    "        model, experiment=experiment_rev_exp, parameter_values=parameter_values,\n",
    "        solver=pybamm.CasadiSolver(\"safe\")\n",
    "    )\n",
    "    sol_exp = sim_ode.solve()\n",
    "    t_t = sol_exp[\"Time [min]\"].entries\n",
    "    I_t = sol_exp[\"Current [A]\"].entries\n",
    "    Q_t = -sol_exp['Discharge capacity [A.h]'].entries\n",
    "    Vt_t = sol_exp[\"Terminal voltage [V]\"].entries\n",
    "    exp_t = 30e6*sol_exp[\"Cell thickness change [m]\"].entries\n",
    "    return exp_t"
   ]
  },
  {
   "cell_type": "code",
   "execution_count": 75,
   "metadata": {},
   "outputs": [
    {
     "name": "stdout",
     "output_type": "stream",
     "text": [
      "3\n"
     ]
    },
    {
     "ename": "NameError",
     "evalue": "name 'sol_full_0' is not defined",
     "output_type": "error",
     "traceback": [
      "\u001b[1;31m---------------------------------------------------------------------------\u001b[0m",
      "\u001b[1;31mNameError\u001b[0m                                 Traceback (most recent call last)",
      "\u001b[1;32m~\\AppData\\Local\\Temp/ipykernel_4860/2619182934.py\u001b[0m in \u001b[0;36m<module>\u001b[1;34m\u001b[0m\n\u001b[0;32m      3\u001b[0m \u001b[0mrev_exp_0\u001b[0m \u001b[1;33m=\u001b[0m \u001b[1;33m[\u001b[0m\u001b[1;33m]\u001b[0m\u001b[1;33m\u001b[0m\u001b[1;33m\u001b[0m\u001b[0m\n\u001b[0;32m      4\u001b[0m \u001b[1;32mfor\u001b[0m \u001b[0mcyc_no\u001b[0m \u001b[1;32min\u001b[0m \u001b[0mrange\u001b[0m\u001b[1;33m(\u001b[0m\u001b[0mlen\u001b[0m\u001b[1;33m(\u001b[0m\u001b[0mN\u001b[0m\u001b[1;33m)\u001b[0m\u001b[1;33m)\u001b[0m\u001b[1;33m:\u001b[0m\u001b[1;33m\u001b[0m\u001b[1;33m\u001b[0m\u001b[0m\n\u001b[1;32m----> 5\u001b[1;33m     \u001b[0mexp\u001b[0m \u001b[1;33m=\u001b[0m \u001b[0mrev_exp\u001b[0m\u001b[1;33m(\u001b[0m\u001b[0mcyc_no\u001b[0m\u001b[1;33m,\u001b[0m\u001b[0msol_full_0\u001b[0m\u001b[1;33m)\u001b[0m\u001b[1;33m\u001b[0m\u001b[1;33m\u001b[0m\u001b[0m\n\u001b[0m\u001b[0;32m      6\u001b[0m     \u001b[1;31m# print(cyc_no)\u001b[0m\u001b[1;33m\u001b[0m\u001b[1;33m\u001b[0m\u001b[0m\n\u001b[0;32m      7\u001b[0m     \u001b[1;31m# print(max(abs(exp)))\u001b[0m\u001b[1;33m\u001b[0m\u001b[1;33m\u001b[0m\u001b[0m\n",
      "\u001b[1;31mNameError\u001b[0m: name 'sol_full_0' is not defined"
     ]
    }
   ],
   "source": [
    "train_len = 3\n",
    "print(train_len)\n",
    "rev_exp_0 = []\n",
    "for cyc_no in range(len(N)):\n",
    "    exp = rev_exp(cyc_no,sol_full_0)\n",
    "    # print(cyc_no)\n",
    "    # print(max(abs(exp)))\n",
    "    rev_exp_0.append(max(abs(exp)))\n",
    "train_len = 5\n",
    "print(train_len)\n",
    "rev_exp_1 = []\n",
    "for cyc_no in range(len(N)):\n",
    "    exp = rev_exp(cyc_no,sol_full_1)\n",
    "    # print(cyc_no)\n",
    "    # print(max(abs(exp)))\n",
    "    rev_exp_1.append(max(abs(exp)))\n"
   ]
  },
  {
   "cell_type": "code",
   "execution_count": null,
   "metadata": {},
   "outputs": [],
   "source": [
    "pred_0.keys()"
   ]
  },
  {
   "cell_type": "code",
   "execution_count": null,
   "metadata": {},
   "outputs": [],
   "source": [
    "esoh_data = dfe_0\n",
    "train_0 = sol_out_0.copy() \n",
    "train_0[\"Cycle number\"] = train_0[\"Cycle number\"] + dfe_0['N'][1]\n",
    "pred_0 = sol_full_0.copy()\n",
    "pred_0[\"Cycle number\"] = pred_0[\"Cycle number\"] + dfe_0['N'][1]\n",
    "train_1 = sol_out_1.copy() \n",
    "train_1[\"Cycle number\"] = train_1[\"Cycle number\"] + dfe_0['N'][1]\n",
    "pred_1 = sol_full_1.copy()\n",
    "pred_1[\"Cycle number\"] = pred_1[\"Cycle number\"] + dfe_0['N'][1]\n",
    "pred_0[\"rev_exp\"] = rev_exp_0\n",
    "pred_1[\"rev_exp\"] = rev_exp_1\n",
    "esoh_vars = [\"x_100\", \"y_0\", \"C_n\", \"C_p\"]\n",
    "yl = [\"$x_{100}$\", \"$y_{0}$\", \"$C_n$\", \"$C_p$\", \"Capacity [A.h]\", \"LLI [%]\"]\n",
    "esoh_data[\"Loss of active material in negative electrode [%]\"]=(1-esoh_data[\"C_n\"]/esoh_data[\"C_n\"][0])*100\n",
    "param = pybamm.LithiumIonParameters()\n",
    "esoh_data[\"n_Li\"]= 3600/param.F.value*(esoh_data[\"y_100\"]*esoh_data[\"C_p\"]+esoh_data[\"x_100\"]*esoh_data[\"C_n\"])\n",
    "esoh_data[\"Loss of lithium inventory [%]\"]=(1-esoh_data[\"n_Li\"]/esoh_data[\"n_Li\"][0])*100\n",
    "esoh_data[\"Capacity [A.h]\"]=esoh_data[\"Cap\"]\n",
    "fig, axes = plt.subplots(4,2,figsize=(9,7))\n",
    "for k, name in enumerate(esoh_vars):\n",
    "    ax = axes.flat[k]\n",
    "    ax.plot(train_0[\"Cycle number\"],train_0[name],\"b^\",markevery=10)\n",
    "    ax.plot(pred_0[\"Cycle number\"][len(train_0[\"Cycle number\"]):],pred_0[name][len(train_0[\"Cycle number\"]):],\"b1\",markevery=10)\n",
    "    ax.plot(train_1[\"Cycle number\"],train_1[name],\"r^\",markevery=10)\n",
    "    ax.plot(pred_1[\"Cycle number\"][len(train_1[\"Cycle number\"]):],pred_1[name][len(train_1[\"Cycle number\"]):],\"r1\",markevery=10)\n",
    "    # ax.plot(pred_0[\"Cycle number\"],pred_0[name],\"bo\")\n",
    "    ax.plot(esoh_data[\"N\"],esoh_data[name],\"ko\")\n",
    "    ax.axvline(x = train_0[\"Cycle number\"][-1], color = 'b', label = 'axvline - full height')\n",
    "    ax.axvline(x = train_1[\"Cycle number\"][-1], color = 'r', label = 'axvline - full height')\n",
    "    # ax.set_title(split_long_string(name))\n",
    "    ax.set_ylabel(yl[k])\n",
    "ax4 = axes.flat[4]\n",
    "name=\"Capacity [A.h]\"\n",
    "ax4.plot(pred_0[\"Cycle number\"],pred_0[name],\"b1\",markevery=10)\n",
    "ax4.plot(pred_1[\"Cycle number\"],pred_1[name],\"r1\",markevery=10)\n",
    "# ax.plot(pred_0[\"Cycle number\"],pred_0[name],\"bo\")\n",
    "ax4.plot(esoh_data[\"N\"],esoh_data[name],\"ko\")\n",
    "# ax.set_title(split_long_string(name))\n",
    "ax4.set_ylabel(\"Capacity [A.h]\")\n",
    "\n",
    "ax5 = axes.flat[5]\n",
    "name = \"rev_exp\"\n",
    "ax5.plot(esoh_data[\"N\"],esoh_data[name],\"ko\")\n",
    "ax5.plot(pred_0[\"Cycle number\"][Ns],pred_0[name],\"b1\",markersize=8)\n",
    "ax5.plot(pred_1[\"Cycle number\"][Ns],pred_1[name],\"r1\",markersize=8)\n",
    "ax5.set_ylabel(\"Rev Exp [$\\mu$m]\")\n",
    "\n",
    "ax6 = axes.flat[6]\n",
    "name=\"Loss of active material in negative electrode [%]\"\n",
    "ax6.plot(esoh_data[\"N\"],esoh_data[name],\"ko\")\n",
    "ax6.plot(pred_0[\"Cycle number\"],pred_0[name],\"b1\",markevery=10)\n",
    "ax6.plot(pred_1[\"Cycle number\"],pred_1[name],\"r1\",markevery=10)\n",
    "ax6.set_ylabel(\"LAM$_{NE}$ [%]\")\n",
    "\n",
    "ax7 = axes.flat[7]\n",
    "name=\"Loss of lithium inventory [%]\"\n",
    "ax7.plot(esoh_data[\"N\"],esoh_data[name],\"ko\")\n",
    "ax7.plot(pred_0[\"Cycle number\"],pred_0[name],\"b1\",markevery=10)\n",
    "ax7.plot(pred_1[\"Cycle number\"],pred_1[name],\"r1\",markevery=10)\n",
    "# ax.plot(pred_0[\"Cycle number\"],pred_0[name],\"bo\")\n",
    "\n",
    "# ax.set_title(split_long_string(name))\n",
    "ax7.set_ylabel(\"LLI [%]\")\n",
    "# ax.plot(esoh_data[\"N\"],esoh_data[\"rev_exp\"],\"ko\")\n",
    "\n",
    "\n",
    "fig.legend([\"Train Length =3\"]+[\"Prediction Length =3\"] + [\"Train Length = 5\"]+[\"Prediction Length = 5\"], loc=\"lower center\",bbox_to_anchor=[0.5, -0.08], ncol=2, fontsize=11)\n",
    "fig.tight_layout()\n",
    "fig.savefig(fig_DIR + \"ECS_fig1_new.jpg\",bbox_inches='tight')\n"
   ]
  },
  {
   "cell_type": "code",
   "execution_count": null,
   "metadata": {},
   "outputs": [],
   "source": [
    "N_0[5]"
   ]
  },
  {
   "cell_type": "code",
   "execution_count": null,
   "metadata": {},
   "outputs": [],
   "source": [
    "fig, ax = plt.subplots(1,1,figsize=(4,3))\n",
    "ic=0\n",
    "sim_des = \"ic_\"+str(ic)\n",
    "df_x = pd.read_csv(res_DIR + \"fit_train_pred_\"+sim_des+\".csv\").drop(['Unnamed: 0'],axis=1)\n",
    "ax.plot(df_x['train_len'],df_x['obj_full'],'x-',color=colors[ic])\n",
    "ax.set_title('Norm of Pred Error')\n",
    "ax.set_xlabel('Training Length')\n",
    "fig.tight_layout()    \n",
    "fig.savefig(fig_DIR +'ECS_fig3'+'.png',bbox_inches='tight')"
   ]
  },
  {
   "cell_type": "code",
   "execution_count": null,
   "metadata": {},
   "outputs": [],
   "source": [
    "fig, ax = plt.subplots(1,1,figsize=(4,3))\n",
    "for ic in range(0,4):\n",
    "    sim_des = \"ic_\"+str(ic)\n",
    "    df_x = pd.read_csv(res_DIR + \"fit_train_pred_\"+sim_des+\".csv\").drop(['Unnamed: 0'],axis=1)\n",
    "    ax.plot(df_x['train_len'],df_x['obj_full'],'x-',color=colors[ic])\n",
    "    ax.set_title('Norm of Error with Weights')\n",
    "    ax.set_xlabel('Training Length')\n",
    "fig.legend([\"ic = 0\",\"ic = 1\",\"ic = 2\",\"ic = 3\"],ncol=4,loc='lower center',bbox_to_anchor=[0.5,-0.05])\n",
    "fig.tight_layout()    \n",
    "fig.savefig(fig_DIR +'norm_obj_all_ic'+'.png',bbox_inches='tight')"
   ]
  },
  {
   "cell_type": "code",
   "execution_count": null,
   "metadata": {},
   "outputs": [],
   "source": []
  },
  {
   "cell_type": "code",
   "execution_count": null,
   "metadata": {},
   "outputs": [],
   "source": [
    "fig, axes = plt.subplots(1,3,figsize=(6,3))\n",
    "for ic in range(0,4):\n",
    "    sim_des = \"ic_\"+str(ic)\n",
    "    df_x = pd.read_csv(res_DIR + \"fit_train_pred_\"+sim_des+\".csv\").drop(['Unnamed: 0'],axis=1)\n",
    "    ax1 = axes.flat[0]\n",
    "    ax1.plot(df_x['train_len'],df_x['x_0']*blam_p[ic],'x-',color=colors[ic])\n",
    "    ax1.plot(df_x['train_len'][0],blam_p[ic],'v',color=colors[ic],label='_nolegend_')\n",
    "    # ax1.set_xticks([])\n",
    "    ax1.set_title(r'$\\beta_{LAM}^+$')\n",
    "    ax2 = axes.flat[1]\n",
    "    ax2.plot(df_x['train_len'],df_x['x_1']*blam_n[ic],'x-',color=colors[ic])\n",
    "    ax2.plot(df_x['train_len'][0],blam_n[ic],'v',color=colors[ic],label='_nolegend_')\n",
    "    ax2.set_title(r'$\\beta_{LAM}^-$')\n",
    "    ax3 = axes.flat[2]\n",
    "    ax3.plot(df_x['train_len'],df_x['x_2']*k_sei[ic],'x-',color=colors[ic])\n",
    "    ax3.plot(df_x['train_len'][0],k_sei[ic],'v',color=colors[ic],label='_nolegend_')\n",
    "    ax3.set_title(r'$\\kappa_{SEI}$')\n",
    "    ax2.set_xlabel('Training Length')\n",
    "fig.tight_layout()  \n",
    "fig.legend([\"ic = 0\",\"ic = 1\",\"ic = 2\",\"ic = 3\"],ncol=2,loc='lower center',bbox_to_anchor=[0.5,-0.1])\n",
    "# fig.savefig(fig_DIR +'ECS_fig2'+'.png',bbox_inches='tight')"
   ]
  },
  {
   "cell_type": "code",
   "execution_count": null,
   "metadata": {},
   "outputs": [],
   "source": [
    "ic =0\n",
    "sim_des = \"ic_0\"\n",
    "df_x = pd.read_csv(res_DIR + \"fit_train_pred_\"+sim_des+\".csv\").drop(['Unnamed: 0'],axis=1)\n",
    "df_x\n",
    "blam_p = [2e-2/3600, 4e-6, 1e-5,1e-6]\n",
    "blam_n = [2e-1/3600, 3e-5, 2e-5,7e-5]\n",
    "k_sei= [1.6e-16,1.5e-16,1.7e-16,1.3e-16]\n",
    "colors = ['b','r','g','y']\n",
    "sim_des = \"acc_ic_0\"\n",
    "df_y = pd.read_csv(res_DIR + \"fit_train_pred_\"+sim_des+\".csv\").drop(['Unnamed: 0'],axis=1)"
   ]
  },
  {
   "cell_type": "code",
   "execution_count": null,
   "metadata": {},
   "outputs": [],
   "source": [
    "n1 = 2\n",
    "print(df_x['train_len'].iloc[n1])\n",
    "print(df_x['x_0'].iloc[n1]*blam_p[ic])\n",
    "print(df_x['x_1'].iloc[n1]*blam_n[ic])\n",
    "print(df_x['x_2'].iloc[n1]*k_sei[ic])"
   ]
  },
  {
   "cell_type": "code",
   "execution_count": null,
   "metadata": {},
   "outputs": [],
   "source": [
    "fig, axes = plt.subplots(1,3,figsize=(6,3))\n",
    "ax1 = axes.flat[0]\n",
    "ax2 = axes.flat[1]\n",
    "ax3 = axes.flat[2]\n",
    "ax1.plot(df_x['train_len'].tail(1),8.357e-6,'k*')\n",
    "ax2.plot(df_x['train_len'].tail(1),5.803e-5,'k*',label='_nolegend_')\n",
    "ax3.plot(df_x['train_len'].tail(1),1.683e-16,'k*',label='_nolegend_')\n",
    "ic=0\n",
    "sim_des = \"ic_\"+str(ic)\n",
    "df_x = pd.read_csv(res_DIR + \"fit_train_pred_\"+sim_des+\".csv\").drop(['Unnamed: 0'],axis=1)\n",
    "ax1.plot(df_x['train_len'],df_x['x_0']*blam_p[ic],'bx-')\n",
    "ax1.plot(df_y['train_len'],df_y['x_0']*blam_p[ic],'rv')\n",
    "# ax1.set_xticks([])\n",
    "ax1.set_title(r'$\\beta_{LAM}^+$')\n",
    "ax2.plot(df_x['train_len'],df_x['x_1']*blam_n[ic],'bx-')\n",
    "ax2.plot(df_y['train_len'],df_y['x_1']*blam_n[ic],'rv')\n",
    "ax2.set_title(r'$\\beta_{LAM}^-$')\n",
    "ax3.plot(df_x['train_len'],df_x['x_2']*k_sei[ic],'x-',color=colors[ic])\n",
    "ax3.set_title(r'$\\kappa_{SEI}$')\n",
    "ax2.set_xlabel('Training Length')\n",
    "fig.tight_layout()  \n",
    "fig.legend([\"ACC\",\"ECS tuning all 3\",r\"ECS tuning only $ \\beta $\"],ncol=3,loc='lower center',bbox_to_anchor=[0.5,-0.1])\n",
    "fig.savefig(fig_DIR +'ECS_ACC'+'.png',bbox_inches='tight')"
   ]
  }
 ],
 "metadata": {
  "kernelspec": {
   "display_name": "Python 3.9.7 ('windows-dev': venv)",
   "language": "python",
   "name": "python3"
  },
  "language_info": {
   "codemirror_mode": {
    "name": "ipython",
    "version": 3
   },
   "file_extension": ".py",
   "mimetype": "text/x-python",
   "name": "python",
   "nbconvert_exporter": "python",
   "pygments_lexer": "ipython3",
   "version": "3.9.7"
  },
  "orig_nbformat": 4,
  "vscode": {
   "interpreter": {
    "hash": "fe6e1a396f7757d05554318f98bb2d7e7d3785df9fdbcce0707f057fad4349a9"
   }
  }
 },
 "nbformat": 4,
 "nbformat_minor": 2
}
