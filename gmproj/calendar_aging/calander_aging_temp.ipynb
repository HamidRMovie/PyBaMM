{
 "cells": [
  {
   "cell_type": "code",
   "execution_count": null,
   "metadata": {},
   "outputs": [],
   "source": [
    "import pybamm\n",
    "import matplotlib.pyplot as plt\n",
    "import numpy as np\n",
    "import pandas as pd\n",
    "import math\n",
    "import dfols\n",
    "import signal\n",
    "from scipy.integrate import solve_ivp\n",
    "from scipy.fft import fft, fftfreq, fftshift\n",
    "from scipy.signal import savgol_filter\n",
    "from scipy.signal import find_peaks\n",
    "from scipy import interpolate\n",
    "from stopit import threading_timeoutable as timeoutable\n",
    "import os, sys\n",
    "sys.path.append(os.path.dirname(os.path.dirname(os.path.abspath(\"__file__\"))))\n",
    "from batfuns import *\n",
    "plt.rcParams = set_rc_params(plt.rcParams)\n",
    "\n",
    "eSOH_DIR = \"../data/esoh_V/\"\n",
    "oCV_DIR = \"../data/ocv/\"\n",
    "fig_DIR = \"../figures/figures_cal/\"\n",
    "res_DIR = \"../data/results_cal/\""
   ]
  },
  {
   "cell_type": "code",
   "execution_count": null,
   "metadata": {},
   "outputs": [],
   "source": [
    "parameter_values = get_parameter_values()"
   ]
  },
  {
   "cell_type": "code",
   "execution_count": null,
   "metadata": {},
   "outputs": [],
   "source": [
    "spm = pybamm.lithium_ion.SPM(\n",
    "    {\n",
    "        \"SEI\": \"ec reaction limited\",\n",
    "        # \"loss of active material\": (\"stress-driven\",\"none\"),\n",
    "        \"loss of active material\": \"stress-driven\",\n",
    "        # \"stress-induced diffusion\": \"true\",\n",
    "        # \"lithium plating\": \"reversible\",\n",
    "    }\n",
    ")\n",
    "# spm.print_parameter_info()"
   ]
  },
  {
   "cell_type": "code",
   "execution_count": null,
   "metadata": {},
   "outputs": [],
   "source": [
    "cell = 22\n",
    "# cell = 23"
   ]
  },
  {
   "cell_type": "code",
   "execution_count": null,
   "metadata": {},
   "outputs": [],
   "source": [
    "cell_no,dfe,N = load_data_calendar(cell,eSOH_DIR)"
   ]
  },
  {
   "cell_type": "code",
   "execution_count": null,
   "metadata": {},
   "outputs": [],
   "source": [
    "# C_n_init,C_p_init,x_init,y_init,c_rate_c,c_rate_d,dis_set = init_exp(cell_no,dfe)\n",
    "param = spm.param\n",
    "eps_n_data,eps_p_data,SOC_0,Temp = init_exp_calendar(cell_no,dfe,param,parameter_values)"
   ]
  },
  {
   "cell_type": "code",
   "execution_count": null,
   "metadata": {},
   "outputs": [],
   "source": [
    "pybamm.set_logging_level(\"WARNING\")\n",
    "# pybamm.set_logging_level(\"NOTICE\")\n",
    "calendar_time = 24\n",
    "experiment = pybamm.Experiment(\n",
    "    [\n",
    "        (\"Rest for \"+f'{calendar_time}'+\" hours\",)\n",
    "    ]*250 ,\n",
    "    termination=\"50% capacity\",\n",
    "#     cccv_handling=\"ode\",\n",
    ")"
   ]
  },
  {
   "cell_type": "code",
   "execution_count": null,
   "metadata": {},
   "outputs": [],
   "source": [
    "Temp = [25,45,-5]\n",
    "k_sei = [1,1/1.5,1.5,1/2,2,1/3,3,1/10,10]\n",
    "# d_sei = [1,1/1.5,1.5,1/2,2,1/3,3,1/10,100]\n",
    "d_sei = [1,1e-1,1e1,1e-2,1e2,1e-3,1e3,1e-4,1e4]"
   ]
  },
  {
   "cell_type": "code",
   "execution_count": null,
   "metadata": {},
   "outputs": [],
   "source": [
    "ksei_idx = 0\n",
    "dsei_idx = 0\n",
    "Temp_idx = 2"
   ]
  },
  {
   "cell_type": "code",
   "execution_count": null,
   "metadata": {},
   "outputs": [],
   "source": [
    "parameter_values = get_parameter_values()\n",
    "\n",
    "parameter_values.update(\n",
    "    {\n",
    "        \"SEI kinetic rate constant [m.s-1]\": 1.6827e-16*k_sei[ksei_idx], #1.6827e-16\n",
    "        # \"Positive electrode LAM constant proportional term [s-1]\": 4.20e-06, #4.03536e-06\n",
    "        # \"Negative electrode LAM constant proportional term [s-1]\": 5.38e-05, #5.24755e-05\n",
    "        \"Positive electrode LAM constant proportional term [s-1]\": 5e-3/3600,\n",
    "        \"Negative electrode LAM constant proportional term [s-1]\": 4.3e-2/3600,\n",
    "        \"EC diffusivity [m2.s-1]\": 2e-18*d_sei[dsei_idx],\n",
    "        \"Positive electrode LAM constant exponential term\": 2,\n",
    "        \"Negative electrode LAM constant exponential term\": 2,\n",
    "        \"Negative electrode active material volume fraction\": eps_n_data,\n",
    "        \"Positive electrode active material volume fraction\": eps_p_data,\n",
    "        # \"Initial concentration in positive electrode [mol.m-3]\": y_init*c_p_max,\n",
    "        # \"Initial concentration in negative electrode [mol.m-3]\": x_init*c_n_max,\n",
    "        \"Initial temperature [K]\": 273.15+Temp[Temp_idx],\n",
    "        \"Ambient temperature [K]\": 273.15+Temp[Temp_idx],\n",
    "        \"SEI growth activation energy [J.mol-1]\": 5000,\n",
    "    },\n",
    "    check_already_exists=False,\n",
    ")"
   ]
  },
  {
   "cell_type": "code",
   "execution_count": null,
   "metadata": {},
   "outputs": [],
   "source": [
    "parameter_values.search(\"SEI\")"
   ]
  },
  {
   "cell_type": "code",
   "execution_count": null,
   "metadata": {},
   "outputs": [],
   "source": [
    "all_sumvars_dict = cycle_adaptive_simulation(spm, parameter_values, experiment,SOC_0, save_at_cycles=1)"
   ]
  },
  {
   "cell_type": "code",
   "execution_count": null,
   "metadata": {},
   "outputs": [],
   "source": [
    "# fig = plotc(all_sumvars_dict,dfe);\n",
    "# plt.savefig(fig_DIR +'calendar_aging_cell_'+cell_no+'_eSOH.png')"
   ]
  },
  {
   "cell_type": "code",
   "execution_count": null,
   "metadata": {},
   "outputs": [],
   "source": [
    "Temp_idx = 1"
   ]
  },
  {
   "cell_type": "code",
   "execution_count": null,
   "metadata": {},
   "outputs": [],
   "source": [
    "parameter_values.update(\n",
    "        {\n",
    "            \"SEI kinetic rate constant [m.s-1]\": 1.6827e-16*k_sei[ksei_idx], #1.6827e-16\n",
    "            \"Positive electrode LAM constant proportional term [s-1]\": 5e-3/3600,\n",
    "            \"Negative electrode LAM constant proportional term [s-1]\": 4.3e-2/3600,\n",
    "            \"EC diffusivity [m2.s-1]\": 2e-18*d_sei[dsei_idx],\n",
    "            \"Initial temperature [K]\": 273.15+Temp[Temp_idx],\n",
    "            \"Ambient temperature [K]\": 273.15+Temp[Temp_idx],\n",
    "        },\n",
    "        check_already_exists=False,\n",
    "    )"
   ]
  },
  {
   "cell_type": "code",
   "execution_count": null,
   "metadata": {},
   "outputs": [],
   "source": [
    "all_sumvars_dict_1 = cycle_adaptive_simulation(spm, parameter_values, experiment,SOC_0, save_at_cycles=1)\n",
    "fig = plotcomp(all_sumvars_dict,all_sumvars_dict_1);"
   ]
  },
  {
   "cell_type": "code",
   "execution_count": null,
   "metadata": {},
   "outputs": [],
   "source": [
    "parameter_values.search(\"SEI growth\")"
   ]
  },
  {
   "cell_type": "code",
   "execution_count": null,
   "metadata": {},
   "outputs": [],
   "source": [
    "parameter_values.search(\"temperature\")"
   ]
  },
  {
   "cell_type": "markdown",
   "metadata": {},
   "source": [
    "## Parameter Fitting"
   ]
  },
  {
   "cell_type": "code",
   "execution_count": null,
   "metadata": {},
   "outputs": [],
   "source": [
    "def plot_comp(all_sumvars_dict_0,all_sumvars_dict_1,esoh_data):\n",
    "    esoh_vars = [\"x_100\", \"y_0\", \"C_n\", \"C_p\", \"Capacity [A.h]\", \"Loss of lithium inventory [%]\"]\n",
    "    esoh_data[\"Capacity [A.h]\"]=esoh_data[\"Cap\"]\n",
    "    param = pybamm.LithiumIonParameters()\n",
    "    esoh_data[\"n_Li\"]= 3600/param.F.value*(esoh_data[\"y_100\"]*esoh_data[\"C_p\"]+esoh_data[\"x_100\"]*esoh_data[\"C_n\"])\n",
    "    esoh_data[\"Loss of lithium inventory [%]\"]=(1-esoh_data[\"n_Li\"]/esoh_data[\"n_Li\"][0])*100\n",
    "    fig, axes = plt.subplots(3,2,figsize=(7,7))\n",
    "    for k, name in enumerate(esoh_vars):\n",
    "        ax = axes.flat[k]\n",
    "        ax.plot(all_sumvars_dict_1[\"Cycle number\"],all_sumvars_dict_1[name],\"bo\")\n",
    "        ax.plot(all_sumvars_dict_0[\"Cycle number\"],all_sumvars_dict_0[name],\"ro\")\n",
    "        # ax.plot(all_sumvars_dict_1[\"Cycle number\"],all_sumvars_dict_1[name],\"bo\")\n",
    "        ax.plot(esoh_data[\"N\"],esoh_data[name],\"kx\")\n",
    "        ax.axvline(x = all_sumvars_dict_0[\"Cycle number\"][-1], color = 'm', label = 'axvline - full height')\n",
    "        ax.set_title(split_long_string(name))\n",
    "        if k>3:\n",
    "            ax.set_xlabel(\"Cycle number\")\n",
    "    fig.legend([\"Pred\"]+[\"Train\"] + [\"Data\"], \n",
    "           loc=\"lower center\",bbox_to_anchor=[0.5, -0.05], ncol=1, fontsize=11)\n",
    "    fig.tight_layout()\n",
    "    return fig"
   ]
  },
  {
   "cell_type": "code",
   "execution_count": null,
   "metadata": {},
   "outputs": [],
   "source": [
    "def objective(model, data):\n",
    "    return np.array(model.loc[data['N_mod']][\"Capacity [A.h]\"]) - np.array(data[\"Cap\"])\n",
    "\n",
    "def multi_objective(model, data):\n",
    "    variables = [\"C_n\",\"C_p\",\"x_100\",\"y_0\"]\n",
    "    # variables = [\"Capacity [A.h]\", \"C_n\"]\n",
    "    weights = [1,1,5,5]\n",
    "    return np.concatenate([\n",
    "        (np.array(model.loc[data['N_mod']][var]) - np.array(data[var])) * w\n",
    "        for w,var in zip(weights,variables)\n",
    "    ]\n",
    "    )\n",
    "@timeoutable()\n",
    "def simulate(x,expt):\n",
    "    parameter_values = get_parameter_values()\n",
    "    parameter_values.update(\n",
    "        {\n",
    "            \"SEI kinetic rate constant [m.s-1]\":  x[2]*k_sei[ic],\n",
    "            \"Positive electrode LAM constant proportional term [s-1]\": x[0]* blam_p[ic],\n",
    "            \"Negative electrode LAM constant proportional term [s-1]\": x[1]*blam_n[ic],\n",
    "            \"EC diffusivity [m2.s-1]\": 2e-18,\n",
    "            \"Positive electrode LAM constant exponential term\": 2,\n",
    "            \"Negative electrode LAM constant exponential term\": 2,\n",
    "            \"Negative electrode active material volume fraction\": eps_n_data,\n",
    "            \"Positive electrode active material volume fraction\": eps_p_data,\n",
    "        },\n",
    "        check_already_exists=False,\n",
    "    )\n",
    "    Cn = parameter_values.evaluate(param.C_n_init)\n",
    "    Cp = parameter_values.evaluate(param.C_p_init)\n",
    "    eps_n = parameter_values[\"Negative electrode active material volume fraction\"]\n",
    "    eps_p = parameter_values[\"Positive electrode active material volume fraction\"]\n",
    "    C_over_eps_n = Cn / eps_n\n",
    "    C_over_eps_p = Cp / eps_p\n",
    "    return cycle_adaptive_simulation(spm, parameter_values, expt,save_at_cycles=1)\n",
    "def prediction_error(x,data,expt):\n",
    "    try:\n",
    "        model = simulate(x,expt,timeout=60)\n",
    "        out = multi_objective(pd.DataFrame(model), data)\n",
    "        print(f\"x={x}, norm={np.linalg.norm(out)}\")\n",
    "    # except pybamm.SolverError:\n",
    "    except:\n",
    "        out = 10*np.ones_like(np.concatenate([np.array(data['Cap'])]*4))\n",
    "        print(f\"x={x}, norm={np.linalg.norm(out)}\")\n",
    "        return out\n",
    "    return out\n",
    "def train_model(data,expt):\n",
    "    timer = pybamm.Timer()\n",
    "    x0 = np.array([1.0,1.0,1.0])\n",
    "    # print(prediction_error(x0))\n",
    "    soln_dfols = dfols.solve(prediction_error, x0,args=(data,expt), rhoend=1e-3)\n",
    "    print(timer.time())\n",
    "    return soln_dfols\n",
    "def sim_train(dfe,experiment,df,train_len):\n",
    "    data_train = dfe.iloc[:train_len]\n",
    "    experiment_train = pybamm.Experiment(\n",
    "        [\n",
    "            (\"Discharge at \"+c_rate_d+dis_set,\n",
    "            \"Rest for 5 min\",\n",
    "            \"Charge at \"+c_rate_c+\" until 4.2V\", \n",
    "            \"Hold at 4.2V until C/50\")\n",
    "        ] *data_train.N.iloc[-1],\n",
    "        termination=\"50% capacity\",\n",
    "    #     cccv_handling=\"ode\",\n",
    "    )\n",
    "    soln_dfols = train_model(data_train,experiment_train)\n",
    "    xsol = soln_dfols.x\n",
    "    # print(xsol[0]*2e-2/3600)\n",
    "    # print(xsol[1]*2e-1/3600)\n",
    "    # print(xsol[2]*1.6e-16)\n",
    "    df['train_len'][train_len-3]=train_len\n",
    "    df['x_0'][train_len-3]=round(xsol[0],4)\n",
    "    df['x_1'][train_len-3]=round(xsol[1],4)\n",
    "    df['x_2'][train_len-3]=round(xsol[2],4)\n",
    "    # df['obj'][train_len-3]=soln_dfols.f\n",
    "    try:\n",
    "        sol_out = simulate(soln_dfols.x,experiment_train,timeout = 60)\n",
    "        sol_full = simulate(soln_dfols.x,experiment,timeout = 60)\n",
    "        df['obj'][train_len-3]= np.linalg.norm(prediction_error(soln_dfols.x,data_train,experiment_train))\n",
    "        df['obj_full'][train_len-3] = np.linalg.norm(prediction_error(soln_dfols.x,dfe,experiment))\n",
    "        fig = plot_comp(sol_out,sol_full,dfe);\n",
    "        return df,fig\n",
    "    except:\n",
    "        print(\"Train Len = \"+str(train_len)+\" failed\")\n",
    "        fig, axes = plt.subplots(3,2,figsize=(7,7))\n",
    "        return df,fig"
   ]
  },
  {
   "cell_type": "code",
   "execution_count": null,
   "metadata": {},
   "outputs": [],
   "source": [
    "def objective(model, data):\n",
    "    return np.array(model.loc[data['N_mod']][\"Capacity [A.h]\"]) - np.array(data[\"Cap\"])\n",
    "\n",
    "def multi_objective(model, data):\n",
    "    variables = [\"C_n\",\"C_p\",\"x_100\",\"y_0\"]\n",
    "    # variables = [\"Capacity [A.h]\", \"C_n\"]\n",
    "    weights = [1,1,5,5]\n",
    "    return np.concatenate([\n",
    "        (np.array(model.loc[data['N_mod']][var]) - np.array(data[var])) * w\n",
    "        for w,var in zip(weights,variables)\n",
    "    ]\n",
    "    )\n",
    "@timeoutable()\n",
    "def simulate(x,expt):\n",
    "    parameter_values = get_parameter_values()\n",
    "    parameter_values.update(\n",
    "        {\n",
    "            \"SEI kinetic rate constant [m.s-1]\":  x[2]*k_sei[ic],\n",
    "            \"Positive electrode LAM constant proportional term [s-1]\": x[0]* blam_p[ic],\n",
    "            \"Negative electrode LAM constant proportional term [s-1]\": x[1]*blam_n[ic],\n",
    "            \"EC diffusivity [m2.s-1]\": 2e-18,\n",
    "            \"Positive electrode LAM constant exponential term\": 2,\n",
    "            \"Negative electrode LAM constant exponential term\": 2,\n",
    "            \"Negative electrode active material volume fraction\": eps_n_data,\n",
    "            \"Positive electrode active material volume fraction\": eps_p_data,\n",
    "        },\n",
    "        check_already_exists=False,\n",
    "    )\n",
    "    Cn = parameter_values.evaluate(param.C_n_init)\n",
    "    Cp = parameter_values.evaluate(param.C_p_init)\n",
    "    eps_n = parameter_values[\"Negative electrode active material volume fraction\"]\n",
    "    eps_p = parameter_values[\"Positive electrode active material volume fraction\"]\n",
    "    C_over_eps_n = Cn / eps_n\n",
    "    C_over_eps_p = Cp / eps_p\n",
    "    return cycle_adaptive_simulation(spm, parameter_values, expt,save_at_cycles=1)\n",
    "def prediction_error(x,data,expt):\n",
    "    try:\n",
    "        model = simulate(x,expt,timeout=60)\n",
    "        out = multi_objective(pd.DataFrame(model), data)\n",
    "        print(f\"x={x}, norm={np.linalg.norm(out)}\")\n",
    "    # except pybamm.SolverError:\n",
    "    except:\n",
    "        out = 10*np.ones_like(np.concatenate([np.array(data['Cap'])]*4))\n",
    "        print(f\"x={x}, norm={np.linalg.norm(out)}\")\n",
    "        return out\n",
    "    return out\n",
    "def train_model(data,expt):\n",
    "    timer = pybamm.Timer()\n",
    "    x0 = np.array([1.0,1.0,1.0])\n",
    "    # print(prediction_error(x0))\n",
    "    soln_dfols = dfols.solve(prediction_error, x0,args=(data,expt), rhoend=1e-3)\n",
    "    print(timer.time())\n",
    "    return soln_dfols\n",
    "def sim_train(dfe,experiment,df,train_len):\n",
    "    data_train = dfe.iloc[:train_len]\n",
    "    # experiment_train = pybamm.Experiment(\n",
    "    #     [\n",
    "    #         (\"Discharge at \"+c_rate_d+dis_set,\n",
    "    #         \"Rest for 5 min\",\n",
    "    #         \"Charge at \"+c_rate_c+\" until 4.2V\", \n",
    "    #         \"Hold at 4.2V until C/50\")\n",
    "    #     ] *data_train.N.iloc[-1],\n",
    "    #     termination=\"50% capacity\",\n",
    "    # #     cccv_handling=\"ode\",\n",
    "    # )\n",
    "    experiment_train=experiment\n",
    "    soln_dfols = train_model(data_train,experiment_train)\n",
    "    xsol = soln_dfols.x\n",
    "    # print(xsol[0]*2e-2/3600)\n",
    "    # print(xsol[1]*2e-1/3600)\n",
    "    # print(xsol[2]*1.6e-16)\n",
    "    df['train_len'][0]=train_len\n",
    "    df['x_0'][0]=round(xsol[0],4)\n",
    "    df['x_1'][0]=round(xsol[1],4)\n",
    "    # df['x_2'][0]=round(xsol[2],4)\n",
    "    df['obj'][0]=soln_dfols.f\n",
    "    try:\n",
    "        sol_out = simulate(soln_dfols.x,experiment_train,timeout = 60)\n",
    "        sol_full = simulate(soln_dfols.x,experiment,timeout = 60)\n",
    "        df['obj'][0]= np.linalg.norm(prediction_error(soln_dfols.x,data_train,experiment_train))\n",
    "        df['obj_full'][0] = np.linalg.norm(prediction_error(soln_dfols.x,dfe,experiment))\n",
    "        fig = plot_comp(sol_out,sol_full,dfe);\n",
    "        return df,fig\n",
    "    except:\n",
    "        print(\"Train Len = \"+str(train_len)+\" failed\")\n",
    "        fig, axes = plt.subplots(3,2,figsize=(7,7))\n",
    "        return df,fig"
   ]
  },
  {
   "cell_type": "code",
   "execution_count": null,
   "metadata": {},
   "outputs": [],
   "source": [
    "sim_des = \"cell_\"+cell_no\n",
    "timer1 = pybamm.Timer()\n",
    "train_len = len(N)\n",
    "# for train_len in range(3,len(N)):\n",
    "print(\"Train Length = {0}\".format(train_len))\n",
    "df_x,fig = sim_train(dfe,experiment,df_x,train_len)"
   ]
  }
 ],
 "metadata": {
  "kernelspec": {
   "display_name": "Python 3.9.7 64-bit ('windows-dev': venv)",
   "language": "python",
   "name": "python3"
  },
  "language_info": {
   "codemirror_mode": {
    "name": "ipython",
    "version": 3
   },
   "file_extension": ".py",
   "mimetype": "text/x-python",
   "name": "python",
   "nbconvert_exporter": "python",
   "pygments_lexer": "ipython3",
   "version": "3.9.7"
  },
  "orig_nbformat": 4,
  "vscode": {
   "interpreter": {
    "hash": "f09d3dac03808011dce2708ac4743ff9bfbc3811517b446239dd0644e1df0f4f"
   }
  }
 },
 "nbformat": 4,
 "nbformat_minor": 2
}
