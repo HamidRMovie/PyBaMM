{
 "cells": [
  {
   "cell_type": "markdown",
   "metadata": {},
   "source": [
    "# Analyse SEI Parameter Sensitivity Errors wrt Baseline Sim"
   ]
  },
  {
   "cell_type": "code",
   "execution_count": null,
   "metadata": {},
   "outputs": [],
   "source": [
    "import pybamm\n",
    "import matplotlib.pyplot as plt\n",
    "import numpy as np\n",
    "import pandas as pd\n",
    "import math\n",
    "import dfols\n",
    "import signal\n",
    "from scipy.integrate import solve_ivp\n",
    "from scipy.fft import fft, fftfreq, fftshift\n",
    "from scipy.signal import savgol_filter\n",
    "from scipy.signal import find_peaks\n",
    "from scipy import interpolate\n",
    "from stopit import threading_timeoutable as timeoutable\n",
    "import os, sys\n",
    "sys.path.append(os.path.dirname(os.path.dirname(os.path.abspath(\"__file__\"))))\n",
    "from batfuns import *\n",
    "plt.rcParams = set_rc_params(plt.rcParams)\n",
    "\n",
    "eSOH_DIR = \"../data/esoh_V/\"\n",
    "oCV_DIR = \"../data/ocv/\"\n",
    "fig_DIR = \"../figures/figures_sens/\"\n",
    "res_DIR = \"../data/results_sens/\""
   ]
  },
  {
   "cell_type": "code",
   "execution_count": null,
   "metadata": {},
   "outputs": [],
   "source": [
    "file = 'sens_accl_T_0_k_0_D_0.csv'\n",
    "df_base = dft = pd.read_csv(res_DIR+file,on_bad_lines='skip',low_memory=False)\n",
    "df_base=df_base.iloc[::20]\n",
    "df_base=df_base.reset_index()"
   ]
  },
  {
   "cell_type": "code",
   "execution_count": null,
   "metadata": {},
   "outputs": [],
   "source": [
    "Temp = [25,45,-5]\n",
    "k_sei = [1,1/1.5,1.5,1/2,2,1/3,3,1/10,10]\n",
    "d_sei = [1,1e-1,1e1,1e-2,1e2,1e-3,1e3,1e-4,1e4]"
   ]
  },
  {
   "cell_type": "code",
   "execution_count": null,
   "metadata": {},
   "outputs": [],
   "source": [
    "Temp_idx=''\n",
    "ksei_idx='0'\n",
    "dsei_idx='0'\n",
    "sim_des = 'sens_accl'\n",
    "T_name = 'T_{0}'.format(Temp_idx)\n",
    "k_name = 'k_{0}'.format(ksei_idx)\n",
    "D_name = 'D_{0}'.format(dsei_idx)\n",
    "dfl = {}\n",
    "i=0\n",
    "for file in os.listdir(res_DIR):\n",
    "    if sim_des in file and \".csv\" in file and T_name in file and k_name in file and D_name in file:\n",
    "        print(file)\n",
    "        # ldc_files.append(file)\n",
    "        dft = pd.read_csv(res_DIR+file,on_bad_lines='skip',low_memory=False)\n",
    "        dft=dft.iloc[::20]\n",
    "        dft=dft.reset_index()\n",
    "        dfl[i]=dft\n",
    "        i+=1"
   ]
  },
  {
   "cell_type": "code",
   "execution_count": null,
   "metadata": {},
   "outputs": [],
   "source": [
    "dfl_m = {}\n",
    "i=0\n",
    "for file in os.listdir(res_DIR):\n",
    "    if sim_des in file and \".csv\" in file and T_name in file and k_name in file and D_name in file:\n",
    "        # print(file)\n",
    "        # ldc_files.append(file)\n",
    "        dft = pd.read_csv(res_DIR+file,on_bad_lines='skip',low_memory=False)\n",
    "        dft=dft.iloc[::20]\n",
    "        dft=dft.reset_index()\n",
    "        if i>0:\n",
    "            len_diff = len(df_base)-len(dft)\n",
    "            # print(len_diff)\n",
    "            if len_diff>0:\n",
    "                df_r1 = pd.concat([dft.iloc[[-1]]]*len_diff, ignore_index=True)\n",
    "                dft = pd.concat([dft,df_r1], ignore_index=True)\n",
    "                dft['Cycle number']=df_base['Cycle number']\n",
    "        dfl_m[i]=dft\n",
    "        i+=1"
   ]
  },
  {
   "cell_type": "code",
   "execution_count": null,
   "metadata": {},
   "outputs": [],
   "source": [
    "k_sei_s = [f'{x:0.2f}' for x in k_sei]\n",
    "d_sei_s = [str(x) for x in d_sei]\n",
    "Temp_s = [str(x) for x in Temp]"
   ]
  },
  {
   "cell_type": "markdown",
   "metadata": {},
   "source": [
    "# Plot eSOH vars"
   ]
  },
  {
   "cell_type": "code",
   "execution_count": null,
   "metadata": {},
   "outputs": [],
   "source": [
    "esoh_vars = [\"x_100\", \"y_0\", \"C_n\", \"C_p\", \"Capacity [A.h]\", \"Loss of lithium inventory [%]\",\"Local ECM resistance [Ohm]\",\"X-averaged SEI thickness [m]\"]\n",
    "esoh_vars_str = [\"x_100\", \"y_0\", \"C_n\", \"C_p\", \"cap\", \"LLI\",\"res\",\"sei\"]\n",
    "for ev_num in range(len(esoh_vars)):\n",
    "    fig, ax = plt.subplots(1,1,figsize=(3,3))\n",
    "    col = ['k','g','b','r','c']\n",
    "    col_idx = [x // 2 +1 for x in range(-1,8)]\n",
    "    mar_idx = [x % 2 for x in range(-1,8)]\n",
    "    mar_idx[0]=2\n",
    "    mar = [u'v',u'P',u'x']\n",
    "    for k in range(len(dfl)):\n",
    "        ax.plot(dfl[k]['Cycle number'],dfl[k][esoh_vars[ev_num]],color=col[col_idx[k]],marker=mar[mar_idx[k]])\n",
    "        ax.set_title(split_long_string(esoh_vars[ev_num]))\n",
    "    # fig.legend(Temp_s, \n",
    "    #            loc=\"lower center\",bbox_to_anchor=[0.5,-0.3], ncol=3, fontsize=11)\n",
    "    plt.savefig(fig_DIR+'sens_T_{0}_k_{1}_D_{2}'.format(Temp_idx,ksei_idx,dsei_idx)+'_comp_'+esoh_vars_str[ev_num]+'.png')"
   ]
  },
  {
   "cell_type": "markdown",
   "metadata": {},
   "source": [
    "# Calculate RMSE"
   ]
  },
  {
   "cell_type": "code",
   "execution_count": null,
   "metadata": {},
   "outputs": [],
   "source": [
    "esoh_vars = [\"x_100\", \"y_0\", \"C_n\", \"C_p\", \"Capacity [A.h]\", \"Loss of lithium inventory [%]\",\"Local ECM resistance [Ohm]\",\"X-averaged SEI thickness [m]\"]\n",
    "esoh_vars_str = [\"x_100\", \"y_0\", \"C_n\", \"C_p\", \"cap\", \"LLI\",\"res\",\"sei\"]\n",
    "for ev_num in range(len(esoh_vars)):\n",
    "    print([esoh_vars[ev_num]])\n",
    "    rmse_stats = []\n",
    "    for k in range(len(dfl)):\n",
    "        rmse_t=((dfl_m[k][esoh_vars[ev_num]] - df_base[esoh_vars[ev_num]]) ** 2).mean() ** .5\n",
    "        rmse_stats.append(rmse_t)\n",
    "    print(rmse_stats)"
   ]
  }
 ],
 "metadata": {
  "kernelspec": {
   "display_name": "Python 3.9.7 ('windows-dev': venv)",
   "language": "python",
   "name": "python3"
  },
  "language_info": {
   "codemirror_mode": {
    "name": "ipython",
    "version": 3
   },
   "file_extension": ".py",
   "mimetype": "text/x-python",
   "name": "python",
   "nbconvert_exporter": "python",
   "pygments_lexer": "ipython3",
   "version": "3.9.7"
  },
  "orig_nbformat": 4,
  "vscode": {
   "interpreter": {
    "hash": "fe6e1a396f7757d05554318f98bb2d7e7d3785df9fdbcce0707f057fad4349a9"
   }
  }
 },
 "nbformat": 4,
 "nbformat_minor": 2
}
