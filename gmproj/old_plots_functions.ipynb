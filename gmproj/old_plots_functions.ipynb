{
 "cells": [
  {
   "cell_type": "markdown",
   "metadata": {},
   "source": [
    "# Old Plots"
   ]
  },
  {
   "cell_type": "code",
   "execution_count": null,
   "metadata": {},
   "outputs": [],
   "source": [
    "t = sol[\"Time [min]\"].entries\n",
    "cell_thickness = sol[\"Cell thickness change [m]\"].entries\n",
    "cell_thickness_n = sol[\"Negative Electrode thickness change [m]\"].entries\n",
    "cell_thickness_p = sol[\"Positive Electrode thickness change [m]\"].entries\n",
    "plt.figure()\n",
    "plt.plot(t,cell_thickness,'k')\n",
    "plt.plot(t,cell_thickness_n,'b--')\n",
    "plt.plot(t,cell_thickness_p,'r--')\n",
    "plt.legend(['Total' , 'Neg'  , 'Pos'])\n",
    "plt.xlim(left=0)\n",
    "plt.xlabel('Time [min]')\n",
    "plt.ylabel('Expansion [m]')\n",
    "plt.title('Cell Expansion for C/5 Discharge/Charge');\n",
    "plt.savefig('exp plot.png')"
   ]
  },
  {
   "cell_type": "code",
   "execution_count": null,
   "metadata": {},
   "outputs": [],
   "source": [
    "cs_avg_n = sol[\"Average negative particle concentration\"].entries\n",
    "cs_avgr_n = sol[\"R-averaged negative particle concentration\"].entries\n",
    "cs_avg_p = sol[\"Average positive particle concentration\"].entries\n",
    "cs_avgr_p = sol[\"R-averaged positive particle concentration\"].entries\n",
    "plt.figure()\n",
    "plt.plot(t,cs_avg_n,'b')\n",
    "plt.plot(t,cs_avgr_n[0,:],'--')\n",
    "plt.plot(t,cs_avg_p,'r')\n",
    "plt.plot(t,cs_avgr_p[0,:],'--')\n",
    "plt.xlim(left=0)\n",
    "plt.xlabel('Time [min]')\n",
    "plt.ylabel('Conc [mol.m-3]')\n",
    "plt.title('Avg Conc vs Time')"
   ]
  },
  {
   "cell_type": "code",
   "execution_count": null,
   "metadata": {},
   "outputs": [],
   "source": [
    "quick_plot =pybamm.QuickPlot(sol, figsize=(14,7),output_variables=\n",
    "['Negative particle surface concentration [mol.m-3]','R-averaged negative particle concentration [mol.m-3]'])\n",
    "quick_plot.dynamic_plot();"
   ]
  },
  {
   "cell_type": "markdown",
   "metadata": {},
   "source": [
    "# Plot Expansion Function"
   ]
  },
  {
   "cell_type": "code",
   "execution_count": null,
   "metadata": {},
   "outputs": [],
   "source": [
    "def graphite_volume_change(sto):\n",
    "    a = 0.50\n",
    "    b = 0.24\n",
    "    c = 0.18 \n",
    "    d = 0.12\n",
    "    t_change = (\n",
    "        (0 <= sto and sto < d)*(2.4060/d*sto)+\n",
    "        (d <= sto and sto < c)*(-(2.4060-3.3568)/(c-d)*(sto-d)+2.4060)+\n",
    "        (c <= sto and sto < b)*(-(3.3568-4.3668)/(b-c)*(sto-c)+3.3568)+\n",
    "        (b <= sto and sto < a)*(-(4.3668-5.5830)/(a-b)*(sto-b)+4.3668)+\n",
    "        (a <= sto and sto <= 1)*(-(5.583-13.0635)/(1-a)*(sto-a)+5.583)\n",
    "    )\n",
    "    t_change = t_change/100\n",
    "    return t_change\n",
    "sto = np.linspace(0,1,100)\n",
    "yout = np.zeros(len(sto))\n",
    "yout1 = np.zeros(len(sto))\n",
    "for i in range(len(sto)):\n",
    "    yout[i] = graphite_volume_change(sto[i])\n",
    "    yout1[i] = graphite_volume_change_mohtat(sto[i]).evaluate()\n",
    "plt.figure()\n",
    "plt.plot(sto,yout)\n",
    "plt.plot(sto,yout1,'--')\n",
    "plt.xlim([0,1])\n",
    "plt.legend(['Matlab','PyBaMM Interpolant'])\n",
    "plt.xlabel('Stoich')\n",
    "plt.ylabel('Volumetric Strain')\n",
    "plt.title('Graphite Vol Strain Function')\n",
    "plt.savefig('exp_func')"
   ]
  },
  {
   "cell_type": "markdown",
   "metadata": {},
   "source": [
    "# Older versions of the Expansion functions which don't work in PyBaMM but work outside of it"
   ]
  },
  {
   "cell_type": "code",
   "execution_count": null,
   "metadata": {},
   "outputs": [],
   "source": [
    "\n",
    "def graphite_volume_change(sto):\n",
    "    a = 0.50\n",
    "    b = 0.24\n",
    "    c = 0.18 \n",
    "    d = 0.12\n",
    "    t_change = 0\n",
    "    if sto < d:\n",
    "        t_change = 2.4060/d*sto\n",
    "    elif d <= sto and sto < c:\n",
    "        t_change = -(2.4060-3.3568)/(c-d)*(sto-d)+2.4060\n",
    "    elif c <= sto and sto < b:\n",
    "        t_change = -(3.3568-4.3668)/(b-c)*(sto-c)+3.3568\n",
    "    elif b <= sto and sto < a:\n",
    "        t_change = -(4.3668-5.583)/(a-b)*(sto-b)+4.3668\n",
    "    elif a <= sto:\n",
    "        t_change = -(5.583-13.0635)/(1-a)*(sto-a)+5.583\n",
    "    t_change = t_change/100\n",
    "    return t_change\n",
    "\n",
    "def graphite_volume_change(sto):\n",
    "    a = 0.50\n",
    "    b = 0.24\n",
    "    c = 0.18 \n",
    "    d = 0.12\n",
    "    t_change = (\n",
    "        (0 <= sto and sto < d)*(2.4060/d*sto)+\n",
    "        (d <= sto and sto < c)*(-(2.4060-3.3568)/(c-d)*(sto-d)+2.4060)+\n",
    "        (c <= sto and sto < b)*(-(3.3568-4.3668)/(b-c)*(sto-c)+3.3568)+\n",
    "        (b <= sto and sto < a)*(-(4.3668-5.5830)/(a-b)*(sto-b)+4.3668)+\n",
    "        (a <= sto and sto <= 1)*(-(5.583-13.0635)/(1-a)*(sto-a)+5.583)\n",
    "    )\n",
    "    t_change = t_change/100\n",
    "    return t_change"
   ]
  }
 ],
 "metadata": {
  "language_info": {
   "name": "python"
  },
  "orig_nbformat": 4
 },
 "nbformat": 4,
 "nbformat_minor": 2
}
