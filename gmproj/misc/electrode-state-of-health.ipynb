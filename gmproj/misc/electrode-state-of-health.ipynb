{
 "cells": [
  {
   "cell_type": "markdown",
   "metadata": {},
   "source": [
    "# Electrode State of Health"
   ]
  },
  {
   "cell_type": "markdown",
   "metadata": {},
   "source": [
    "This notebook demonstrates some utilities to work with electrode State of Health (also sometimes called electrode stoichiometry), using the algorithm from Mohtat et al [1]\n",
    "\n",
    "[1] Mohtat, P., Lee, S., Siegel, J. B., & Stefanopoulou, A. G. (2019). Towards better estimability of electrode-specific state of health: Decoding the cell expansion. Journal of Power Sources, 427, 101-111."
   ]
  },
  {
   "cell_type": "code",
   "execution_count": null,
   "metadata": {},
   "outputs": [],
   "source": [
    "import pybamm\n",
    "import matplotlib.pyplot as plt\n",
    "import numpy as np\n",
    "import pandas\n",
    "import pickle\n",
    "import os.path"
   ]
  },
  {
   "cell_type": "code",
   "execution_count": null,
   "metadata": {},
   "outputs": [],
   "source": [
    "XLS_FILE='GMJuly2022_CELL067_RPT_1_P25C_5P0PSI_20220912_R0_CH012.csv_20220912211108_36_2_4_2818579440.xlsx'\n",
    "VDF_FILE='GMJuly2022_CELL067_RPT_1_P25C_5P0PSI_20220912_R0_CH012.csv'\n",
    "\n",
    "\n",
    "\n",
    "file_exists = os.path.exists(XLS_FILE[0:-5]+\".p\")\n",
    "if file_exists:\n",
    "    neware_data_df=pickle.load( open( XLS_FILE[0:-5]+\".p\", \"rb\" ) )\n",
    "else:\n",
    "    neware_data_df = pandas.read_excel(XLS_FILE, sheet_name='record')\n",
    "    neware_data_df['Time'] =  pandas.to_datetime(neware_data_df['Time'],format='%H:%M:%S.%f')\n",
    "    pickle.dump( neware_data_df, open( XLS_FILE[0:-5]+\".p\", \"wb\" ) )\n"
   ]
  },
  {
   "cell_type": "code",
   "execution_count": null,
   "metadata": {},
   "outputs": [],
   "source": [
    "import datetime\n",
    "times=neware_data_df['Total Time'].values\n",
    "#A=times[222]\n",
    "#B=[int(x) for x in A.split(':')]\n",
    "# get hours, minutes and seconds\n",
    "tm1 = [x.split(':') for x in times]\n",
    "# convert to timedelta\n",
    "#tm2 = [datetime.timedelta(hours=int(x[0]), minutes=int(x[1]), seconds=int(x[2])) for x in tm1]\n",
    "tm2 = [60*(60*int(x[0])+int(x[1]))+float(x[2]) for x in tm1]\n",
    "neware_data_df['Total Time']=tm2\n",
    "\n",
    "neware_data_df.sort_values(\"Total Time\", inplace=True)\n",
    "neware_data_df.drop_duplicates(subset=[\"Total Time\"],inplace=True)\n",
    "starttime_index=neware_data_df[neware_data_df[\"Current(A)\"].lt(0)].index[0]-100\n",
    "\n",
    "data_time=neware_data_df.loc[starttime_index:,\"Total Time\"].values\n",
    "data_voltage=neware_data_df.loc[starttime_index:,\"Voltage(V)\"].values\n",
    "data_current=neware_data_df.loc[starttime_index:,\"Current(A)\"].values\n",
    "#data_time.head(10)\n",
    "res = all(i < j for i, j in zip(data_time, data_time[1:]))\n",
    " \n",
    "# printing result\n",
    "print (\"Is list strictly increasing ? : \" + str(res))\n",
    "\n",
    "neware_data_df.plot(x='Total Time',y='Voltage(V)')\n",
    "#expansion_data.plot(x='Timestamp',y='LDC SENSOR')\n",
    "\n",
    "%matplotlib widget\n",
    "plt.plot(data_time,data_current)"
   ]
  },
  {
   "cell_type": "markdown",
   "metadata": {},
   "source": [
    "## Create and solve model"
   ]
  },
  {
   "cell_type": "code",
   "execution_count": null,
   "metadata": {},
   "outputs": [],
   "source": []
  },
  {
   "cell_type": "code",
   "execution_count": null,
   "metadata": {},
   "outputs": [],
   "source": [
    "spm = pybamm.lithium_ion.SPM()\n",
    "experiment = pybamm.Experiment([\n",
    "    \"Charge at 1C until 4.2V\", \n",
    "    \"Hold at 4.2V until C/50\",\n",
    "    \"Discharge at 1C until 2.8V\",\n",
    "    \"Hold at 2.8V until C/50\",\n",
    "])\n",
    "parameter_values = pybamm.ParameterValues(\"Siegel2022\")\n",
    "#(\"Mohtat2020\")\n",
    "\n",
    "sim = pybamm.Simulation(spm, experiment=experiment, parameter_values=parameter_values)\n",
    "spm_sol = sim.solve()\n",
    "spm_sol.plot([\n",
    "    \"Terminal voltage [V]\", \n",
    "    \"Current [A]\", \n",
    "    \"Negative electrode SOC\",\n",
    "    \"Positive electrode SOC\",\n",
    "])"
   ]
  },
  {
   "cell_type": "markdown",
   "metadata": {},
   "source": [
    "## Solve for electrode SOH variables"
   ]
  },
  {
   "cell_type": "markdown",
   "metadata": {},
   "source": [
    "Given a total amount of lithium, $n_{Li}$, electrode capacities, $C_n$ and $C_p$, and voltage limits, $V_{min}$ and $V_{max}$, we can solve for the min and max electrode SOCs, $x_0$, $x_{100}$, $y_0$, and $y_{100}$,  and the cell capacity, $C$, using the algorithm from Mohtat et al [1].\n",
    "First, we find $x_{100}$ and $y_{100}$ using\n",
    "$$\n",
    "\\begin{align}\n",
    "n_{Li} &= \\frac{3600}{F}(y_{100}C_p + x_{100}C_n),\n",
    "\\\\\n",
    "V_{max} &= U_p(y_{100}) - U_n(x_{100}).\n",
    "\\end{align}\n",
    "$$\n",
    "Then, we find $C$ using\n",
    "$$\n",
    "\\begin{align}\n",
    "V_{min} &= U_p(y_{0}) - U_n(x_{0})\n",
    "\\\\\n",
    "&= U_p\\left(y_{100} + \\frac{C}{C_p}\\right) - U_n\\left(x_{100} - \\frac{C}{C_n}\\right)\n",
    "\\end{align}\n",
    "$$\n",
    "Finally, $x_0$ and $y_0$ are simply defined as\n",
    "$$\n",
    "\\begin{align}\n",
    "x_0 &= x_{100} - \\frac{C}{C_n},\n",
    "\\\\\n",
    "y_0 &= y_{100} + \\frac{C}{C_p}.\n",
    "\\end{align}\n",
    "$$\n",
    "We implement this in pybamm as an algebraic model."
   ]
  },
  {
   "cell_type": "code",
   "execution_count": null,
   "metadata": {},
   "outputs": [],
   "source": [
    "param = pybamm.LithiumIonParameters()\n",
    "\n",
    "Vmin = 2.8\n",
    "Vmax = 4.2\n",
    "Cn = parameter_values.evaluate(param.n.cap_init)\n",
    "Cp = parameter_values.evaluate(param.p.cap_init)\n",
    "n_Li = parameter_values.evaluate(param.n_Li_particles_init)\n",
    "\n",
    "Un = param.n.prim.U_dimensional\n",
    "Up = param.p.prim.U_dimensional\n",
    "T_ref = param.T_ref"
   ]
  },
  {
   "cell_type": "code",
   "execution_count": null,
   "metadata": {},
   "outputs": [],
   "source": [
    "# First we solve for x_100 and y_100\n",
    "\n",
    "model = pybamm.BaseModel()\n",
    "\n",
    "x_100 = pybamm.Variable(\"x_100\")\n",
    "y_100 = (n_Li * param.F / 3600 - x_100 * Cn) / Cp\n",
    "\n",
    "y_100_min = 1e-10\n",
    "\n",
    "x_100_upper_limit = ((n_Li * param.F) / 3600 - y_100_min*Cp)/Cn\n",
    "\n",
    "if not isinstance(x_100_upper_limit, float):\n",
    "    x_100_upper_limit = x_100_upper_limit.value\n",
    "    \n",
    "x_100_upper_limit = min(x_100_upper_limit, 1-1e-10)\n",
    "\n",
    "\n",
    "Vmax_init = parameter_values.evaluate(Up(y_100_min, T_ref)) - parameter_values.evaluate(Un(x_100_upper_limit, T_ref))\n",
    "Vmin_init = parameter_values.evaluate(Up(y_100_min + 1, T_ref)) - parameter_values.evaluate(Un(x_100_upper_limit - Cp/Cn, T_ref))\n",
    "\n",
    "\n",
    "if isinstance(parameter_values[\"Positive electrode OCP [V]\"], tuple):\n",
    "    # if data is provided for the Positive (or Negative) electrode OCP [V] \n",
    "    # the intial conditions must be within the bounds of this data to prevent extrapolation errors\n",
    "    y_100_min = np.min(parameter_values[\"Positive electrode OCP [V]\"][1][1])\n",
    "    x_100_upper_limit = (n_Li * pybamm.constants.F.value / 3600 - y_100_min * Cp) / Cn\n",
    "\n",
    "    V_lower_bound = min(parameter_values[\"Positive electrode OCP [V]\"][1][1]) - parameter_values[\"Negative electrode OCP [V]\"](x_100_upper_limit).evaluate()\n",
    "    V_upper_bound = max(parameter_values[\"Positive electrode OCP [V]\"][1][1]) - parameter_values[\"Negative electrode OCP [V]\"](x_100_upper_limit).evaluate()\n",
    "\n",
    "    if Vmin_init[0][0] < V_lower_bound:\n",
    "        raise(ValueError(\"Initial voltage is outside bounds of OCP data in parameter set. Revise initial values.\"))\n",
    "\n",
    "    if Vmax_init[0][0] > V_upper_bound:\n",
    "        raise(ValueError(\"Initial voltage is outside bounds of OCP data in parameter set. Revise initial values.\"))\n",
    "\n",
    "\n",
    "model.algebraic = {\n",
    "    x_100: Up(y_100, T_ref) - Un(x_100, T_ref) - Vmax + 1e5*(y_100<0) + 1e5*(x_100>1),\n",
    "}\n",
    "    \n",
    "model.initial_conditions = {\n",
    "    x_100: x_100_upper_limit\n",
    "}\n",
    "\n",
    "model.variables = {\n",
    "    \"x_100\": x_100,\n",
    "    \"y_100\": y_100\n",
    "}\n",
    "\n",
    "\n",
    "sim = pybamm.Simulation(model, parameter_values=parameter_values)\n",
    "\n",
    "sol = sim.solve([0])\n",
    "\n",
    "x_100 = sol[\"x_100\"].data[0]\n",
    "y_100 = sol[\"y_100\"].data[0]\n",
    "\n",
    "for var in [\"x_100\", \"y_100\"]:\n",
    "    print(var, \":\", sol[var].data[0])\n",
    "\n",
    "# Based on the calculated values for x_100 and y_100 we solve for C\n",
    "model = pybamm.BaseModel()\n",
    "\n",
    "C = pybamm.Variable(\"C\")\n",
    "x_0 = x_100 - C/Cn\n",
    "y_0 = y_100 + C/Cp\n",
    "\n",
    "model.algebraic = {\n",
    "    C: Up(y_0, T_ref) - Un(x_0, T_ref) - Vmin\n",
    "}\n",
    "\n",
    "model.initial_conditions = {C: pybamm.minimum(Cn * x_100 - 0.1, param.Q)}\n",
    "\n",
    "model.variables = {\n",
    "    \"C\": C,\n",
    "    \"x_0\": x_0,\n",
    "    \"y_0\": y_0,\n",
    "}\n",
    "\n",
    "sim = pybamm.Simulation(model, parameter_values=parameter_values)\n",
    "sol = sim.solve([0])\n",
    "\n",
    "\n",
    "for var in [\"C\", \"x_0\", \"y_0\"]:\n",
    "    print(var, \":\", sol[var].data[0])"
   ]
  },
  {
   "cell_type": "markdown",
   "metadata": {},
   "source": [
    "This is implemented in PyBaMM as the `ElectrodeSOHSolver` class"
   ]
  },
  {
   "cell_type": "code",
   "execution_count": null,
   "metadata": {},
   "outputs": [],
   "source": [
    "esoh_solver = pybamm.lithium_ion.ElectrodeSOHSolver(parameter_values, param)\n",
    "\n",
    "inputs={ \"V_min\": Vmin, \"V_max\": Vmax, \"C_n\": Cn, \"C_p\": Cp, \"n_Li\": n_Li}\n",
    "\n",
    "esoh_sol = esoh_solver.solve(inputs)\n",
    "\n",
    "for var in [\"x_100\", \"y_100\", \"C\", \"x_0\", \"y_0\"]:\n",
    "    print(var, \":\", esoh_sol[var].data[0])"
   ]
  },
  {
   "cell_type": "markdown",
   "metadata": {},
   "source": [
    "## Check against simulations"
   ]
  },
  {
   "cell_type": "markdown",
   "metadata": {},
   "source": [
    "Plotting the SPM simulations against the eSOH calculations validates the min/max stoichiometry calculations"
   ]
  },
  {
   "cell_type": "code",
   "execution_count": null,
   "metadata": {},
   "outputs": [],
   "source": [
    "t = spm_sol[\"Time [h]\"].data\n",
    "x_spm = spm_sol[\"Negative electrode SOC\"].data\n",
    "y_spm = spm_sol[\"Positive electrode SOC\"].data\n",
    "\n",
    "x_0 = esoh_sol[\"x_0\"].data * np.ones_like(t)\n",
    "y_0 = esoh_sol[\"y_0\"].data * np.ones_like(t)\n",
    "x_100 = esoh_sol[\"x_100\"].data * np.ones_like(t)\n",
    "y_100 = esoh_sol[\"y_100\"].data * np.ones_like(t)\n",
    "\n",
    "fig, axes = plt.subplots(1,2)\n",
    "\n",
    "axes[0].plot(t, x_spm, \"b\")\n",
    "axes[0].plot(t, x_0, \"k:\")\n",
    "axes[0].plot(t, x_100, \"k:\")\n",
    "axes[0].set_ylabel(\"x\")\n",
    "    \n",
    "axes[1].plot(t, y_spm, \"r\")\n",
    "axes[1].plot(t, y_0, \"k:\")\n",
    "axes[1].plot(t, y_100, \"k:\")\n",
    "axes[1].set_ylabel(\"y\")\n",
    "    \n",
    "for k in range(2):\n",
    "    axes[k].set_xlim([t[0],t[-1]])\n",
    "    axes[k].set_ylim([0,1])    \n",
    "    axes[k].set_xlabel(\"Time [h]\")\n",
    "    \n",
    "fig.tight_layout()\n"
   ]
  },
  {
   "cell_type": "markdown",
   "metadata": {},
   "source": [
    "## References\n",
    "\n",
    "The relevant papers for this notebook are:"
   ]
  },
  {
   "cell_type": "code",
   "execution_count": null,
   "metadata": {},
   "outputs": [],
   "source": [
    "pybamm.print_citations()"
   ]
  }
 ],
 "metadata": {
  "kernelspec": {
   "display_name": "Python 3.9.7 ('windows-dev': venv)",
   "language": "python",
   "name": "python3"
  },
  "language_info": {
   "codemirror_mode": {
    "name": "ipython",
    "version": 3
   },
   "file_extension": ".py",
   "mimetype": "text/x-python",
   "name": "python",
   "nbconvert_exporter": "python",
   "pygments_lexer": "ipython3",
   "version": "3.9.7"
  },
  "toc": {
   "base_numbering": 1,
   "nav_menu": {},
   "number_sections": true,
   "sideBar": true,
   "skip_h1_title": false,
   "title_cell": "Table of Contents",
   "title_sidebar": "Contents",
   "toc_cell": false,
   "toc_position": {},
   "toc_section_display": true,
   "toc_window_display": true
  },
  "vscode": {
   "interpreter": {
    "hash": "fe6e1a396f7757d05554318f98bb2d7e7d3785df9fdbcce0707f057fad4349a9"
   }
  }
 },
 "nbformat": 4,
 "nbformat_minor": 4
}
